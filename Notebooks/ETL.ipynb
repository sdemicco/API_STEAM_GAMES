{
 "cells": [
  {
   "cell_type": "markdown",
   "id": "31384898",
   "metadata": {},
   "source": [
    "# **Extracción Transformacion y Carga de datos (ETL)**"
   ]
  },
  {
   "cell_type": "markdown",
   "id": "2d42bf72",
   "metadata": {},
   "source": [
    "#### Importación de librerias necesarias"
   ]
  },
  {
   "cell_type": "code",
   "execution_count": 5,
   "id": "03320e01",
   "metadata": {},
   "outputs": [],
   "source": [
    "%config Completer.use_jedi = False\n",
    "import gzip\n",
    "import pandas as pd\n",
    "import numpy as np\n",
    "import json\n",
    "from pandas import json_normalize\n",
    "import ast\n",
    "import nltk\n",
    "#nltk.download('vader_lexicon')\n",
    "#nltk.download('punkt')\n",
    "from nltk.sentiment.vader import SentimentIntensityAnalyzer\n",
    "pd.set_option('display.max_colwidth', 200)\n",
    "pd.set_option('max_columns', None)\n",
    "pd.set_option('max_rows', 30)\n",
    "pd.options.display.max_columns"
   ]
  },
  {
   "cell_type": "markdown",
   "id": "ad941d98",
   "metadata": {},
   "source": [
    "## indice "
   ]
  },
  {
   "cell_type": "markdown",
   "id": "47ebd7bc",
   "metadata": {},
   "source": [
    "1. Introducción.\n",
    "\n",
    "2. Descripción de archivos.\n",
    "\n",
    "3. Ingesta de datos.\n",
    "\n",
    "    3.1 Funciones para lectura y acondicionamiento de datos.\n",
    "\n",
    "4. Exploracion de datos, limpieza y trasnsformaciones.\n",
    "\n",
    "    4.1 archivo 1: user_reviews.json.gz\n",
    "    \n",
    "    4.2 archivo 2: users_items.json.gz\n",
    "    \n",
    "    4.3 archivo 3:steam_games.json.gz\n",
    "    \n",
    "5. Generacion de datasets para las funciones.\n",
    "    \n",
    "    5.1 Df Función 1.\n",
    "    \n",
    "    5.2 Df Función 2.\n",
    "    \n",
    "    5.3 Df Función 3.\n",
    "    \n",
    "    5.4 Df Función 4.\n",
    "    \n",
    "    5.5 Df Función 5.\n",
    "    \n",
    "    5.6 Df Función 6."
   ]
  },
  {
   "cell_type": "markdown",
   "id": "aab5ecf5",
   "metadata": {},
   "source": [
    "## 1. Introducción.<a name=\"id1\"></a>\n",
    "***\n",
    "Esta notebook contiene un analisis exploratorio de datos de descripción, consumo y reseñas de videjuegos de la plataforma steam games.<br> \n",
    "El objetivo es realizar la limpieza, normalizacion y transformaciones de datos para construir los datasets que necesitaré para desarrollar las funciones que seran consumidas en la aplicación final que disponibilizará los datos. \n"
   ]
  },
  {
   "cell_type": "markdown",
   "id": "720e83ea",
   "metadata": {},
   "source": [
    "## 2.  Descripción de Archivos: <a name=\"id2\"></a>\n",
    "***\n",
    "- **steam_games.json.gz**: Contiene informacion descriptiva de cada item, como por ejemplo: precio, desarrollador, etc.\n",
    "- **users_items.json.gz**: Contiene por usuario cantidad de items que compró, y tiempo de juego por item.\n",
    "- **user_reviews.json.gz**: Contiene reseñas que realizaron usuarios para determinados items que compraron."
   ]
  },
  {
   "cell_type": "markdown",
   "id": "5d8f7792",
   "metadata": {},
   "source": [
    "## 3. Ingesta de datos:<a name=\"id3\"></a>\n",
    "***\n",
    "### 3.1 Funciones para lectura y acondicionamiento de archivos.\n"
   ]
  },
  {
   "cell_type": "code",
   "execution_count": 6,
   "id": "42fd4a15",
   "metadata": {},
   "outputs": [],
   "source": [
    "# Funcionn creada para leer un archivo en formato gzip que contiene datos en formato JSON, decodificarlos y convertirlos en un DataFrame de pandas.\n",
    "\n",
    "def leer_archivo (path):\n",
    "    info = []\n",
    "    for i in gzip.open(path):\n",
    "        info.append(ast.literal_eval(i.decode('utf-8')))\n",
    "    df = pd.DataFrame(info)\n",
    "    return df\n"
   ]
  },
  {
   "cell_type": "code",
   "execution_count": 7,
   "id": "eb692e03",
   "metadata": {},
   "outputs": [],
   "source": [
    "# Funcion creada para desanidar una columna anidada en un DataFrame de pandas.\n",
    "\n",
    "def desanidar_archivo(df,columna_anidada):\n",
    "    \n",
    "    # explode sobre columna anidada\n",
    "    df_exp=df.explode(columna_anidada)\n",
    "    #df_exp.dropna(how='all',inplace=True)\n",
    "    \n",
    "    # normalizaciond de columna anidada\n",
    "    normalizado = pd.json_normalize(df_exp[columna_anidada].replace(np.nan, None))\n",
    "    normalizado.reset_index(inplace=True,drop=True)\n",
    "    \n",
    "    #concatenacion\n",
    "    df_exp.reset_index(inplace=True,drop=True)\n",
    "    df_salida = pd.concat([df_exp,normalizado], axis=1)\n",
    "    \n",
    "    #elimino la columna anidad reviews\n",
    "    df_salida = df_salida.drop(columns = [columna_anidada])\n",
    "    return df_salida"
   ]
  },
  {
   "cell_type": "markdown",
   "id": "345d4479",
   "metadata": {},
   "source": [
    "## 4. Exploracion de datos, limpieza y transformaciones. <a name=\"id4\"></a>\n",
    "***"
   ]
  },
  {
   "cell_type": "markdown",
   "id": "2d320ee4",
   "metadata": {},
   "source": [
    "###   4.1 Archivo 1: **user_reviews.json.gz** <a name=\"id5\"></a>\n",
    "***"
   ]
  },
  {
   "cell_type": "markdown",
   "id": "438e8ef6",
   "metadata": {},
   "source": [
    "Leo  archivo  con funcion leer_Archivo:"
   ]
  },
  {
   "cell_type": "code",
   "execution_count": 8,
   "id": "d970be6a",
   "metadata": {},
   "outputs": [],
   "source": [
    "df_r = leer_archivo ('user_reviews.json.gz')"
   ]
  },
  {
   "cell_type": "markdown",
   "id": "ca4166c4",
   "metadata": {},
   "source": [
    "La colummna reviews se encuentra anidada,  aplico la funcion desanidar_archivo para desanidar la columna 'reviews'."
   ]
  },
  {
   "cell_type": "code",
   "execution_count": 9,
   "id": "602d76d8",
   "metadata": {},
   "outputs": [
    {
     "data": {
      "text/html": [
       "<div>\n",
       "<style scoped>\n",
       "    .dataframe tbody tr th:only-of-type {\n",
       "        vertical-align: middle;\n",
       "    }\n",
       "\n",
       "    .dataframe tbody tr th {\n",
       "        vertical-align: top;\n",
       "    }\n",
       "\n",
       "    .dataframe thead th {\n",
       "        text-align: right;\n",
       "    }\n",
       "</style>\n",
       "<table border=\"1\" class=\"dataframe\">\n",
       "  <thead>\n",
       "    <tr style=\"text-align: right;\">\n",
       "      <th></th>\n",
       "      <th>user_id</th>\n",
       "      <th>user_url</th>\n",
       "      <th>funny</th>\n",
       "      <th>posted</th>\n",
       "      <th>last_edited</th>\n",
       "      <th>item_id</th>\n",
       "      <th>helpful</th>\n",
       "      <th>recommend</th>\n",
       "      <th>review</th>\n",
       "    </tr>\n",
       "  </thead>\n",
       "  <tbody>\n",
       "    <tr>\n",
       "      <th>0</th>\n",
       "      <td>76561197970982479</td>\n",
       "      <td>http://steamcommunity.com/profiles/76561197970982479</td>\n",
       "      <td></td>\n",
       "      <td>Posted November 5, 2011.</td>\n",
       "      <td></td>\n",
       "      <td>1250</td>\n",
       "      <td>No ratings yet</td>\n",
       "      <td>True</td>\n",
       "      <td>Simple yet with great replayability. In my opinion does \"zombie\" hordes and team work better than left 4 dead plus has a global leveling system. Alot of down to earth \"zombie\" splattering fun for ...</td>\n",
       "    </tr>\n",
       "    <tr>\n",
       "      <th>1</th>\n",
       "      <td>76561197970982479</td>\n",
       "      <td>http://steamcommunity.com/profiles/76561197970982479</td>\n",
       "      <td></td>\n",
       "      <td>Posted July 15, 2011.</td>\n",
       "      <td></td>\n",
       "      <td>22200</td>\n",
       "      <td>No ratings yet</td>\n",
       "      <td>True</td>\n",
       "      <td>It's unique and worth a playthrough.</td>\n",
       "    </tr>\n",
       "  </tbody>\n",
       "</table>\n",
       "</div>"
      ],
      "text/plain": [
       "             user_id                                              user_url  \\\n",
       "0  76561197970982479  http://steamcommunity.com/profiles/76561197970982479   \n",
       "1  76561197970982479  http://steamcommunity.com/profiles/76561197970982479   \n",
       "\n",
       "  funny                    posted last_edited item_id         helpful  \\\n",
       "0        Posted November 5, 2011.                1250  No ratings yet   \n",
       "1           Posted July 15, 2011.               22200  No ratings yet   \n",
       "\n",
       "   recommend  \\\n",
       "0       True   \n",
       "1       True   \n",
       "\n",
       "                                                                                                                                                                                                    review  \n",
       "0  Simple yet with great replayability. In my opinion does \"zombie\" hordes and team work better than left 4 dead plus has a global leveling system. Alot of down to earth \"zombie\" splattering fun for ...  \n",
       "1                                                                                                                                                                     It's unique and worth a playthrough.  "
      ]
     },
     "execution_count": 9,
     "metadata": {},
     "output_type": "execute_result"
    }
   ],
   "source": [
    "final_rev = desanidar_archivo(df_r,'reviews')\n",
    "final_rev.head(2)"
   ]
  },
  {
   "cell_type": "code",
   "execution_count": 10,
   "id": "11f822e4",
   "metadata": {},
   "outputs": [
    {
     "data": {
      "text/plain": [
       "(59333, 9)"
      ]
     },
     "execution_count": 10,
     "metadata": {},
     "output_type": "execute_result"
    }
   ],
   "source": [
    "final_rev.shape"
   ]
  },
  {
   "cell_type": "markdown",
   "id": "ec5fedb6",
   "metadata": {},
   "source": [
    "### 4.1.1 Exploramos valores nulos"
   ]
  },
  {
   "cell_type": "markdown",
   "id": "6d0a826f",
   "metadata": {},
   "source": [
    "- Analisis de registros nulos:<br>\n",
    ">Observo que no hay valores  nulos <br>\n",
    " **Transformación**: -"
   ]
  },
  {
   "cell_type": "code",
   "execution_count": 11,
   "id": "99c00720",
   "metadata": {},
   "outputs": [
    {
     "data": {
      "text/plain": [
       "user_id        0\n",
       "user_url       0\n",
       "funny          0\n",
       "posted         0\n",
       "last_edited    0\n",
       "item_id        0\n",
       "helpful        0\n",
       "recommend      0\n",
       "review         0\n",
       "dtype: int64"
      ]
     },
     "execution_count": 11,
     "metadata": {},
     "output_type": "execute_result"
    }
   ],
   "source": [
    "final_rev.isnull().sum()"
   ]
  },
  {
   "cell_type": "code",
   "execution_count": 12,
   "id": "5ea88b60",
   "metadata": {},
   "outputs": [
    {
     "data": {
      "text/plain": [
       "(59333, 9)"
      ]
     },
     "execution_count": 12,
     "metadata": {},
     "output_type": "execute_result"
    }
   ],
   "source": [
    "final_rev.shape"
   ]
  },
  {
   "cell_type": "markdown",
   "id": "9b3bd500",
   "metadata": {},
   "source": [
    "### 4.1.2 Exploramos registros duplicados"
   ]
  },
  {
   "cell_type": "markdown",
   "id": "178d25c6",
   "metadata": {},
   "source": [
    "- Analisis de registros duplicados: \n",
    ">AEl dataset presenta 874 registros duplicados.<br>\n",
    "> **Transformación**: Elimino los resgistros duplicados porque no aportan información"
   ]
  },
  {
   "cell_type": "code",
   "execution_count": 13,
   "id": "edbd1931",
   "metadata": {},
   "outputs": [
    {
     "data": {
      "text/plain": [
       "874"
      ]
     },
     "execution_count": 13,
     "metadata": {},
     "output_type": "execute_result"
    }
   ],
   "source": [
    "data_duplicates_final_rev=  final_rev.duplicated( keep=\"first\")\n",
    "data_duplicates_final_rev.sum()"
   ]
  },
  {
   "cell_type": "code",
   "execution_count": 14,
   "id": "986c5c75",
   "metadata": {},
   "outputs": [],
   "source": [
    "final_rev = final_rev.drop_duplicates( keep = \"first\")"
   ]
  },
  {
   "cell_type": "code",
   "execution_count": 15,
   "id": "3375df03",
   "metadata": {},
   "outputs": [
    {
     "data": {
      "text/plain": [
       "(58459, 9)"
      ]
     },
     "execution_count": 15,
     "metadata": {},
     "output_type": "execute_result"
    }
   ],
   "source": [
    "final_rev.shape"
   ]
  },
  {
   "cell_type": "markdown",
   "id": "36555693",
   "metadata": {},
   "source": [
    "### 4.1.3 Exploramos de tipo de datos de columnas."
   ]
  },
  {
   "cell_type": "markdown",
   "id": "fb932cd9",
   "metadata": {},
   "source": [
    "- Analisis de tipo de datos de columnas: Aplico info y veo que tipo de dato tengo en cada columa<br>\n",
    " **Transformación**: \n",
    "> 1. Convierto posted a formato datetime.<br> \n",
    "> 2. Agrego columna año_posted que corresponde al año de posteo"
   ]
  },
  {
   "cell_type": "code",
   "execution_count": 16,
   "id": "7e7d0fdb",
   "metadata": {},
   "outputs": [
    {
     "name": "stdout",
     "output_type": "stream",
     "text": [
      "<class 'pandas.core.frame.DataFrame'>\n",
      "Int64Index: 58459 entries, 0 to 59332\n",
      "Data columns (total 9 columns):\n",
      " #   Column       Non-Null Count  Dtype \n",
      "---  ------       --------------  ----- \n",
      " 0   user_id      58459 non-null  object\n",
      " 1   user_url     58459 non-null  object\n",
      " 2   funny        58459 non-null  object\n",
      " 3   posted       58459 non-null  object\n",
      " 4   last_edited  58459 non-null  object\n",
      " 5   item_id      58459 non-null  object\n",
      " 6   helpful      58459 non-null  object\n",
      " 7   recommend    58459 non-null  bool  \n",
      " 8   review       58459 non-null  object\n",
      "dtypes: bool(1), object(8)\n",
      "memory usage: 4.1+ MB\n"
     ]
    }
   ],
   "source": [
    "final_rev.info()"
   ]
  },
  {
   "cell_type": "code",
   "execution_count": 17,
   "id": "9f05e776",
   "metadata": {},
   "outputs": [
    {
     "data": {
      "text/plain": [
       "30399        Posted April 8, 2014.\n",
       "58746         Posted May 28, 2014.\n",
       "17699     Posted December 6, 2013.\n",
       "59072       Posted March 12, 2015.\n",
       "32519        Posted July 21, 2014.\n",
       "49843     Posted January 28, 2014.\n",
       "41589    Posted November 21, 2015.\n",
       "24119     Posted October 20, 2014.\n",
       "57845     Posted January 18, 2014.\n",
       "44392      Posted October 4, 2014.\n",
       "17235        Posted June 21, 2014.\n",
       "5924         Posted March 4, 2015.\n",
       "47743    Posted December 26, 2013.\n",
       "47689       Posted March 23, 2014.\n",
       "38127        Posted July 20, 2014.\n",
       "Name: posted, dtype: object"
      ]
     },
     "execution_count": 17,
     "metadata": {},
     "output_type": "execute_result"
    }
   ],
   "source": [
    "final_rev.posted.sample(15)"
   ]
  },
  {
   "cell_type": "markdown",
   "id": "a8c06bf6",
   "metadata": {},
   "source": [
    "Veo que existen algunos valores que no tienen el año de posteo. Voy a separar el año de la fecha para poder contar cuantos valores nulos de años hay.<br> Se tienen 9942 valores de fecha sin año"
   ]
  },
  {
   "cell_type": "code",
   "execution_count": 18,
   "id": "cb0e89c6",
   "metadata": {},
   "outputs": [],
   "source": [
    "final_rev['posted2']=final_rev['posted'].astype(str)"
   ]
  },
  {
   "cell_type": "code",
   "execution_count": 19,
   "id": "62e9c541",
   "metadata": {},
   "outputs": [
    {
     "data": {
      "text/plain": [
       "(9942, 12)"
      ]
     },
     "execution_count": 19,
     "metadata": {},
     "output_type": "execute_result"
    }
   ],
   "source": [
    "final_rev[['mes_dia','año']]=final_rev['posted2'].str.split(',',n=2,expand=True)\n",
    "filas_con_nan = final_rev[pd.isna(final_rev['año'])]\n",
    "filas_con_nan.shape"
   ]
  },
  {
   "cell_type": "markdown",
   "id": "c7f8bfd9",
   "metadata": {},
   "source": [
    "Convierto la columna posted a formato datetime y observo que obtengo nulos por los datos que no tenian año. No elimino estas filas, porque pueden tener otros campos con informacion valiosa para las funciones."
   ]
  },
  {
   "cell_type": "code",
   "execution_count": 20,
   "id": "3f653146",
   "metadata": {},
   "outputs": [],
   "source": [
    "final_rev['posted']=final_rev['posted'].replace({'Posted':''},regex=True)\n",
    "final_rev['posted']=pd.to_datetime(final_rev['posted'], errors='coerce')"
   ]
  },
  {
   "cell_type": "code",
   "execution_count": 21,
   "id": "0203eee2",
   "metadata": {},
   "outputs": [
    {
     "data": {
      "text/plain": [
       "9942"
      ]
     },
     "execution_count": 21,
     "metadata": {},
     "output_type": "execute_result"
    }
   ],
   "source": [
    " final_rev['posted'].isnull().sum()"
   ]
  },
  {
   "cell_type": "code",
   "execution_count": 22,
   "id": "47e62c85",
   "metadata": {},
   "outputs": [
    {
     "name": "stdout",
     "output_type": "stream",
     "text": [
      "2015-12-31 00:00:00\n",
      "2010-10-16 00:00:00\n"
     ]
    }
   ],
   "source": [
    "print(final_rev['posted'].max())\n",
    "print(final_rev['posted'].min())"
   ]
  },
  {
   "cell_type": "markdown",
   "id": "90a6781c",
   "metadata": {},
   "source": [
    "Creo la columna que sea 'año_posted' y contenga el año de posteo de la reseña"
   ]
  },
  {
   "cell_type": "code",
   "execution_count": 23,
   "id": "ef167bd2",
   "metadata": {},
   "outputs": [],
   "source": [
    "final_rev['año_posted']=final_rev['posted'].dt.year"
   ]
  },
  {
   "cell_type": "markdown",
   "id": "67b6bb9e",
   "metadata": {},
   "source": [
    "### 4.1.4 Feature Engineering: creo la columna 'sentiment_analysis' aplicando análisis de sentimiento con NLP"
   ]
  },
  {
   "cell_type": "markdown",
   "id": "5ae9dc78",
   "metadata": {},
   "source": [
    "Se utilizo la biblioteca NLTK, que significa \"Natural Language Toolkit\" para crear la columna 'sentiement_analysis'."
   ]
  },
  {
   "cell_type": "markdown",
   "id": "98c40f53",
   "metadata": {},
   "source": [
    "Funcion que genera distintas etiquetas, postivia, neutro y negativo para cada review. "
   ]
  },
  {
   "cell_type": "code",
   "execution_count": 24,
   "id": "b202d653",
   "metadata": {},
   "outputs": [],
   "source": [
    "def analizar_sentimiento(texto):\n",
    "    sia = SentimentIntensityAnalyzer()\n",
    "    sentimiento = sia.polarity_scores(texto)\n",
    "    \n",
    "    # Determinar la etiqueta en función de la puntuación compuesta\n",
    "    if sentimiento['compound'] >= 0.05:\n",
    "        return 'positivo'\n",
    "    elif sentimiento['compound'] <= -0.05:\n",
    "        return 'negativo'\n",
    "    else:\n",
    "        return 'neutral'"
   ]
  },
  {
   "cell_type": "code",
   "execution_count": 25,
   "id": "3ab2f187",
   "metadata": {},
   "outputs": [],
   "source": [
    "final_rev['sentiment_analysis'] = final_rev['review'].apply(analizar_sentimiento)"
   ]
  },
  {
   "cell_type": "code",
   "execution_count": 26,
   "id": "5bea85b3",
   "metadata": {},
   "outputs": [
    {
     "data": {
      "text/html": [
       "<div>\n",
       "<style scoped>\n",
       "    .dataframe tbody tr th:only-of-type {\n",
       "        vertical-align: middle;\n",
       "    }\n",
       "\n",
       "    .dataframe tbody tr th {\n",
       "        vertical-align: top;\n",
       "    }\n",
       "\n",
       "    .dataframe thead th {\n",
       "        text-align: right;\n",
       "    }\n",
       "</style>\n",
       "<table border=\"1\" class=\"dataframe\">\n",
       "  <thead>\n",
       "    <tr style=\"text-align: right;\">\n",
       "      <th></th>\n",
       "      <th>user_id</th>\n",
       "      <th>user_url</th>\n",
       "      <th>funny</th>\n",
       "      <th>posted</th>\n",
       "      <th>last_edited</th>\n",
       "      <th>item_id</th>\n",
       "      <th>helpful</th>\n",
       "      <th>recommend</th>\n",
       "      <th>review</th>\n",
       "      <th>posted2</th>\n",
       "      <th>mes_dia</th>\n",
       "      <th>año</th>\n",
       "      <th>año_posted</th>\n",
       "      <th>sentiment_analysis</th>\n",
       "    </tr>\n",
       "  </thead>\n",
       "  <tbody>\n",
       "    <tr>\n",
       "      <th>16</th>\n",
       "      <td>doctr</td>\n",
       "      <td>http://steamcommunity.com/id/doctr</td>\n",
       "      <td></td>\n",
       "      <td>2012-11-22</td>\n",
       "      <td></td>\n",
       "      <td>207610</td>\n",
       "      <td>No ratings yet</td>\n",
       "      <td>True</td>\n",
       "      <td>The ending to this game is.... ♥♥♥♥♥♥♥.... Just buy it, you'll be invested, im automatically preordering season two of the walking dead game.</td>\n",
       "      <td>Posted November 22, 2012.</td>\n",
       "      <td>Posted November 22</td>\n",
       "      <td>2012.</td>\n",
       "      <td>2012.0</td>\n",
       "      <td>negativo</td>\n",
       "    </tr>\n",
       "  </tbody>\n",
       "</table>\n",
       "</div>"
      ],
      "text/plain": [
       "   user_id                            user_url funny     posted last_edited  \\\n",
       "16   doctr  http://steamcommunity.com/id/doctr       2012-11-22               \n",
       "\n",
       "   item_id         helpful  recommend  \\\n",
       "16  207610  No ratings yet       True   \n",
       "\n",
       "                                                                                                                                           review  \\\n",
       "16  The ending to this game is.... ♥♥♥♥♥♥♥.... Just buy it, you'll be invested, im automatically preordering season two of the walking dead game.   \n",
       "\n",
       "                      posted2             mes_dia     año  año_posted  \\\n",
       "16  Posted November 22, 2012.  Posted November 22   2012.      2012.0   \n",
       "\n",
       "   sentiment_analysis  \n",
       "16           negativo  "
      ]
     },
     "execution_count": 26,
     "metadata": {},
     "output_type": "execute_result"
    }
   ],
   "source": [
    "final_rev[final_rev['sentiment_analysis']=='negativo'].head(1)"
   ]
  },
  {
   "cell_type": "markdown",
   "id": "aa26dcac",
   "metadata": {},
   "source": [
    " #### Guardo el dataframe acondicionado en una archivo csv y otro parquet."
   ]
  },
  {
   "cell_type": "code",
   "execution_count": 27,
   "id": "b14a050a",
   "metadata": {},
   "outputs": [],
   "source": [
    "final_rev.to_csv('final_rev', index = False)"
   ]
  },
  {
   "cell_type": "code",
   "execution_count": 28,
   "id": "f00be7da",
   "metadata": {},
   "outputs": [],
   "source": [
    "final_rev.to_parquet('final_rev_p', index = False)"
   ]
  },
  {
   "cell_type": "markdown",
   "id": "9a02d71e",
   "metadata": {},
   "source": [
    "### 4.2 Archivo 2: **user_items.json.gz** <a name=\"id6\"></a>\n",
    "***"
   ]
  },
  {
   "cell_type": "markdown",
   "id": "9dacb01f",
   "metadata": {},
   "source": [
    "Leo el archivo con la funcion leer archivo. Observo que tiene una columna llamada items que se encuentra anidada.<br>"
   ]
  },
  {
   "cell_type": "code",
   "execution_count": 29,
   "id": "65e4a0ed",
   "metadata": {},
   "outputs": [],
   "source": [
    "df_i = leer_archivo ('users_items.json.gz')"
   ]
  },
  {
   "cell_type": "markdown",
   "id": "baee55ae",
   "metadata": {},
   "source": [
    "La colummna items contiene un archivo Json anidado, aplicamos la funcion desanidar_archivo para desanidar la columna."
   ]
  },
  {
   "cell_type": "code",
   "execution_count": 30,
   "id": "4d7619ba",
   "metadata": {},
   "outputs": [],
   "source": [
    "final_items = desanidar_archivo(df_i,'items')"
   ]
  },
  {
   "cell_type": "code",
   "execution_count": 31,
   "id": "e8b2004d",
   "metadata": {},
   "outputs": [],
   "source": [
    "final_items1=final_items"
   ]
  },
  {
   "cell_type": "code",
   "execution_count": 32,
   "id": "b40028f0",
   "metadata": {},
   "outputs": [
    {
     "data": {
      "text/plain": [
       "(5170015, 8)"
      ]
     },
     "execution_count": 32,
     "metadata": {},
     "output_type": "execute_result"
    }
   ],
   "source": [
    "final_items.shape"
   ]
  },
  {
   "cell_type": "markdown",
   "id": "5bad8ada",
   "metadata": {},
   "source": [
    "### Exploramos valores nulos"
   ]
  },
  {
   "cell_type": "markdown",
   "id": "317ab71a",
   "metadata": {},
   "source": [
    "- Analisis de registros nulos:<br>\n",
    ">Observamos que hay 0 nulos.<br>\n",
    " **Transformación**: -."
   ]
  },
  {
   "cell_type": "code",
   "execution_count": 34,
   "id": "23fa08e7",
   "metadata": {},
   "outputs": [
    {
     "data": {
      "text/plain": [
       "user_id             0\n",
       "items_count         0\n",
       "steam_id            0\n",
       "user_url            0\n",
       "item_id             0\n",
       "item_name           0\n",
       "playtime_forever    0\n",
       "playtime_2weeks     0\n",
       "dtype: int64"
      ]
     },
     "execution_count": 34,
     "metadata": {},
     "output_type": "execute_result"
    }
   ],
   "source": [
    "final_items.isnull().sum()"
   ]
  },
  {
   "cell_type": "code",
   "execution_count": 35,
   "id": "580cfc1a",
   "metadata": {},
   "outputs": [],
   "source": [
    "#final_items.dropna(inplace=True)"
   ]
  },
  {
   "cell_type": "markdown",
   "id": "a91df3fa",
   "metadata": {},
   "source": [
    "Observo cantidad de registros que tiene y columnas"
   ]
  },
  {
   "cell_type": "code",
   "execution_count": 36,
   "id": "4e01f05b",
   "metadata": {},
   "outputs": [
    {
     "data": {
      "text/plain": [
       "(5170015, 8)"
      ]
     },
     "execution_count": 36,
     "metadata": {},
     "output_type": "execute_result"
    }
   ],
   "source": [
    "final_items.shape"
   ]
  },
  {
   "cell_type": "markdown",
   "id": "0d686b69",
   "metadata": {},
   "source": [
    "### Exploramos registros duplicados"
   ]
  },
  {
   "cell_type": "markdown",
   "id": "07004e72",
   "metadata": {},
   "source": [
    "- Analisis de registros duplicados: \n",
    ">Aparecen 59151 valores duplicados.<br>\n",
    "> **Transformación**: Elimino duplicados."
   ]
  },
  {
   "cell_type": "code",
   "execution_count": 37,
   "id": "526ef95b",
   "metadata": {},
   "outputs": [
    {
     "data": {
      "text/plain": [
       "59151"
      ]
     },
     "execution_count": 37,
     "metadata": {},
     "output_type": "execute_result"
    }
   ],
   "source": [
    "data_duplicates_final_items=  final_items.duplicated( keep=\"first\")\n",
    "data_duplicates_final_items.sum()"
   ]
  },
  {
   "cell_type": "code",
   "execution_count": 38,
   "id": "aa19978d",
   "metadata": {},
   "outputs": [],
   "source": [
    "final_items = final_items.drop_duplicates( keep = \"first\")"
   ]
  },
  {
   "cell_type": "code",
   "execution_count": 39,
   "id": "e2a1ba43",
   "metadata": {},
   "outputs": [
    {
     "data": {
      "text/plain": [
       "(5110864, 8)"
      ]
     },
     "execution_count": 39,
     "metadata": {},
     "output_type": "execute_result"
    }
   ],
   "source": [
    "final_items.shape"
   ]
  },
  {
   "cell_type": "code",
   "execution_count": 40,
   "id": "91b3b4c0",
   "metadata": {},
   "outputs": [],
   "source": [
    "final_items.to_csv('final_items.csv', index = False)\n",
    "final_items.to_parquet('final_items.parquet', index = False)"
   ]
  },
  {
   "cell_type": "markdown",
   "id": "884ced0f",
   "metadata": {},
   "source": [
    "### 4.2 Archivo 3: **steam_games.json.gz** <a name=\"id7\"></a>\n",
    "***"
   ]
  },
  {
   "cell_type": "markdown",
   "id": "2395b32f",
   "metadata": {},
   "source": [
    "Leo el archivo de steam_games"
   ]
  },
  {
   "cell_type": "code",
   "execution_count": 41,
   "id": "608d960c",
   "metadata": {},
   "outputs": [],
   "source": [
    "df_s=pd.read_json('steam_games.json.gz',compression='gzip', lines=True)"
   ]
  },
  {
   "cell_type": "code",
   "execution_count": 42,
   "id": "99beddb9",
   "metadata": {},
   "outputs": [
    {
     "data": {
      "text/html": [
       "<div>\n",
       "<style scoped>\n",
       "    .dataframe tbody tr th:only-of-type {\n",
       "        vertical-align: middle;\n",
       "    }\n",
       "\n",
       "    .dataframe tbody tr th {\n",
       "        vertical-align: top;\n",
       "    }\n",
       "\n",
       "    .dataframe thead th {\n",
       "        text-align: right;\n",
       "    }\n",
       "</style>\n",
       "<table border=\"1\" class=\"dataframe\">\n",
       "  <thead>\n",
       "    <tr style=\"text-align: right;\">\n",
       "      <th></th>\n",
       "      <th>publisher</th>\n",
       "      <th>genres</th>\n",
       "      <th>app_name</th>\n",
       "      <th>title</th>\n",
       "      <th>url</th>\n",
       "      <th>release_date</th>\n",
       "      <th>tags</th>\n",
       "      <th>reviews_url</th>\n",
       "      <th>discount_price</th>\n",
       "      <th>specs</th>\n",
       "      <th>price</th>\n",
       "      <th>early_access</th>\n",
       "      <th>id</th>\n",
       "      <th>metascore</th>\n",
       "      <th>developer</th>\n",
       "      <th>user_id</th>\n",
       "      <th>steam_id</th>\n",
       "      <th>items</th>\n",
       "      <th>items_count</th>\n",
       "    </tr>\n",
       "  </thead>\n",
       "  <tbody>\n",
       "    <tr>\n",
       "      <th>0</th>\n",
       "      <td>None</td>\n",
       "      <td>None</td>\n",
       "      <td>None</td>\n",
       "      <td>None</td>\n",
       "      <td>None</td>\n",
       "      <td>None</td>\n",
       "      <td>None</td>\n",
       "      <td>None</td>\n",
       "      <td>NaN</td>\n",
       "      <td>None</td>\n",
       "      <td>None</td>\n",
       "      <td>NaN</td>\n",
       "      <td>NaN</td>\n",
       "      <td>None</td>\n",
       "      <td>None</td>\n",
       "      <td>76561197970982479</td>\n",
       "      <td>7.656120e+16</td>\n",
       "      <td>[{'item_id': '10', 'item_name': 'Counter-Strike', 'playtime_forever': 6, 'playtime_2weeks': 0}, {'item_id': '20', 'item_name': 'Team Fortress Classic', 'playtime_forever': 0, 'playtime_2weeks': 0}...</td>\n",
       "      <td>277.0</td>\n",
       "    </tr>\n",
       "  </tbody>\n",
       "</table>\n",
       "</div>"
      ],
      "text/plain": [
       "  publisher genres app_name title   url release_date  tags reviews_url  \\\n",
       "0      None   None     None  None  None         None  None        None   \n",
       "\n",
       "   discount_price specs price  early_access  id metascore developer  \\\n",
       "0             NaN  None  None           NaN NaN      None      None   \n",
       "\n",
       "             user_id      steam_id  \\\n",
       "0  76561197970982479  7.656120e+16   \n",
       "\n",
       "                                                                                                                                                                                                     items  \\\n",
       "0  [{'item_id': '10', 'item_name': 'Counter-Strike', 'playtime_forever': 6, 'playtime_2weeks': 0}, {'item_id': '20', 'item_name': 'Team Fortress Classic', 'playtime_forever': 0, 'playtime_2weeks': 0}...   \n",
       "\n",
       "   items_count  \n",
       "0        277.0  "
      ]
     },
     "execution_count": 42,
     "metadata": {},
     "output_type": "execute_result"
    }
   ],
   "source": [
    "df_s.head(1)"
   ]
  },
  {
   "cell_type": "markdown",
   "id": "b622b51d",
   "metadata": {},
   "source": [
    "Al leer archivo steam, veo que tiene columnas al final correspondientes a los items que consumio cada usario. Esas columas las elimino porque las tengo en el dataframe items y no tiene sentido que esten en este dataframe. Este dataframe contiene la descripcion de cada item, y no tendria sentido tener en cada item un usuario con los items que compro"
   ]
  },
  {
   "cell_type": "code",
   "execution_count": 43,
   "id": "20e6b912",
   "metadata": {},
   "outputs": [],
   "source": [
    "df_steam = df_s.drop(columns = ['items','user_id','steam_id','items_count'])"
   ]
  },
  {
   "cell_type": "code",
   "execution_count": 44,
   "id": "d63cd510",
   "metadata": {},
   "outputs": [
    {
     "data": {
      "text/plain": [
       "(120445, 15)"
      ]
     },
     "execution_count": 44,
     "metadata": {},
     "output_type": "execute_result"
    }
   ],
   "source": [
    "df_steam.shape"
   ]
  },
  {
   "cell_type": "markdown",
   "id": "b940ebaf",
   "metadata": {},
   "source": [
    "### Exploramos valores nulos"
   ]
  },
  {
   "cell_type": "markdown",
   "id": "557497ad",
   "metadata": {},
   "source": [
    "- Analisis de registros nulos:<br>\n",
    ">Observamos que hay muchos nulos. Voy a eliminar solo las filas que tengan todas las columnas con valor nulo.<br>\n",
    " **Transformación**: Elimino los nulos."
   ]
  },
  {
   "cell_type": "code",
   "execution_count": 45,
   "id": "d2e3fa74",
   "metadata": {},
   "outputs": [
    {
     "data": {
      "text/plain": [
       "publisher          96362\n",
       "genres             91593\n",
       "app_name           88312\n",
       "title              90360\n",
       "url                88310\n",
       "release_date       90377\n",
       "tags               88473\n",
       "reviews_url        88312\n",
       "discount_price    120220\n",
       "specs              88980\n",
       "price              89687\n",
       "early_access       88310\n",
       "id                 88312\n",
       "metascore         117768\n",
       "developer          91609\n",
       "dtype: int64"
      ]
     },
     "execution_count": 45,
     "metadata": {},
     "output_type": "execute_result"
    }
   ],
   "source": [
    "df_steam.isnull().sum()"
   ]
  },
  {
   "cell_type": "code",
   "execution_count": 46,
   "id": "1c596210",
   "metadata": {},
   "outputs": [],
   "source": [
    "df_steam.dropna(inplace=True,how ='all')"
   ]
  },
  {
   "cell_type": "code",
   "execution_count": 47,
   "id": "65fbdf86",
   "metadata": {},
   "outputs": [
    {
     "data": {
      "text/plain": [
       "(32135, 15)"
      ]
     },
     "execution_count": 47,
     "metadata": {},
     "output_type": "execute_result"
    }
   ],
   "source": [
    "df_steam.shape"
   ]
  },
  {
   "cell_type": "markdown",
   "id": "94ae7bd1",
   "metadata": {},
   "source": [
    "### Exploramos registros duplicados"
   ]
  },
  {
   "cell_type": "markdown",
   "id": "4c95558f",
   "metadata": {},
   "source": [
    "- Analisis de registros duplicados: \n",
    ">Aparecen 2 valores duplicados de Id.<br>\n",
    "> **Transformación**: Elimino los items con id duplicado"
   ]
  },
  {
   "cell_type": "code",
   "execution_count": 48,
   "id": "49a8961d",
   "metadata": {},
   "outputs": [
    {
     "data": {
      "text/plain": [
       "2"
      ]
     },
     "execution_count": 48,
     "metadata": {},
     "output_type": "execute_result"
    }
   ],
   "source": [
    "data_duplicates_df_steam=  df_steam.duplicated(subset = ['id'],keep=\"first\")\n",
    "data_duplicates_df_steam.sum()"
   ]
  },
  {
   "cell_type": "code",
   "execution_count": 49,
   "id": "43a6bdd8",
   "metadata": {},
   "outputs": [],
   "source": [
    "df_steam= df_steam.drop_duplicates( subset=['id'],keep = \"first\")"
   ]
  },
  {
   "cell_type": "markdown",
   "id": "beb445ad",
   "metadata": {},
   "source": [
    "### Exploración de tipo de datos de columnas."
   ]
  },
  {
   "cell_type": "markdown",
   "id": "b46aedae",
   "metadata": {},
   "source": [
    "- Analisis de tipo de datos de columnas:<br>\n",
    " **Transformación**: \n",
    "> 1. Convierto precio a formato float.<br>\n",
    "> 2. Convierto release_date a formato datetime\n",
    "> 3. Agrero columna año de release_date"
   ]
  },
  {
   "cell_type": "markdown",
   "id": "31ed10aa",
   "metadata": {},
   "source": [
    "#### Precio"
   ]
  },
  {
   "cell_type": "markdown",
   "id": "5c11625f",
   "metadata": {},
   "source": [
    "Analizo las valores unicos que aparecen en el campo precio. Veo que ademas de valores numericos, aparecen valores de texto. Realizo la sustitucion de \n",
    "esos valores por 0, en el caso que el texto haga referencia a que es un juego gratis. En el caso que sea un valor mal ingresado lo reemplazo por np.nan."
   ]
  },
  {
   "cell_type": "code",
   "execution_count": 50,
   "id": "7c241401",
   "metadata": {},
   "outputs": [
    {
     "data": {
      "text/plain": [
       "array([4.99, 'Free To Play', 'Free to Play', 0.99, 2.99, 3.99, 9.99,\n",
       "       18.99, 29.99, None, 'Free', 10.99, 1.5899999999999999, 14.99, 1.99,\n",
       "       59.99, 8.99, 6.99, 7.99, 39.99, 19.99, 7.49, 12.99, 5.99, 2.49,\n",
       "       15.99, 1.25, 24.99, 17.99, 61.99, 3.49, 11.99, 13.99, 'Free Demo',\n",
       "       'Play for Free!', 34.99, 74.76, 1.49, 32.99, 99.99, 14.95, 69.99,\n",
       "       16.99, 79.99, 49.99, 5.0, 44.99, 13.98, 29.96, 119.99, 109.99,\n",
       "       149.99, 771.71, 'Install Now', 21.99, 89.99,\n",
       "       'Play WARMACHINE: Tactics Demo', 0.98, 139.92, 4.29, 64.99,\n",
       "       'Free Mod', 54.99, 74.99, 'Install Theme', 0.89, 'Third-party',\n",
       "       0.5, 'Play Now', 299.99, 1.29, 3.0, 15.0, 5.49, 23.99, 49.0, 20.99,\n",
       "       10.93, 1.3900000000000001, 'Free HITMAN™ Holiday Pack', 36.99,\n",
       "       4.49, 2.0, 4.0, 9.0, 234.99, 1.9500000000000002, 1.5, 199.0, 189.0,\n",
       "       6.66, 27.99, 10.49, 129.99, 179.0, 26.99, 399.99, 31.99, 399.0,\n",
       "       20.0, 40.0, 3.33, 199.99, 22.99, 320.0, 38.85, 71.7, 59.95, 995.0,\n",
       "       27.49, 3.39, 6.0, 19.95, 499.99, 16.06, 4.68, 131.4, 44.98, 202.76,\n",
       "       1.0, 2.3, 0.9500000000000001, 172.24, 249.99, 2.9699999999999998,\n",
       "       10.96, 10.0, 30.0, 2.66, 6.48, 19.29, 11.15, 18.9, 2.89,\n",
       "       'Play the Demo', 99.0, 87.94, 599.0, 8.98, 9.69, 0.49, 9.98, 9.95,\n",
       "       7.0, 'Starting at $499.00', 'Starting at $449.00', 12.89, 6.49,\n",
       "       1.87, 42.99, 41.99, 289.99, 'Free to Try', 23.96, 5.65, 12.0,\n",
       "       13.37, 189.96, 124.99, 'Free Movie', 19.98, 160.91, 'Free to Use'],\n",
       "      dtype=object)"
      ]
     },
     "execution_count": 50,
     "metadata": {},
     "output_type": "execute_result"
    }
   ],
   "source": [
    "df_steam.price.unique()"
   ]
  },
  {
   "cell_type": "markdown",
   "id": "1fb91df1",
   "metadata": {},
   "source": [
    "Defino las listas de sustitución, valores 0, valores erroneos y valores a corregir. "
   ]
  },
  {
   "cell_type": "code",
   "execution_count": 51,
   "id": "500e9036",
   "metadata": {},
   "outputs": [],
   "source": [
    "precio_cero=['Free To Play', 'Free to Play','Free','Free Mod','Free HITMAN™ Holiday Pack','Play the Demo','Free to Use','Free Demo','Play WARMACHINE: Tactics Demo','Play for Free!','Free to Try','Free Movie']\n",
    "precio_error=['Install Now','Install Theme','Third-party','Play Now'] \n",
    "precio_cor = ['Starting at $499.00','Starting at $449.00']"
   ]
  },
  {
   "cell_type": "code",
   "execution_count": 52,
   "id": "0a6d6024",
   "metadata": {},
   "outputs": [],
   "source": [
    "df_steam['price'] = df_steam['price'].replace(precio_cero, 0)\n",
    "df_steam['price'] = df_steam['price'].replace(precio_error, np.nan)\n",
    "df_steam['price'] = df_steam['price'].replace(precio_cor, 499.00)"
   ]
  },
  {
   "cell_type": "code",
   "execution_count": 53,
   "id": "18da134d",
   "metadata": {},
   "outputs": [
    {
     "data": {
      "text/plain": [
       "array([4.9900e+00, 0.0000e+00, 9.9000e-01, 2.9900e+00, 3.9900e+00,\n",
       "       9.9900e+00, 1.8990e+01, 2.9990e+01,        nan, 1.0990e+01,\n",
       "       1.5900e+00, 1.4990e+01, 1.9900e+00, 5.9990e+01, 8.9900e+00,\n",
       "       6.9900e+00, 7.9900e+00, 3.9990e+01, 1.9990e+01, 7.4900e+00,\n",
       "       1.2990e+01, 5.9900e+00, 2.4900e+00, 1.5990e+01, 1.2500e+00,\n",
       "       2.4990e+01, 1.7990e+01, 6.1990e+01, 3.4900e+00, 1.1990e+01,\n",
       "       1.3990e+01, 3.4990e+01, 7.4760e+01, 1.4900e+00, 3.2990e+01,\n",
       "       9.9990e+01, 1.4950e+01, 6.9990e+01, 1.6990e+01, 7.9990e+01,\n",
       "       4.9990e+01, 5.0000e+00, 4.4990e+01, 1.3980e+01, 2.9960e+01,\n",
       "       1.1999e+02, 1.0999e+02, 1.4999e+02, 7.7171e+02, 2.1990e+01,\n",
       "       8.9990e+01, 9.8000e-01, 1.3992e+02, 4.2900e+00, 6.4990e+01,\n",
       "       5.4990e+01, 7.4990e+01, 8.9000e-01, 5.0000e-01, 2.9999e+02,\n",
       "       1.2900e+00, 3.0000e+00, 1.5000e+01, 5.4900e+00, 2.3990e+01,\n",
       "       4.9000e+01, 2.0990e+01, 1.0930e+01, 1.3900e+00, 3.6990e+01,\n",
       "       4.4900e+00, 2.0000e+00, 4.0000e+00, 9.0000e+00, 2.3499e+02,\n",
       "       1.9500e+00, 1.5000e+00, 1.9900e+02, 1.8900e+02, 6.6600e+00,\n",
       "       2.7990e+01, 1.0490e+01, 1.2999e+02, 1.7900e+02, 2.6990e+01,\n",
       "       3.9999e+02, 3.1990e+01, 3.9900e+02, 2.0000e+01, 4.0000e+01,\n",
       "       3.3300e+00, 1.9999e+02, 2.2990e+01, 3.2000e+02, 3.8850e+01,\n",
       "       7.1700e+01, 5.9950e+01, 9.9500e+02, 2.7490e+01, 3.3900e+00,\n",
       "       6.0000e+00, 1.9950e+01, 4.9999e+02, 1.6060e+01, 4.6800e+00,\n",
       "       1.3140e+02, 4.4980e+01, 2.0276e+02, 1.0000e+00, 2.3000e+00,\n",
       "       9.5000e-01, 1.7224e+02, 2.4999e+02, 2.9700e+00, 1.0960e+01,\n",
       "       1.0000e+01, 3.0000e+01, 2.6600e+00, 6.4800e+00, 1.9290e+01,\n",
       "       1.1150e+01, 1.8900e+01, 2.8900e+00, 9.9000e+01, 8.7940e+01,\n",
       "       5.9900e+02, 8.9800e+00, 9.6900e+00, 4.9000e-01, 9.9800e+00,\n",
       "       9.9500e+00, 7.0000e+00, 4.9900e+02, 1.2890e+01, 6.4900e+00,\n",
       "       1.8700e+00, 4.2990e+01, 4.1990e+01, 2.8999e+02, 2.3960e+01,\n",
       "       5.6500e+00, 1.2000e+01, 1.3370e+01, 1.8996e+02, 1.2499e+02,\n",
       "       1.9980e+01, 1.6091e+02])"
      ]
     },
     "execution_count": 53,
     "metadata": {},
     "output_type": "execute_result"
    }
   ],
   "source": [
    "df_steam.price.unique()"
   ]
  },
  {
   "cell_type": "code",
   "execution_count": 54,
   "id": "b5247c9c",
   "metadata": {},
   "outputs": [],
   "source": [
    "df_steam['price']=df_steam['price'].astype(float)"
   ]
  },
  {
   "cell_type": "code",
   "execution_count": 55,
   "id": "b635f1b7",
   "metadata": {},
   "outputs": [
    {
     "data": {
      "text/plain": [
       "1383"
      ]
     },
     "execution_count": 55,
     "metadata": {},
     "output_type": "execute_result"
    }
   ],
   "source": [
    "df_steam['price'].isnull().sum()"
   ]
  },
  {
   "cell_type": "markdown",
   "id": "0434ad14",
   "metadata": {},
   "source": [
    "### release_date"
   ]
  },
  {
   "cell_type": "markdown",
   "id": "788417b8",
   "metadata": {},
   "source": [
    "Convierto el campo release_date a formato date_time"
   ]
  },
  {
   "cell_type": "code",
   "execution_count": 56,
   "id": "f9083037",
   "metadata": {},
   "outputs": [],
   "source": [
    "df_steam['release_date']=pd.to_datetime(df_steam['release_date'],errors='coerce')"
   ]
  },
  {
   "cell_type": "code",
   "execution_count": 57,
   "id": "64e27aff",
   "metadata": {},
   "outputs": [
    {
     "data": {
      "text/plain": [
       "2241"
      ]
     },
     "execution_count": 57,
     "metadata": {},
     "output_type": "execute_result"
    }
   ],
   "source": [
    "df_steam['release_date'].isnull().sum()"
   ]
  },
  {
   "cell_type": "code",
   "execution_count": 58,
   "id": "f7608bb2",
   "metadata": {},
   "outputs": [
    {
     "data": {
      "text/plain": [
       "Timestamp('2021-12-31 00:00:00')"
      ]
     },
     "execution_count": 58,
     "metadata": {},
     "output_type": "execute_result"
    }
   ],
   "source": [
    "df_steam['release_date'].max()"
   ]
  },
  {
   "cell_type": "code",
   "execution_count": 59,
   "id": "1e85b3ad",
   "metadata": {},
   "outputs": [
    {
     "data": {
      "text/plain": [
       "Timestamp('1970-07-15 00:00:00')"
      ]
     },
     "execution_count": 59,
     "metadata": {},
     "output_type": "execute_result"
    }
   ],
   "source": [
    "df_steam['release_date'].min()"
   ]
  },
  {
   "cell_type": "markdown",
   "id": "a8d8fa0a",
   "metadata": {},
   "source": [
    "Agrego una columna que sea el año de release_date"
   ]
  },
  {
   "cell_type": "code",
   "execution_count": 60,
   "id": "2307b57d",
   "metadata": {},
   "outputs": [],
   "source": [
    "df_steam['year']=df_steam['release_date'].dt.year"
   ]
  },
  {
   "cell_type": "markdown",
   "id": "92f2ffc3",
   "metadata": {},
   "source": [
    "Normalizo las variables que contienen texto a mayusculas."
   ]
  },
  {
   "cell_type": "code",
   "execution_count": 61,
   "id": "e9d01e1f",
   "metadata": {},
   "outputs": [],
   "source": [
    "df_steam['title'] = df_steam['title'].str.upper()"
   ]
  },
  {
   "cell_type": "code",
   "execution_count": 62,
   "id": "5c25dea2",
   "metadata": {},
   "outputs": [],
   "source": [
    "df_steam['developer'] = df_steam['developer'].str.upper()"
   ]
  },
  {
   "cell_type": "code",
   "execution_count": 63,
   "id": "7c2b591e",
   "metadata": {},
   "outputs": [],
   "source": [
    "df_steam['publisher'] = df_steam['publisher'].str.upper()"
   ]
  },
  {
   "cell_type": "code",
   "execution_count": 64,
   "id": "ef641216",
   "metadata": {},
   "outputs": [
    {
     "data": {
      "text/html": [
       "<div>\n",
       "<style scoped>\n",
       "    .dataframe tbody tr th:only-of-type {\n",
       "        vertical-align: middle;\n",
       "    }\n",
       "\n",
       "    .dataframe tbody tr th {\n",
       "        vertical-align: top;\n",
       "    }\n",
       "\n",
       "    .dataframe thead th {\n",
       "        text-align: right;\n",
       "    }\n",
       "</style>\n",
       "<table border=\"1\" class=\"dataframe\">\n",
       "  <thead>\n",
       "    <tr style=\"text-align: right;\">\n",
       "      <th></th>\n",
       "      <th>publisher</th>\n",
       "      <th>genres</th>\n",
       "      <th>app_name</th>\n",
       "      <th>title</th>\n",
       "      <th>url</th>\n",
       "      <th>release_date</th>\n",
       "      <th>tags</th>\n",
       "      <th>reviews_url</th>\n",
       "      <th>discount_price</th>\n",
       "      <th>specs</th>\n",
       "      <th>price</th>\n",
       "      <th>early_access</th>\n",
       "      <th>id</th>\n",
       "      <th>metascore</th>\n",
       "      <th>developer</th>\n",
       "      <th>year</th>\n",
       "    </tr>\n",
       "  </thead>\n",
       "  <tbody>\n",
       "    <tr>\n",
       "      <th>88310</th>\n",
       "      <td>KOTOSHIRO</td>\n",
       "      <td>[Action, Casual, Indie, Simulation, Strategy]</td>\n",
       "      <td>Lost Summoner Kitty</td>\n",
       "      <td>LOST SUMMONER KITTY</td>\n",
       "      <td>http://store.steampowered.com/app/761140/Lost_Summoner_Kitty/</td>\n",
       "      <td>2018-01-04</td>\n",
       "      <td>[Strategy, Action, Indie, Casual, Simulation]</td>\n",
       "      <td>http://steamcommunity.com/app/761140/reviews/?browsefilter=mostrecent&amp;p=1</td>\n",
       "      <td>4.49</td>\n",
       "      <td>[Single-player]</td>\n",
       "      <td>4.99</td>\n",
       "      <td>0.0</td>\n",
       "      <td>761140.0</td>\n",
       "      <td>None</td>\n",
       "      <td>KOTOSHIRO</td>\n",
       "      <td>2018.0</td>\n",
       "    </tr>\n",
       "    <tr>\n",
       "      <th>88311</th>\n",
       "      <td>MAKING FUN, INC.</td>\n",
       "      <td>[Free to Play, Indie, RPG, Strategy]</td>\n",
       "      <td>Ironbound</td>\n",
       "      <td>IRONBOUND</td>\n",
       "      <td>http://store.steampowered.com/app/643980/Ironbound/</td>\n",
       "      <td>2018-01-04</td>\n",
       "      <td>[Free to Play, Strategy, Indie, RPG, Card Game, Trading Card Game, Turn-Based, Fantasy, Tactical, Dark Fantasy, Board Game, PvP, 2D, Competitive, Replay Value, Character Customization, Female Prot...</td>\n",
       "      <td>http://steamcommunity.com/app/643980/reviews/?browsefilter=mostrecent&amp;p=1</td>\n",
       "      <td>NaN</td>\n",
       "      <td>[Single-player, Multi-player, Online Multi-Player, Cross-Platform Multiplayer, Steam Achievements, Steam Trading Cards, In-App Purchases]</td>\n",
       "      <td>0.00</td>\n",
       "      <td>0.0</td>\n",
       "      <td>643980.0</td>\n",
       "      <td>None</td>\n",
       "      <td>SECRET LEVEL SRL</td>\n",
       "      <td>2018.0</td>\n",
       "    </tr>\n",
       "  </tbody>\n",
       "</table>\n",
       "</div>"
      ],
      "text/plain": [
       "              publisher                                         genres  \\\n",
       "88310         KOTOSHIRO  [Action, Casual, Indie, Simulation, Strategy]   \n",
       "88311  MAKING FUN, INC.           [Free to Play, Indie, RPG, Strategy]   \n",
       "\n",
       "                  app_name                title  \\\n",
       "88310  Lost Summoner Kitty  LOST SUMMONER KITTY   \n",
       "88311            Ironbound            IRONBOUND   \n",
       "\n",
       "                                                                 url  \\\n",
       "88310  http://store.steampowered.com/app/761140/Lost_Summoner_Kitty/   \n",
       "88311            http://store.steampowered.com/app/643980/Ironbound/   \n",
       "\n",
       "      release_date  \\\n",
       "88310   2018-01-04   \n",
       "88311   2018-01-04   \n",
       "\n",
       "                                                                                                                                                                                                          tags  \\\n",
       "88310                                                                                                                                                            [Strategy, Action, Indie, Casual, Simulation]   \n",
       "88311  [Free to Play, Strategy, Indie, RPG, Card Game, Trading Card Game, Turn-Based, Fantasy, Tactical, Dark Fantasy, Board Game, PvP, 2D, Competitive, Replay Value, Character Customization, Female Prot...   \n",
       "\n",
       "                                                                     reviews_url  \\\n",
       "88310  http://steamcommunity.com/app/761140/reviews/?browsefilter=mostrecent&p=1   \n",
       "88311  http://steamcommunity.com/app/643980/reviews/?browsefilter=mostrecent&p=1   \n",
       "\n",
       "       discount_price  \\\n",
       "88310            4.49   \n",
       "88311             NaN   \n",
       "\n",
       "                                                                                                                                           specs  \\\n",
       "88310                                                                                                                            [Single-player]   \n",
       "88311  [Single-player, Multi-player, Online Multi-Player, Cross-Platform Multiplayer, Steam Achievements, Steam Trading Cards, In-App Purchases]   \n",
       "\n",
       "       price  early_access        id metascore         developer    year  \n",
       "88310   4.99           0.0  761140.0      None         KOTOSHIRO  2018.0  \n",
       "88311   0.00           0.0  643980.0      None  SECRET LEVEL SRL  2018.0  "
      ]
     },
     "execution_count": 64,
     "metadata": {},
     "output_type": "execute_result"
    }
   ],
   "source": [
    "df_steam.head(2)"
   ]
  },
  {
   "cell_type": "markdown",
   "id": "9dff1d25",
   "metadata": {},
   "source": [
    "Guardo el archivo"
   ]
  },
  {
   "cell_type": "code",
   "execution_count": 65,
   "id": "f549db0d",
   "metadata": {},
   "outputs": [],
   "source": [
    "df_steam.to_csv('df_steam_csv', index = False)\n",
    "#df_steam.to_parquet('df_steam_parquet', index=False)"
   ]
  },
  {
   "cell_type": "markdown",
   "id": "3487fa08",
   "metadata": {},
   "source": [
    "# 5. Desarrollo de datasets para funciones <a name=\"id8\"></a>\n",
    "***"
   ]
  },
  {
   "cell_type": "markdown",
   "id": "9b38668e",
   "metadata": {},
   "source": [
    "#### Voy a realizar uniones en los dataset para luego poder realizar las transformaciones que me permiten obtener los dataframe para alimentar las funciones"
   ]
  },
  {
   "cell_type": "markdown",
   "id": "640a636f",
   "metadata": {},
   "source": [
    "### 1) df_items_steam : es la union de final_items con df_steam"
   ]
  },
  {
   "cell_type": "code",
   "execution_count": 66,
   "id": "0dd5acc4",
   "metadata": {},
   "outputs": [
    {
     "data": {
      "text/plain": [
       "(5110864, 8)"
      ]
     },
     "execution_count": 66,
     "metadata": {},
     "output_type": "execute_result"
    }
   ],
   "source": [
    "final_items.shape"
   ]
  },
  {
   "cell_type": "markdown",
   "id": "2dfede87",
   "metadata": {},
   "source": [
    "Voy a unir el dataset final_items (cantidad de items por usuario) con el de la descripcion de los items (df_steam), por el campo item_id.  \n",
    "Es decir me voy a traer al dataset final_items la descripcion de cada item que esta en df_steam"
   ]
  },
  {
   "cell_type": "code",
   "execution_count": 153,
   "id": "6ca03b40",
   "metadata": {},
   "outputs": [],
   "source": [
    "final_items ['item_id'] = final_items ['item_id'].astype(float)"
   ]
  },
  {
   "cell_type": "code",
   "execution_count": 154,
   "id": "171cb28d",
   "metadata": {},
   "outputs": [],
   "source": [
    "df_items_steam = final_items.merge(df_steam, left_on='item_id',right_on='id',how='left')"
   ]
  },
  {
   "cell_type": "code",
   "execution_count": 69,
   "id": "341e8964",
   "metadata": {},
   "outputs": [],
   "source": [
    "#df_items_steam.drop(columns=['index'], inplace=True)"
   ]
  },
  {
   "cell_type": "code",
   "execution_count": 155,
   "id": "5edb93f6",
   "metadata": {},
   "outputs": [
    {
     "data": {
      "text/plain": [
       "(5110864, 24)"
      ]
     },
     "execution_count": 155,
     "metadata": {},
     "output_type": "execute_result"
    }
   ],
   "source": [
    "df_items_steam.shape"
   ]
  },
  {
   "cell_type": "code",
   "execution_count": 156,
   "id": "ed40f386",
   "metadata": {},
   "outputs": [
    {
     "data": {
      "text/plain": [
       "user_id                   0\n",
       "items_count               0\n",
       "steam_id                  0\n",
       "user_url                  0\n",
       "item_id                   0\n",
       "item_name                 0\n",
       "playtime_forever          0\n",
       "playtime_2weeks           0\n",
       "publisher            987948\n",
       "genres               941159\n",
       "app_name             852451\n",
       "title                923652\n",
       "url                  852451\n",
       "release_date         930244\n",
       "tags                 852567\n",
       "reviews_url          852451\n",
       "discount_price      5106363\n",
       "specs                868169\n",
       "price                937008\n",
       "early_access         852451\n",
       "id                   852451\n",
       "metascore           2430192\n",
       "developer            957692\n",
       "year                 930244\n",
       "dtype: int64"
      ]
     },
     "execution_count": 156,
     "metadata": {},
     "output_type": "execute_result"
    }
   ],
   "source": [
    "df_items_steam.isnull().sum()"
   ]
  },
  {
   "cell_type": "markdown",
   "id": "c3321dba",
   "metadata": {},
   "source": [
    "### 2) df_items_rev: es la union de final_items con final_rev"
   ]
  },
  {
   "cell_type": "markdown",
   "id": "31c7accf",
   "metadata": {},
   "source": [
    "Voy a unir el dataset final_items  (dataset con items por usuario) con el dataset final_rev que tiene las reseñas.\n",
    "La union debe hacerse usando don claves: user_id y item_id"
   ]
  },
  {
   "cell_type": "code",
   "execution_count": 157,
   "id": "aca623bc",
   "metadata": {},
   "outputs": [],
   "source": [
    "final_rev['user_id'] = final_rev['user_id'].str.strip()\n",
    "final_items['user_id']= final_items['user_id'].str.strip()\n",
    "final_rev['item_id'] = final_rev['item_id'].astype(float)\n",
    "final_items ['item_id'] = final_items ['item_id'].astype(float) "
   ]
  },
  {
   "cell_type": "code",
   "execution_count": 158,
   "id": "6ccb9615",
   "metadata": {},
   "outputs": [],
   "source": [
    "df_items_rev=pd.merge(final_items,final_rev, left_on=['user_id','item_id'], right_on=['user_id','item_id'], how='left')"
   ]
  },
  {
   "cell_type": "code",
   "execution_count": 74,
   "id": "38487017",
   "metadata": {},
   "outputs": [
    {
     "data": {
      "text/plain": [
       "(5110864, 20)"
      ]
     },
     "execution_count": 74,
     "metadata": {},
     "output_type": "execute_result"
    }
   ],
   "source": [
    "df_items_rev.shape"
   ]
  },
  {
   "cell_type": "code",
   "execution_count": 75,
   "id": "e32d9eab",
   "metadata": {},
   "outputs": [
    {
     "data": {
      "text/plain": [
       "user_id                     0\n",
       "items_count                 0\n",
       "steam_id                    0\n",
       "user_url_x                  0\n",
       "item_id                     0\n",
       "item_name                   0\n",
       "playtime_forever            0\n",
       "playtime_2weeks             0\n",
       "user_url_y            5066655\n",
       "funny                 5066655\n",
       "posted                5074553\n",
       "last_edited           5066655\n",
       "helpful               5066655\n",
       "recommend             5066655\n",
       "review                5066655\n",
       "posted2               5066655\n",
       "mes_dia               5066655\n",
       "año                   5074553\n",
       "año_posted            5074553\n",
       "sentiment_analysis    5066655\n",
       "dtype: int64"
      ]
     },
     "execution_count": 75,
     "metadata": {},
     "output_type": "execute_result"
    }
   ],
   "source": [
    "df_items_rev.isnull().sum()"
   ]
  },
  {
   "cell_type": "code",
   "execution_count": 76,
   "id": "0f319fd9",
   "metadata": {},
   "outputs": [],
   "source": [
    "df_items_rev.dropna(subset=['recommend'],inplace=True)"
   ]
  },
  {
   "cell_type": "code",
   "execution_count": 77,
   "id": "9619cff5",
   "metadata": {},
   "outputs": [
    {
     "data": {
      "text/plain": [
       "(44209, 20)"
      ]
     },
     "execution_count": 77,
     "metadata": {},
     "output_type": "execute_result"
    }
   ],
   "source": [
    "df_items_rev.shape"
   ]
  },
  {
   "cell_type": "markdown",
   "id": "e59df2bb",
   "metadata": {},
   "source": [
    "### 3) df_items_steam_rv : es la union de df_items_steam con final_rev"
   ]
  },
  {
   "cell_type": "markdown",
   "id": "d293ec67",
   "metadata": {},
   "source": [
    "Voy a unir el dataset df_items_steam (dataset con items por usuario e informacion de cada item) generado en el paso anterior con el dataset final_rev\n",
    "que tiene las reseñas. La union debe hacerse usando don claves: user_id y item_id"
   ]
  },
  {
   "cell_type": "code",
   "execution_count": 78,
   "id": "18f8ea63",
   "metadata": {},
   "outputs": [],
   "source": [
    "# Acomodo el formato de las columnas para poder hacer el merge\n",
    "final_rev['user_id'] = final_rev['user_id'].str.strip()\n",
    "df_items_steam ['user_id'] = df_items_steam ['user_id'].str.strip()\n",
    "final_rev['item_id'] = final_rev['item_id'].astype(float)\n"
   ]
  },
  {
   "cell_type": "code",
   "execution_count": 79,
   "id": "0d04ae33",
   "metadata": {},
   "outputs": [],
   "source": [
    "df_items_steam_rv=pd.merge(df_items_steam,final_rev, left_on= ['user_id','item_id'], right_on=['user_id','item_id'], how='left')"
   ]
  },
  {
   "cell_type": "code",
   "execution_count": 80,
   "id": "ce1ddb70",
   "metadata": {},
   "outputs": [
    {
     "data": {
      "text/plain": [
       "(5110864, 36)"
      ]
     },
     "execution_count": 80,
     "metadata": {},
     "output_type": "execute_result"
    }
   ],
   "source": [
    "df_items_steam_rv.shape"
   ]
  },
  {
   "cell_type": "code",
   "execution_count": 81,
   "id": "659b8415",
   "metadata": {},
   "outputs": [
    {
     "data": {
      "text/plain": [
       "user_id                     0\n",
       "items_count                 0\n",
       "steam_id                    0\n",
       "user_url_x                  0\n",
       "item_id                     0\n",
       "                       ...   \n",
       "posted2               5066655\n",
       "mes_dia               5066655\n",
       "año                   5074553\n",
       "año_posted            5074553\n",
       "sentiment_analysis    5066655\n",
       "Length: 36, dtype: int64"
      ]
     },
     "execution_count": 81,
     "metadata": {},
     "output_type": "execute_result"
    }
   ],
   "source": [
    "df_items_steam_rv.isnull().sum()"
   ]
  },
  {
   "cell_type": "code",
   "execution_count": 82,
   "id": "d7fe5994",
   "metadata": {},
   "outputs": [],
   "source": [
    "# Elimino los nulos y me quedo solo con los items que tienen review en este dataset"
   ]
  },
  {
   "cell_type": "code",
   "execution_count": 83,
   "id": "782cd604",
   "metadata": {},
   "outputs": [],
   "source": [
    "df_items_steam_rv.dropna(subset=['posted'],inplace=True)"
   ]
  },
  {
   "cell_type": "code",
   "execution_count": 84,
   "id": "ef93d02b",
   "metadata": {},
   "outputs": [
    {
     "data": {
      "text/plain": [
       "(36311, 36)"
      ]
     },
     "execution_count": 84,
     "metadata": {},
     "output_type": "execute_result"
    }
   ],
   "source": [
    "df_items_steam_rv.shape"
   ]
  },
  {
   "cell_type": "markdown",
   "id": "43cff2cd",
   "metadata": {},
   "source": [
    "## 5.1 FUNCION 1--> def userdata( User_id : str )<a name=\"id9\"></a>\n",
    "### *Debe devolver cantidad de dinero gastado por el usuario, el porcentaje de recomendación en base a reviews.recommend y cantidad de items.*\n",
    "***"
   ]
  },
  {
   "cell_type": "markdown",
   "id": "da145177",
   "metadata": {},
   "source": [
    "#### Voy a generar un dataset con los gastos por usuario que luego será llamado por la función. "
   ]
  },
  {
   "cell_type": "markdown",
   "id": "61b8e9f5",
   "metadata": {},
   "source": [
    "Genero un dataset para realizar los calculos tomando las columnas que necesito del df_items_steam"
   ]
  },
  {
   "cell_type": "code",
   "execution_count": 85,
   "id": "e850cea3",
   "metadata": {},
   "outputs": [],
   "source": [
    "df_userdata1 = df_items_steam[['user_id','item_id','price']]"
   ]
  },
  {
   "cell_type": "markdown",
   "id": "8e7e5609",
   "metadata": {},
   "source": [
    "Realizo agrupacion por usuario y aplico la funcion de agregación suma a precio para calcular el gasto"
   ]
  },
  {
   "cell_type": "code",
   "execution_count": 86,
   "id": "8b6424b3",
   "metadata": {},
   "outputs": [],
   "source": [
    "df_userdata1_agg=df_userdata1.groupby('user_id').agg(  gasto = ('price','sum')).reset_index()"
   ]
  },
  {
   "cell_type": "code",
   "execution_count": 87,
   "id": "05428424",
   "metadata": {},
   "outputs": [
    {
     "data": {
      "text/html": [
       "<div>\n",
       "<style scoped>\n",
       "    .dataframe tbody tr th:only-of-type {\n",
       "        vertical-align: middle;\n",
       "    }\n",
       "\n",
       "    .dataframe tbody tr th {\n",
       "        vertical-align: top;\n",
       "    }\n",
       "\n",
       "    .dataframe thead th {\n",
       "        text-align: right;\n",
       "    }\n",
       "</style>\n",
       "<table border=\"1\" class=\"dataframe\">\n",
       "  <thead>\n",
       "    <tr style=\"text-align: right;\">\n",
       "      <th></th>\n",
       "      <th>user_id</th>\n",
       "      <th>gasto</th>\n",
       "    </tr>\n",
       "  </thead>\n",
       "  <tbody>\n",
       "    <tr>\n",
       "      <th>0</th>\n",
       "      <td>--000--</td>\n",
       "      <td>402.77</td>\n",
       "    </tr>\n",
       "    <tr>\n",
       "      <th>1</th>\n",
       "      <td>--ace--</td>\n",
       "      <td>166.82</td>\n",
       "    </tr>\n",
       "    <tr>\n",
       "      <th>2</th>\n",
       "      <td>--ionex--</td>\n",
       "      <td>109.92</td>\n",
       "    </tr>\n",
       "  </tbody>\n",
       "</table>\n",
       "</div>"
      ],
      "text/plain": [
       "     user_id   gasto\n",
       "0    --000--  402.77\n",
       "1    --ace--  166.82\n",
       "2  --ionex--  109.92"
      ]
     },
     "execution_count": 87,
     "metadata": {},
     "output_type": "execute_result"
    }
   ],
   "source": [
    "df_userdata1_agg.head(3)"
   ]
  },
  {
   "cell_type": "markdown",
   "id": "650ce171",
   "metadata": {},
   "source": [
    "Guardo el dataset a un csv para luego alimentar a la función."
   ]
  },
  {
   "cell_type": "code",
   "execution_count": 88,
   "id": "10435893",
   "metadata": {},
   "outputs": [],
   "source": [
    "df_userdata1_agg.to_csv('userdata_1')"
   ]
  },
  {
   "cell_type": "code",
   "execution_count": 89,
   "id": "8822ba55",
   "metadata": {},
   "outputs": [],
   "source": [
    "df_userdata1_agg.to_parquet('userdata_1_p')"
   ]
  },
  {
   "cell_type": "markdown",
   "id": "25b6b944",
   "metadata": {},
   "source": [
    "#### Voy a generar un dataset que tenga por usuario el porcentaje de recomendación."
   ]
  },
  {
   "cell_type": "markdown",
   "id": "2ff23a96",
   "metadata": {},
   "source": [
    "Genero un dataset para realizar los calculos tomando las columnas que necesito del df_items_rev"
   ]
  },
  {
   "cell_type": "code",
   "execution_count": 90,
   "id": "089a9d5f",
   "metadata": {},
   "outputs": [],
   "source": [
    "df_userdata2 = df_items_rev[['user_id','recommend','items_count']]"
   ]
  },
  {
   "cell_type": "markdown",
   "id": "391325a6",
   "metadata": {},
   "source": [
    "Realizo agrupacion por usuario y aplico la funcion de agregación suma a recommend para obtener el total de recomendaciones por usuario, la funcion maximo para items_count, que igualmente es constante para todos los valores de mismo usuario. Con esos dos valores puedo calcular el porcentaje de recomendacion. "
   ]
  },
  {
   "cell_type": "code",
   "execution_count": 91,
   "id": "4b345e70",
   "metadata": {},
   "outputs": [],
   "source": [
    "df_userdata2_agg =df_userdata2 .groupby('user_id').agg(recomendado = ('recommend','sum'),totalit=('items_count','max') ).reset_index()"
   ]
  },
  {
   "cell_type": "code",
   "execution_count": 92,
   "id": "bb6dc587",
   "metadata": {},
   "outputs": [],
   "source": [
    "df_userdata2_agg['recomendado'] = df_userdata2_agg['recomendado'].astype(int)"
   ]
  },
  {
   "cell_type": "code",
   "execution_count": 93,
   "id": "99759029",
   "metadata": {},
   "outputs": [],
   "source": [
    "df_userdata2_agg['porcentaje']=(df_userdata2_agg['recomendado']/df_userdata2_agg['totalit'])*100"
   ]
  },
  {
   "cell_type": "code",
   "execution_count": 94,
   "id": "b9aa4ab5",
   "metadata": {},
   "outputs": [
    {
     "data": {
      "text/html": [
       "<div>\n",
       "<style scoped>\n",
       "    .dataframe tbody tr th:only-of-type {\n",
       "        vertical-align: middle;\n",
       "    }\n",
       "\n",
       "    .dataframe tbody tr th {\n",
       "        vertical-align: top;\n",
       "    }\n",
       "\n",
       "    .dataframe thead th {\n",
       "        text-align: right;\n",
       "    }\n",
       "</style>\n",
       "<table border=\"1\" class=\"dataframe\">\n",
       "  <thead>\n",
       "    <tr style=\"text-align: right;\">\n",
       "      <th></th>\n",
       "      <th>user_id</th>\n",
       "      <th>recomendado</th>\n",
       "      <th>totalit</th>\n",
       "      <th>porcentaje</th>\n",
       "    </tr>\n",
       "  </thead>\n",
       "  <tbody>\n",
       "    <tr>\n",
       "      <th>0</th>\n",
       "      <td>--000--</td>\n",
       "      <td>1</td>\n",
       "      <td>58</td>\n",
       "      <td>1.724138</td>\n",
       "    </tr>\n",
       "    <tr>\n",
       "      <th>1</th>\n",
       "      <td>--ace--</td>\n",
       "      <td>1</td>\n",
       "      <td>44</td>\n",
       "      <td>2.272727</td>\n",
       "    </tr>\n",
       "    <tr>\n",
       "      <th>2</th>\n",
       "      <td>--ionex--</td>\n",
       "      <td>2</td>\n",
       "      <td>23</td>\n",
       "      <td>8.695652</td>\n",
       "    </tr>\n",
       "    <tr>\n",
       "      <th>3</th>\n",
       "      <td>-2SV-vuLB-Kg</td>\n",
       "      <td>4</td>\n",
       "      <td>68</td>\n",
       "      <td>5.882353</td>\n",
       "    </tr>\n",
       "  </tbody>\n",
       "</table>\n",
       "</div>"
      ],
      "text/plain": [
       "        user_id  recomendado  totalit  porcentaje\n",
       "0       --000--            1       58    1.724138\n",
       "1       --ace--            1       44    2.272727\n",
       "2     --ionex--            2       23    8.695652\n",
       "3  -2SV-vuLB-Kg            4       68    5.882353"
      ]
     },
     "execution_count": 94,
     "metadata": {},
     "output_type": "execute_result"
    }
   ],
   "source": [
    "df_userdata2_agg.head(4)"
   ]
  },
  {
   "cell_type": "markdown",
   "id": "7529c15c",
   "metadata": {},
   "source": [
    "Guardo el dataset a un csv para luego alimentar a la función."
   ]
  },
  {
   "cell_type": "code",
   "execution_count": 95,
   "id": "6c68f32d",
   "metadata": {},
   "outputs": [],
   "source": [
    "df_userdata2_agg.to_csv('userdata_2')\n",
    "df_userdata2_agg.to_parquet('userdata_2_p')"
   ]
  },
  {
   "cell_type": "markdown",
   "id": "8da1f1ac",
   "metadata": {},
   "source": [
    "### Genero la función 1:"
   ]
  },
  {
   "cell_type": "code",
   "execution_count": 96,
   "id": "958696ff",
   "metadata": {},
   "outputs": [],
   "source": [
    "def userdata (df1,df2,usuario):\n",
    "    user = usuario\n",
    "    df1_filtrado = df1[df1['user_id'] == user]\n",
    "    df2_filtrado = df2[df2['user_id'] == user]\n",
    "    valor1=df1_filtrado.gasto.iloc[0]\n",
    "    valor2=df2_filtrado.porcentaje.iloc[0]\n",
    "    valor3= df2_filtrado.totalit.iloc[0]\n",
    "    return  ({'dinero gastado' : valor1,'cantidad_items':valor3,'porcecntaje_recom':valor2})"
   ]
  },
  {
   "cell_type": "code",
   "execution_count": 97,
   "id": "75f44629",
   "metadata": {},
   "outputs": [
    {
     "data": {
      "text/plain": [
       "{'dinero gastado': 3424.3099999999854,\n",
       " 'cantidad_items': 277,\n",
       " 'porcecntaje_recom': 1.083032490974729}"
      ]
     },
     "execution_count": 97,
     "metadata": {},
     "output_type": "execute_result"
    }
   ],
   "source": [
    "\n",
    "userdata(df_userdata1_agg,df_userdata2_agg,'76561197970982479')"
   ]
  },
  {
   "cell_type": "markdown",
   "id": "018a3a81",
   "metadata": {},
   "source": [
    "## 5.2 FUNCION 2 --> def countreviews( YYYY-MM-DD y YYYY-MM-DD : str )<a name=\"id10\"></a> \n",
    "### *Cantidad de usuarios que realizaron reviews entre las fechas dadas y, el porcentaje de recomendación de los mismos en base a reviews.recommend.*\n",
    "***"
   ]
  },
  {
   "cell_type": "markdown",
   "id": "01104f9a",
   "metadata": {},
   "source": [
    "#### Voy a generar un dataset que tenga por fecha de posteo, el usuario, recommend y la cantidad de items por usuario."
   ]
  },
  {
   "cell_type": "markdown",
   "id": "02e70942",
   "metadata": {},
   "source": [
    "Genero un dataset para realizar los calculos tomando las columnas que necesito del final_rev."
   ]
  },
  {
   "cell_type": "code",
   "execution_count": 98,
   "id": "a72e9a35",
   "metadata": {},
   "outputs": [],
   "source": [
    "df_countreviews= final_rev[['posted','user_id','recommend']].copy()"
   ]
  },
  {
   "cell_type": "code",
   "execution_count": 99,
   "id": "f76ccf8b",
   "metadata": {},
   "outputs": [],
   "source": [
    "df_countreviews['recommend']=df_countreviews['recommend'].astype(int)"
   ]
  },
  {
   "cell_type": "code",
   "execution_count": 100,
   "id": "382a1531",
   "metadata": {},
   "outputs": [],
   "source": [
    "df_countreviews.dropna(subset=['user_id'],inplace=True)"
   ]
  },
  {
   "cell_type": "markdown",
   "id": "6c1c32a6",
   "metadata": {},
   "source": [
    "Guardo el dataset a un csv para luego alimentar a la función."
   ]
  },
  {
   "cell_type": "code",
   "execution_count": 101,
   "id": "8870c661",
   "metadata": {},
   "outputs": [],
   "source": [
    "df_countreviews.to_csv('countreviews')\n",
    "df_countreviews.to_parquet('counterviwes_p')"
   ]
  },
  {
   "cell_type": "markdown",
   "id": "6ad8bf92",
   "metadata": {},
   "source": [
    "### genero la Función 2:"
   ]
  },
  {
   "cell_type": "code",
   "execution_count": 102,
   "id": "c51b7d27",
   "metadata": {},
   "outputs": [],
   "source": [
    "def countreviews(df,fecha_inicio, fecha_fin):\n",
    "    # Convierte las fechas a objetos DateTime si no lo están\n",
    "    fecha_inicio = pd.to_datetime(fecha_inicio)\n",
    "    fecha_fin = pd.to_datetime(fecha_fin)\n",
    "    # Filtra el DataFrame para incluir solo filas dentro del rango de fechas\n",
    "    df_filtrado = df[(df['posted'] >= fecha_inicio) & (df['posted'] <= fecha_fin)]\n",
    "    \n",
    "    # Calcula cantidad de usuarios y porcentaje de recomendacion\n",
    "    cantidad_usuarios = df_filtrado['user_id'].nunique()\n",
    "    recomendacion = df_filtrado['recommend'].sum()/df_filtrado['recommend'].count()\n",
    "    # Puedes agregar más columnas según tus necesidades\n",
    "    \n",
    "    # Retorna los valores promedio calculados\n",
    "    return {'cantidad_usuarios': cantidad_usuarios,'recomendacion': recomendacion}\n",
    "   "
   ]
  },
  {
   "cell_type": "code",
   "execution_count": 103,
   "id": "e262ef27",
   "metadata": {},
   "outputs": [
    {
     "data": {
      "text/plain": [
       "{'cantidad_usuarios': 517, 'recomendacion': 0.9809523809523809}"
      ]
     },
     "execution_count": 103,
     "metadata": {},
     "output_type": "execute_result"
    }
   ],
   "source": [
    "fecha_inicio = '2011-07-15'\n",
    "fecha_fin = '2012-07-15'\n",
    "resultado = countreviews(df_countreviews, fecha_inicio, fecha_fin)\n",
    "resultado\n",
    "# Imprime más resultados si es necesario"
   ]
  },
  {
   "cell_type": "code",
   "execution_count": null,
   "id": "309cfe4a",
   "metadata": {},
   "outputs": [],
   "source": []
  },
  {
   "cell_type": "code",
   "execution_count": null,
   "id": "2536437f",
   "metadata": {},
   "outputs": [],
   "source": []
  },
  {
   "cell_type": "markdown",
   "id": "dcedb808",
   "metadata": {},
   "source": [
    "## 5.3 FUNCION 3  def genre( género : str ) <a name=\"id11\"></a>\n",
    "### *Devuelve el puesto en el que se encuentra un género sobre el ranking de los mismos analizado bajo la columna PlayTimeForever.*\n",
    "***"
   ]
  },
  {
   "cell_type": "markdown",
   "id": "04155f2d",
   "metadata": {},
   "source": [
    "#### Voy a generar un dataset que tenga en una columna todos los generos y en otra columna la cantidad de horas de cada uno (playtimeForever)"
   ]
  },
  {
   "cell_type": "markdown",
   "id": "9e19e737",
   "metadata": {},
   "source": [
    "Genero un dataset para realizar los calculos tomando las columnas que necesito del df_items_steam"
   ]
  },
  {
   "cell_type": "code",
   "execution_count": 104,
   "id": "280c5a0a",
   "metadata": {},
   "outputs": [],
   "source": [
    "df_genre = df_items_steam [['genres','playtime_forever']]"
   ]
  },
  {
   "cell_type": "markdown",
   "id": "ff86992f",
   "metadata": {},
   "source": [
    "Como cada item contiene una lista de generos, aplano la columna genero utilizando la función explode."
   ]
  },
  {
   "cell_type": "code",
   "execution_count": 105,
   "id": "eccdc2f1",
   "metadata": {},
   "outputs": [],
   "source": [
    "df_genre_exp=df_genre.explode('genres')"
   ]
  },
  {
   "cell_type": "code",
   "execution_count": 106,
   "id": "63266a75",
   "metadata": {},
   "outputs": [
    {
     "data": {
      "text/html": [
       "<div>\n",
       "<style scoped>\n",
       "    .dataframe tbody tr th:only-of-type {\n",
       "        vertical-align: middle;\n",
       "    }\n",
       "\n",
       "    .dataframe tbody tr th {\n",
       "        vertical-align: top;\n",
       "    }\n",
       "\n",
       "    .dataframe thead th {\n",
       "        text-align: right;\n",
       "    }\n",
       "</style>\n",
       "<table border=\"1\" class=\"dataframe\">\n",
       "  <thead>\n",
       "    <tr style=\"text-align: right;\">\n",
       "      <th></th>\n",
       "      <th>user_id</th>\n",
       "      <th>items_count</th>\n",
       "      <th>steam_id</th>\n",
       "      <th>user_url</th>\n",
       "      <th>item_id</th>\n",
       "      <th>item_name</th>\n",
       "      <th>playtime_forever</th>\n",
       "      <th>playtime_2weeks</th>\n",
       "      <th>publisher</th>\n",
       "      <th>genres</th>\n",
       "      <th>app_name</th>\n",
       "      <th>title</th>\n",
       "      <th>url</th>\n",
       "      <th>release_date</th>\n",
       "      <th>tags</th>\n",
       "      <th>reviews_url</th>\n",
       "      <th>discount_price</th>\n",
       "      <th>specs</th>\n",
       "      <th>price</th>\n",
       "      <th>early_access</th>\n",
       "      <th>id</th>\n",
       "      <th>metascore</th>\n",
       "      <th>developer</th>\n",
       "      <th>year</th>\n",
       "    </tr>\n",
       "  </thead>\n",
       "  <tbody>\n",
       "    <tr>\n",
       "      <th>0</th>\n",
       "      <td>76561197970982479</td>\n",
       "      <td>277</td>\n",
       "      <td>76561197970982479</td>\n",
       "      <td>http://steamcommunity.com/profiles/76561197970982479</td>\n",
       "      <td>10.0</td>\n",
       "      <td>Counter-Strike</td>\n",
       "      <td>6</td>\n",
       "      <td>0</td>\n",
       "      <td>VALVE</td>\n",
       "      <td>[Action]</td>\n",
       "      <td>Counter-Strike</td>\n",
       "      <td>COUNTER-STRIKE</td>\n",
       "      <td>http://store.steampowered.com/app/10/CounterStrike/</td>\n",
       "      <td>2000-11-01</td>\n",
       "      <td>[Action, FPS, Multiplayer, Shooter, Classic, Team-Based, Competitive, First-Person, Tactical, 1990's, e-sports, PvP, Military, Strategy, Score Attack, Survival, Assassin, 1980s, Ninja, Tower Defense]</td>\n",
       "      <td>http://steamcommunity.com/app/10/reviews/?browsefilter=mostrecent&amp;p=1</td>\n",
       "      <td>NaN</td>\n",
       "      <td>[Multi-player, Valve Anti-Cheat enabled]</td>\n",
       "      <td>9.99</td>\n",
       "      <td>0.0</td>\n",
       "      <td>10.0</td>\n",
       "      <td>88</td>\n",
       "      <td>VALVE</td>\n",
       "      <td>2000.0</td>\n",
       "    </tr>\n",
       "    <tr>\n",
       "      <th>1</th>\n",
       "      <td>76561197970982479</td>\n",
       "      <td>277</td>\n",
       "      <td>76561197970982479</td>\n",
       "      <td>http://steamcommunity.com/profiles/76561197970982479</td>\n",
       "      <td>20.0</td>\n",
       "      <td>Team Fortress Classic</td>\n",
       "      <td>0</td>\n",
       "      <td>0</td>\n",
       "      <td>VALVE</td>\n",
       "      <td>[Action]</td>\n",
       "      <td>Team Fortress Classic</td>\n",
       "      <td>TEAM FORTRESS CLASSIC</td>\n",
       "      <td>http://store.steampowered.com/app/20/Team_Fortress_Classic/</td>\n",
       "      <td>1999-04-01</td>\n",
       "      <td>[Action, FPS, Multiplayer, Classic, Shooter, Class-Based, Team-Based, First-Person, 1990's, Co-op, Competitive, Fast-Paced, Online Co-Op, Remake, Retro, Mod, Funny, Adventure, Story Rich, Casual]</td>\n",
       "      <td>http://steamcommunity.com/app/20/reviews/?browsefilter=mostrecent&amp;p=1</td>\n",
       "      <td>NaN</td>\n",
       "      <td>[Multi-player, Valve Anti-Cheat enabled]</td>\n",
       "      <td>4.99</td>\n",
       "      <td>0.0</td>\n",
       "      <td>20.0</td>\n",
       "      <td>None</td>\n",
       "      <td>VALVE</td>\n",
       "      <td>1999.0</td>\n",
       "    </tr>\n",
       "  </tbody>\n",
       "</table>\n",
       "</div>"
      ],
      "text/plain": [
       "             user_id  items_count           steam_id  \\\n",
       "0  76561197970982479          277  76561197970982479   \n",
       "1  76561197970982479          277  76561197970982479   \n",
       "\n",
       "                                               user_url  item_id  \\\n",
       "0  http://steamcommunity.com/profiles/76561197970982479     10.0   \n",
       "1  http://steamcommunity.com/profiles/76561197970982479     20.0   \n",
       "\n",
       "               item_name  playtime_forever  playtime_2weeks publisher  \\\n",
       "0         Counter-Strike                 6                0     VALVE   \n",
       "1  Team Fortress Classic                 0                0     VALVE   \n",
       "\n",
       "     genres               app_name                  title  \\\n",
       "0  [Action]         Counter-Strike         COUNTER-STRIKE   \n",
       "1  [Action]  Team Fortress Classic  TEAM FORTRESS CLASSIC   \n",
       "\n",
       "                                                           url release_date  \\\n",
       "0          http://store.steampowered.com/app/10/CounterStrike/   2000-11-01   \n",
       "1  http://store.steampowered.com/app/20/Team_Fortress_Classic/   1999-04-01   \n",
       "\n",
       "                                                                                                                                                                                                      tags  \\\n",
       "0  [Action, FPS, Multiplayer, Shooter, Classic, Team-Based, Competitive, First-Person, Tactical, 1990's, e-sports, PvP, Military, Strategy, Score Attack, Survival, Assassin, 1980s, Ninja, Tower Defense]   \n",
       "1      [Action, FPS, Multiplayer, Classic, Shooter, Class-Based, Team-Based, First-Person, 1990's, Co-op, Competitive, Fast-Paced, Online Co-Op, Remake, Retro, Mod, Funny, Adventure, Story Rich, Casual]   \n",
       "\n",
       "                                                             reviews_url  \\\n",
       "0  http://steamcommunity.com/app/10/reviews/?browsefilter=mostrecent&p=1   \n",
       "1  http://steamcommunity.com/app/20/reviews/?browsefilter=mostrecent&p=1   \n",
       "\n",
       "   discount_price                                     specs  price  \\\n",
       "0             NaN  [Multi-player, Valve Anti-Cheat enabled]   9.99   \n",
       "1             NaN  [Multi-player, Valve Anti-Cheat enabled]   4.99   \n",
       "\n",
       "   early_access    id metascore developer    year  \n",
       "0           0.0  10.0        88     VALVE  2000.0  \n",
       "1           0.0  20.0      None     VALVE  1999.0  "
      ]
     },
     "execution_count": 106,
     "metadata": {},
     "output_type": "execute_result"
    }
   ],
   "source": [
    "df_items_steam.head(2)"
   ]
  },
  {
   "cell_type": "code",
   "execution_count": 107,
   "id": "9f2a4e1d",
   "metadata": {},
   "outputs": [
    {
     "data": {
      "text/plain": [
       "array(['Action', 'Strategy', nan, 'RPG', 'Indie', 'Casual', 'Simulation',\n",
       "       'Adventure', 'Racing', 'Sports', 'Early Access', 'Free to Play',\n",
       "       'Massively Multiplayer', None, 'Utilities',\n",
       "       'Animation &amp; Modeling', 'Design &amp; Illustration',\n",
       "       'Education', 'Web Publishing', 'Video Production',\n",
       "       'Audio Production', 'Software Training', 'Photo Editing'],\n",
       "      dtype=object)"
      ]
     },
     "execution_count": 107,
     "metadata": {},
     "output_type": "execute_result"
    }
   ],
   "source": [
    "df_genre_exp.genres.unique()"
   ]
  },
  {
   "cell_type": "code",
   "execution_count": 108,
   "id": "f5480cb5",
   "metadata": {},
   "outputs": [
    {
     "data": {
      "text/plain": [
       "genres              941159\n",
       "playtime_forever         0\n",
       "dtype: int64"
      ]
     },
     "execution_count": 108,
     "metadata": {},
     "output_type": "execute_result"
    }
   ],
   "source": [
    "df_genre_exp.isnull().sum()"
   ]
  },
  {
   "cell_type": "markdown",
   "id": "ea0c08b9",
   "metadata": {},
   "source": [
    "Elimino los valores nulos de genero"
   ]
  },
  {
   "cell_type": "code",
   "execution_count": 109,
   "id": "ec5b93b9",
   "metadata": {},
   "outputs": [],
   "source": [
    "df_genre_exp.dropna(inplace=True)"
   ]
  },
  {
   "cell_type": "markdown",
   "id": "e1f800f5",
   "metadata": {},
   "source": [
    "Exploro la cantidad de valores unicos de genero y cuantos registros tengo de cada uno."
   ]
  },
  {
   "cell_type": "code",
   "execution_count": 110,
   "id": "97d5501f",
   "metadata": {},
   "outputs": [
    {
     "data": {
      "text/plain": [
       "Action                       2784702\n",
       "Indie                        1749272\n",
       "Adventure                    1156700\n",
       "RPG                           903467\n",
       "Strategy                      796644\n",
       "Free to Play                  751961\n",
       "Simulation                    532003\n",
       "Casual                        496892\n",
       "Massively Multiplayer         369922\n",
       "Early Access                  123049\n",
       "Sports                        107929\n",
       "Racing                        101695\n",
       "Utilities                       9763\n",
       "Design &amp; Illustration       8645\n",
       "Animation &amp; Modeling        7121\n",
       "Video Production                4594\n",
       "Web Publishing                  3819\n",
       "Education                       3070\n",
       "Software Training               2364\n",
       "Audio Production                 876\n",
       "Photo Editing                    595\n",
       "Name: genres, dtype: int64"
      ]
     },
     "execution_count": 110,
     "metadata": {},
     "output_type": "execute_result"
    }
   ],
   "source": [
    "df_genre_exp.genres.value_counts()"
   ]
  },
  {
   "cell_type": "markdown",
   "id": "a68149e8",
   "metadata": {},
   "source": [
    "Agrupo por genero aplicando la funcion de agregación suma sobre la columna playTime_forever, obteniendo la cantidad de horas totales por genero."
   ]
  },
  {
   "cell_type": "code",
   "execution_count": 111,
   "id": "e521e4fc",
   "metadata": {},
   "outputs": [],
   "source": [
    "df_genre_exp_agg =df_genre_exp.groupby('genres').agg(  horas = ('playtime_forever','sum'))"
   ]
  },
  {
   "cell_type": "markdown",
   "id": "1c8bd813",
   "metadata": {},
   "source": [
    "Ordeno el dataset de mayor a menor para obtener del indice la posicion del ranking y reseteo indice"
   ]
  },
  {
   "cell_type": "code",
   "execution_count": 112,
   "id": "93974f0f",
   "metadata": {},
   "outputs": [],
   "source": [
    "df_genre_exp_agg.sort_values(by=['horas'],ascending = False,inplace=True)"
   ]
  },
  {
   "cell_type": "code",
   "execution_count": 113,
   "id": "0470fa40",
   "metadata": {},
   "outputs": [],
   "source": [
    "df_genre_exp_agg.reset_index(inplace=True)"
   ]
  },
  {
   "cell_type": "code",
   "execution_count": 114,
   "id": "db1b0240",
   "metadata": {},
   "outputs": [],
   "source": [
    "df_genre_exp_agg.reset_index(inplace=True)"
   ]
  },
  {
   "cell_type": "code",
   "execution_count": 115,
   "id": "db6e4ccb",
   "metadata": {},
   "outputs": [
    {
     "data": {
      "text/html": [
       "<div>\n",
       "<style scoped>\n",
       "    .dataframe tbody tr th:only-of-type {\n",
       "        vertical-align: middle;\n",
       "    }\n",
       "\n",
       "    .dataframe tbody tr th {\n",
       "        vertical-align: top;\n",
       "    }\n",
       "\n",
       "    .dataframe thead th {\n",
       "        text-align: right;\n",
       "    }\n",
       "</style>\n",
       "<table border=\"1\" class=\"dataframe\">\n",
       "  <thead>\n",
       "    <tr style=\"text-align: right;\">\n",
       "      <th></th>\n",
       "      <th>index</th>\n",
       "      <th>genres</th>\n",
       "      <th>horas</th>\n",
       "    </tr>\n",
       "  </thead>\n",
       "  <tbody>\n",
       "    <tr>\n",
       "      <th>0</th>\n",
       "      <td>0</td>\n",
       "      <td>Action</td>\n",
       "      <td>3084540016</td>\n",
       "    </tr>\n",
       "    <tr>\n",
       "      <th>1</th>\n",
       "      <td>1</td>\n",
       "      <td>Indie</td>\n",
       "      <td>1479029044</td>\n",
       "    </tr>\n",
       "    <tr>\n",
       "      <th>2</th>\n",
       "      <td>2</td>\n",
       "      <td>RPG</td>\n",
       "      <td>1031298413</td>\n",
       "    </tr>\n",
       "    <tr>\n",
       "      <th>3</th>\n",
       "      <td>3</td>\n",
       "      <td>Adventure</td>\n",
       "      <td>902043042</td>\n",
       "    </tr>\n",
       "    <tr>\n",
       "      <th>4</th>\n",
       "      <td>4</td>\n",
       "      <td>Simulation</td>\n",
       "      <td>857761825</td>\n",
       "    </tr>\n",
       "    <tr>\n",
       "      <th>5</th>\n",
       "      <td>5</td>\n",
       "      <td>Strategy</td>\n",
       "      <td>653919092</td>\n",
       "    </tr>\n",
       "    <tr>\n",
       "      <th>6</th>\n",
       "      <td>6</td>\n",
       "      <td>Free to Play</td>\n",
       "      <td>606788993</td>\n",
       "    </tr>\n",
       "    <tr>\n",
       "      <th>7</th>\n",
       "      <td>7</td>\n",
       "      <td>Massively Multiplayer</td>\n",
       "      <td>442030318</td>\n",
       "    </tr>\n",
       "    <tr>\n",
       "      <th>8</th>\n",
       "      <td>8</td>\n",
       "      <td>Casual</td>\n",
       "      <td>251081805</td>\n",
       "    </tr>\n",
       "    <tr>\n",
       "      <th>9</th>\n",
       "      <td>9</td>\n",
       "      <td>Early Access</td>\n",
       "      <td>157152056</td>\n",
       "    </tr>\n",
       "    <tr>\n",
       "      <th>10</th>\n",
       "      <td>10</td>\n",
       "      <td>Sports</td>\n",
       "      <td>65206734</td>\n",
       "    </tr>\n",
       "    <tr>\n",
       "      <th>11</th>\n",
       "      <td>11</td>\n",
       "      <td>Racing</td>\n",
       "      <td>63081010</td>\n",
       "    </tr>\n",
       "    <tr>\n",
       "      <th>12</th>\n",
       "      <td>12</td>\n",
       "      <td>Utilities</td>\n",
       "      <td>4697368</td>\n",
       "    </tr>\n",
       "    <tr>\n",
       "      <th>13</th>\n",
       "      <td>13</td>\n",
       "      <td>Design &amp;amp; Illustration</td>\n",
       "      <td>4081308</td>\n",
       "    </tr>\n",
       "    <tr>\n",
       "      <th>14</th>\n",
       "      <td>14</td>\n",
       "      <td>Web Publishing</td>\n",
       "      <td>2760754</td>\n",
       "    </tr>\n",
       "    <tr>\n",
       "      <th>15</th>\n",
       "      <td>15</td>\n",
       "      <td>Video Production</td>\n",
       "      <td>2394586</td>\n",
       "    </tr>\n",
       "    <tr>\n",
       "      <th>16</th>\n",
       "      <td>16</td>\n",
       "      <td>Animation &amp;amp; Modeling</td>\n",
       "      <td>2000004</td>\n",
       "    </tr>\n",
       "    <tr>\n",
       "      <th>17</th>\n",
       "      <td>17</td>\n",
       "      <td>Software Training</td>\n",
       "      <td>561633</td>\n",
       "    </tr>\n",
       "    <tr>\n",
       "      <th>18</th>\n",
       "      <td>18</td>\n",
       "      <td>Audio Production</td>\n",
       "      <td>547671</td>\n",
       "    </tr>\n",
       "    <tr>\n",
       "      <th>19</th>\n",
       "      <td>19</td>\n",
       "      <td>Education</td>\n",
       "      <td>413174</td>\n",
       "    </tr>\n",
       "    <tr>\n",
       "      <th>20</th>\n",
       "      <td>20</td>\n",
       "      <td>Photo Editing</td>\n",
       "      <td>114505</td>\n",
       "    </tr>\n",
       "  </tbody>\n",
       "</table>\n",
       "</div>"
      ],
      "text/plain": [
       "    index                     genres       horas\n",
       "0       0                     Action  3084540016\n",
       "1       1                      Indie  1479029044\n",
       "2       2                        RPG  1031298413\n",
       "3       3                  Adventure   902043042\n",
       "4       4                 Simulation   857761825\n",
       "5       5                   Strategy   653919092\n",
       "6       6               Free to Play   606788993\n",
       "7       7      Massively Multiplayer   442030318\n",
       "8       8                     Casual   251081805\n",
       "9       9               Early Access   157152056\n",
       "10     10                     Sports    65206734\n",
       "11     11                     Racing    63081010\n",
       "12     12                  Utilities     4697368\n",
       "13     13  Design &amp; Illustration     4081308\n",
       "14     14             Web Publishing     2760754\n",
       "15     15           Video Production     2394586\n",
       "16     16   Animation &amp; Modeling     2000004\n",
       "17     17          Software Training      561633\n",
       "18     18           Audio Production      547671\n",
       "19     19                  Education      413174\n",
       "20     20              Photo Editing      114505"
      ]
     },
     "execution_count": 115,
     "metadata": {},
     "output_type": "execute_result"
    }
   ],
   "source": [
    "df_genre_exp_agg"
   ]
  },
  {
   "cell_type": "code",
   "execution_count": 116,
   "id": "993136cf",
   "metadata": {},
   "outputs": [],
   "source": [
    "df_genre_exp_agg.rename(columns={'index':'rank'},inplace=True)"
   ]
  },
  {
   "cell_type": "markdown",
   "id": "553e6e85",
   "metadata": {},
   "source": [
    "Paso todo a mayuscula"
   ]
  },
  {
   "cell_type": "code",
   "execution_count": 117,
   "id": "5104a47d",
   "metadata": {},
   "outputs": [],
   "source": [
    "#df_genre_exp_agg['genres']=df_genre_exp_agg['genres'].str.upper()"
   ]
  },
  {
   "cell_type": "code",
   "execution_count": 118,
   "id": "ac26a718",
   "metadata": {},
   "outputs": [
    {
     "data": {
      "text/html": [
       "<div>\n",
       "<style scoped>\n",
       "    .dataframe tbody tr th:only-of-type {\n",
       "        vertical-align: middle;\n",
       "    }\n",
       "\n",
       "    .dataframe tbody tr th {\n",
       "        vertical-align: top;\n",
       "    }\n",
       "\n",
       "    .dataframe thead th {\n",
       "        text-align: right;\n",
       "    }\n",
       "</style>\n",
       "<table border=\"1\" class=\"dataframe\">\n",
       "  <thead>\n",
       "    <tr style=\"text-align: right;\">\n",
       "      <th></th>\n",
       "      <th>rank</th>\n",
       "      <th>genres</th>\n",
       "      <th>horas</th>\n",
       "    </tr>\n",
       "  </thead>\n",
       "  <tbody>\n",
       "    <tr>\n",
       "      <th>0</th>\n",
       "      <td>0</td>\n",
       "      <td>Action</td>\n",
       "      <td>3084540016</td>\n",
       "    </tr>\n",
       "    <tr>\n",
       "      <th>1</th>\n",
       "      <td>1</td>\n",
       "      <td>Indie</td>\n",
       "      <td>1479029044</td>\n",
       "    </tr>\n",
       "    <tr>\n",
       "      <th>2</th>\n",
       "      <td>2</td>\n",
       "      <td>RPG</td>\n",
       "      <td>1031298413</td>\n",
       "    </tr>\n",
       "    <tr>\n",
       "      <th>3</th>\n",
       "      <td>3</td>\n",
       "      <td>Adventure</td>\n",
       "      <td>902043042</td>\n",
       "    </tr>\n",
       "    <tr>\n",
       "      <th>4</th>\n",
       "      <td>4</td>\n",
       "      <td>Simulation</td>\n",
       "      <td>857761825</td>\n",
       "    </tr>\n",
       "    <tr>\n",
       "      <th>5</th>\n",
       "      <td>5</td>\n",
       "      <td>Strategy</td>\n",
       "      <td>653919092</td>\n",
       "    </tr>\n",
       "    <tr>\n",
       "      <th>6</th>\n",
       "      <td>6</td>\n",
       "      <td>Free to Play</td>\n",
       "      <td>606788993</td>\n",
       "    </tr>\n",
       "    <tr>\n",
       "      <th>7</th>\n",
       "      <td>7</td>\n",
       "      <td>Massively Multiplayer</td>\n",
       "      <td>442030318</td>\n",
       "    </tr>\n",
       "    <tr>\n",
       "      <th>8</th>\n",
       "      <td>8</td>\n",
       "      <td>Casual</td>\n",
       "      <td>251081805</td>\n",
       "    </tr>\n",
       "    <tr>\n",
       "      <th>9</th>\n",
       "      <td>9</td>\n",
       "      <td>Early Access</td>\n",
       "      <td>157152056</td>\n",
       "    </tr>\n",
       "    <tr>\n",
       "      <th>10</th>\n",
       "      <td>10</td>\n",
       "      <td>Sports</td>\n",
       "      <td>65206734</td>\n",
       "    </tr>\n",
       "    <tr>\n",
       "      <th>11</th>\n",
       "      <td>11</td>\n",
       "      <td>Racing</td>\n",
       "      <td>63081010</td>\n",
       "    </tr>\n",
       "    <tr>\n",
       "      <th>12</th>\n",
       "      <td>12</td>\n",
       "      <td>Utilities</td>\n",
       "      <td>4697368</td>\n",
       "    </tr>\n",
       "    <tr>\n",
       "      <th>13</th>\n",
       "      <td>13</td>\n",
       "      <td>Design &amp;amp; Illustration</td>\n",
       "      <td>4081308</td>\n",
       "    </tr>\n",
       "    <tr>\n",
       "      <th>14</th>\n",
       "      <td>14</td>\n",
       "      <td>Web Publishing</td>\n",
       "      <td>2760754</td>\n",
       "    </tr>\n",
       "    <tr>\n",
       "      <th>15</th>\n",
       "      <td>15</td>\n",
       "      <td>Video Production</td>\n",
       "      <td>2394586</td>\n",
       "    </tr>\n",
       "    <tr>\n",
       "      <th>16</th>\n",
       "      <td>16</td>\n",
       "      <td>Animation &amp;amp; Modeling</td>\n",
       "      <td>2000004</td>\n",
       "    </tr>\n",
       "    <tr>\n",
       "      <th>17</th>\n",
       "      <td>17</td>\n",
       "      <td>Software Training</td>\n",
       "      <td>561633</td>\n",
       "    </tr>\n",
       "    <tr>\n",
       "      <th>18</th>\n",
       "      <td>18</td>\n",
       "      <td>Audio Production</td>\n",
       "      <td>547671</td>\n",
       "    </tr>\n",
       "    <tr>\n",
       "      <th>19</th>\n",
       "      <td>19</td>\n",
       "      <td>Education</td>\n",
       "      <td>413174</td>\n",
       "    </tr>\n",
       "    <tr>\n",
       "      <th>20</th>\n",
       "      <td>20</td>\n",
       "      <td>Photo Editing</td>\n",
       "      <td>114505</td>\n",
       "    </tr>\n",
       "  </tbody>\n",
       "</table>\n",
       "</div>"
      ],
      "text/plain": [
       "    rank                     genres       horas\n",
       "0      0                     Action  3084540016\n",
       "1      1                      Indie  1479029044\n",
       "2      2                        RPG  1031298413\n",
       "3      3                  Adventure   902043042\n",
       "4      4                 Simulation   857761825\n",
       "5      5                   Strategy   653919092\n",
       "6      6               Free to Play   606788993\n",
       "7      7      Massively Multiplayer   442030318\n",
       "8      8                     Casual   251081805\n",
       "9      9               Early Access   157152056\n",
       "10    10                     Sports    65206734\n",
       "11    11                     Racing    63081010\n",
       "12    12                  Utilities     4697368\n",
       "13    13  Design &amp; Illustration     4081308\n",
       "14    14             Web Publishing     2760754\n",
       "15    15           Video Production     2394586\n",
       "16    16   Animation &amp; Modeling     2000004\n",
       "17    17          Software Training      561633\n",
       "18    18           Audio Production      547671\n",
       "19    19                  Education      413174\n",
       "20    20              Photo Editing      114505"
      ]
     },
     "execution_count": 118,
     "metadata": {},
     "output_type": "execute_result"
    }
   ],
   "source": [
    "df_genre_exp_agg"
   ]
  },
  {
   "cell_type": "markdown",
   "id": "3f930008",
   "metadata": {},
   "source": [
    "Guardo el dataset a un csv para luego alimentar a la función."
   ]
  },
  {
   "cell_type": "code",
   "execution_count": 119,
   "id": "d4d9a824",
   "metadata": {},
   "outputs": [],
   "source": [
    "df_genre_exp_agg.to_csv('genre')\n",
    "df_genre_exp_agg.to_parquet('genre_p')"
   ]
  },
  {
   "cell_type": "markdown",
   "id": "3a19f5e8",
   "metadata": {},
   "source": [
    "### Genero la Funcion 3:"
   ]
  },
  {
   "cell_type": "code",
   "execution_count": 120,
   "id": "39e0ae8b",
   "metadata": {},
   "outputs": [],
   "source": [
    "def genre(df,genero):\n",
    "    gen=genero\n",
    "    posicion = df_genre_exp_agg[df_genre_exp_agg['genres'] == gen].index[0]\n",
    "    return {\n",
    "        'posicion en ranking': posicion + 1\n",
    "    }"
   ]
  },
  {
   "cell_type": "code",
   "execution_count": 121,
   "id": "d3f933f6",
   "metadata": {},
   "outputs": [
    {
     "data": {
      "text/plain": [
       "{'posicion en ranking': 18}"
      ]
     },
     "execution_count": 121,
     "metadata": {},
     "output_type": "execute_result"
    }
   ],
   "source": [
    "resultado = genre(df_genre_exp_agg,'Software Training')\n",
    "resultado\n"
   ]
  },
  {
   "cell_type": "markdown",
   "id": "e4b6f8bf",
   "metadata": {},
   "source": [
    "## 5.4 FUNCION 4  def userforgenre( género : str ) <a name=\"id12\"></a>\n",
    "### *Top 5 de usuarios con más horas de juego en el género dado, con su URL (del user) y user_id.*\n",
    "***"
   ]
  },
  {
   "cell_type": "markdown",
   "id": "1652d25d",
   "metadata": {},
   "source": [
    "#### Voy a generar un dataframe que tenga user_id, user_url, genre y playtime_forever"
   ]
  },
  {
   "cell_type": "markdown",
   "id": "3dea609b",
   "metadata": {},
   "source": [
    "Genero un dataset para realizar los calculos tomando las columnas que necesito del df_items_steam"
   ]
  },
  {
   "cell_type": "code",
   "execution_count": 122,
   "id": "a694fd64",
   "metadata": {},
   "outputs": [],
   "source": [
    "df_userforgenre = df_items_steam[['user_id','user_url','genres','playtime_forever']]"
   ]
  },
  {
   "cell_type": "markdown",
   "id": "155ad4e5",
   "metadata": {},
   "source": [
    "Como cada item contiene una lista de generos, aplano la columna genero utilizando la función explode."
   ]
  },
  {
   "cell_type": "code",
   "execution_count": 123,
   "id": "cbb80c0b",
   "metadata": {},
   "outputs": [],
   "source": [
    "df_userforgenre_exp=df_userforgenre.explode('genres')"
   ]
  },
  {
   "cell_type": "code",
   "execution_count": 124,
   "id": "c8a2c323",
   "metadata": {},
   "outputs": [],
   "source": [
    "df_userforgenre_exp.dropna(subset=['genres'],inplace=True)"
   ]
  },
  {
   "cell_type": "code",
   "execution_count": 125,
   "id": "0f92b0b2",
   "metadata": {},
   "outputs": [
    {
     "data": {
      "text/html": [
       "<div>\n",
       "<style scoped>\n",
       "    .dataframe tbody tr th:only-of-type {\n",
       "        vertical-align: middle;\n",
       "    }\n",
       "\n",
       "    .dataframe tbody tr th {\n",
       "        vertical-align: top;\n",
       "    }\n",
       "\n",
       "    .dataframe thead th {\n",
       "        text-align: right;\n",
       "    }\n",
       "</style>\n",
       "<table border=\"1\" class=\"dataframe\">\n",
       "  <thead>\n",
       "    <tr style=\"text-align: right;\">\n",
       "      <th></th>\n",
       "      <th>user_id</th>\n",
       "      <th>user_url</th>\n",
       "      <th>genres</th>\n",
       "      <th>playtime_forever</th>\n",
       "    </tr>\n",
       "  </thead>\n",
       "  <tbody>\n",
       "    <tr>\n",
       "      <th>0</th>\n",
       "      <td>76561197970982479</td>\n",
       "      <td>http://steamcommunity.com/profiles/76561197970982479</td>\n",
       "      <td>Action</td>\n",
       "      <td>6</td>\n",
       "    </tr>\n",
       "    <tr>\n",
       "      <th>1</th>\n",
       "      <td>76561197970982479</td>\n",
       "      <td>http://steamcommunity.com/profiles/76561197970982479</td>\n",
       "      <td>Action</td>\n",
       "      <td>0</td>\n",
       "    </tr>\n",
       "    <tr>\n",
       "      <th>2</th>\n",
       "      <td>76561197970982479</td>\n",
       "      <td>http://steamcommunity.com/profiles/76561197970982479</td>\n",
       "      <td>Action</td>\n",
       "      <td>7</td>\n",
       "    </tr>\n",
       "    <tr>\n",
       "      <th>3</th>\n",
       "      <td>76561197970982479</td>\n",
       "      <td>http://steamcommunity.com/profiles/76561197970982479</td>\n",
       "      <td>Action</td>\n",
       "      <td>0</td>\n",
       "    </tr>\n",
       "    <tr>\n",
       "      <th>4</th>\n",
       "      <td>76561197970982479</td>\n",
       "      <td>http://steamcommunity.com/profiles/76561197970982479</td>\n",
       "      <td>Action</td>\n",
       "      <td>0</td>\n",
       "    </tr>\n",
       "    <tr>\n",
       "      <th>...</th>\n",
       "      <td>...</td>\n",
       "      <td>...</td>\n",
       "      <td>...</td>\n",
       "      <td>...</td>\n",
       "    </tr>\n",
       "    <tr>\n",
       "      <th>5110860</th>\n",
       "      <td>76561198329548331</td>\n",
       "      <td>http://steamcommunity.com/profiles/76561198329548331</td>\n",
       "      <td>Adventure</td>\n",
       "      <td>3</td>\n",
       "    </tr>\n",
       "    <tr>\n",
       "      <th>5110860</th>\n",
       "      <td>76561198329548331</td>\n",
       "      <td>http://steamcommunity.com/profiles/76561198329548331</td>\n",
       "      <td>Free to Play</td>\n",
       "      <td>3</td>\n",
       "    </tr>\n",
       "    <tr>\n",
       "      <th>5110861</th>\n",
       "      <td>76561198329548331</td>\n",
       "      <td>http://steamcommunity.com/profiles/76561198329548331</td>\n",
       "      <td>Casual</td>\n",
       "      <td>4</td>\n",
       "    </tr>\n",
       "    <tr>\n",
       "      <th>5110861</th>\n",
       "      <td>76561198329548331</td>\n",
       "      <td>http://steamcommunity.com/profiles/76561198329548331</td>\n",
       "      <td>Free to Play</td>\n",
       "      <td>4</td>\n",
       "    </tr>\n",
       "    <tr>\n",
       "      <th>5110861</th>\n",
       "      <td>76561198329548331</td>\n",
       "      <td>http://steamcommunity.com/profiles/76561198329548331</td>\n",
       "      <td>Indie</td>\n",
       "      <td>4</td>\n",
       "    </tr>\n",
       "  </tbody>\n",
       "</table>\n",
       "<p>9915083 rows × 4 columns</p>\n",
       "</div>"
      ],
      "text/plain": [
       "                   user_id  \\\n",
       "0        76561197970982479   \n",
       "1        76561197970982479   \n",
       "2        76561197970982479   \n",
       "3        76561197970982479   \n",
       "4        76561197970982479   \n",
       "...                    ...   \n",
       "5110860  76561198329548331   \n",
       "5110860  76561198329548331   \n",
       "5110861  76561198329548331   \n",
       "5110861  76561198329548331   \n",
       "5110861  76561198329548331   \n",
       "\n",
       "                                                     user_url        genres  \\\n",
       "0        http://steamcommunity.com/profiles/76561197970982479        Action   \n",
       "1        http://steamcommunity.com/profiles/76561197970982479        Action   \n",
       "2        http://steamcommunity.com/profiles/76561197970982479        Action   \n",
       "3        http://steamcommunity.com/profiles/76561197970982479        Action   \n",
       "4        http://steamcommunity.com/profiles/76561197970982479        Action   \n",
       "...                                                       ...           ...   \n",
       "5110860  http://steamcommunity.com/profiles/76561198329548331     Adventure   \n",
       "5110860  http://steamcommunity.com/profiles/76561198329548331  Free to Play   \n",
       "5110861  http://steamcommunity.com/profiles/76561198329548331        Casual   \n",
       "5110861  http://steamcommunity.com/profiles/76561198329548331  Free to Play   \n",
       "5110861  http://steamcommunity.com/profiles/76561198329548331         Indie   \n",
       "\n",
       "         playtime_forever  \n",
       "0                       6  \n",
       "1                       0  \n",
       "2                       7  \n",
       "3                       0  \n",
       "4                       0  \n",
       "...                   ...  \n",
       "5110860                 3  \n",
       "5110860                 3  \n",
       "5110861                 4  \n",
       "5110861                 4  \n",
       "5110861                 4  \n",
       "\n",
       "[9915083 rows x 4 columns]"
      ]
     },
     "execution_count": 125,
     "metadata": {},
     "output_type": "execute_result"
    }
   ],
   "source": [
    "df_userforgenre_exp"
   ]
  },
  {
   "cell_type": "markdown",
   "id": "cf5d6ded",
   "metadata": {},
   "source": [
    "Agrupo por usuario y  por genero y aplico sobre playtime_forever la funcion suma para calcular las horas totales y para user_url dejo el primer valor ya que es constante por usuario. "
   ]
  },
  {
   "cell_type": "code",
   "execution_count": 126,
   "id": "8d3c57ce",
   "metadata": {},
   "outputs": [],
   "source": [
    "df_agg= df_userforgenre_exp. groupby (['user_id', 'genres']).agg (horas=('playtime_forever','sum'),url=('user_url','first')). reset_index ()"
   ]
  },
  {
   "cell_type": "code",
   "execution_count": 127,
   "id": "7a817492",
   "metadata": {},
   "outputs": [
    {
     "data": {
      "text/html": [
       "<div>\n",
       "<style scoped>\n",
       "    .dataframe tbody tr th:only-of-type {\n",
       "        vertical-align: middle;\n",
       "    }\n",
       "\n",
       "    .dataframe tbody tr th {\n",
       "        vertical-align: top;\n",
       "    }\n",
       "\n",
       "    .dataframe thead th {\n",
       "        text-align: right;\n",
       "    }\n",
       "</style>\n",
       "<table border=\"1\" class=\"dataframe\">\n",
       "  <thead>\n",
       "    <tr style=\"text-align: right;\">\n",
       "      <th></th>\n",
       "      <th>user_id</th>\n",
       "      <th>genres</th>\n",
       "      <th>horas</th>\n",
       "      <th>url</th>\n",
       "    </tr>\n",
       "  </thead>\n",
       "  <tbody>\n",
       "    <tr>\n",
       "      <th>0</th>\n",
       "      <td>--000--</td>\n",
       "      <td>Action</td>\n",
       "      <td>139469</td>\n",
       "      <td>http://steamcommunity.com/id/--000--</td>\n",
       "    </tr>\n",
       "    <tr>\n",
       "      <th>1</th>\n",
       "      <td>--000--</td>\n",
       "      <td>Adventure</td>\n",
       "      <td>11722</td>\n",
       "      <td>http://steamcommunity.com/id/--000--</td>\n",
       "    </tr>\n",
       "    <tr>\n",
       "      <th>2</th>\n",
       "      <td>--000--</td>\n",
       "      <td>Casual</td>\n",
       "      <td>16135</td>\n",
       "      <td>http://steamcommunity.com/id/--000--</td>\n",
       "    </tr>\n",
       "    <tr>\n",
       "      <th>3</th>\n",
       "      <td>--000--</td>\n",
       "      <td>Early Access</td>\n",
       "      <td>531</td>\n",
       "      <td>http://steamcommunity.com/id/--000--</td>\n",
       "    </tr>\n",
       "    <tr>\n",
       "      <th>4</th>\n",
       "      <td>--000--</td>\n",
       "      <td>Free to Play</td>\n",
       "      <td>20448</td>\n",
       "      <td>http://steamcommunity.com/id/--000--</td>\n",
       "    </tr>\n",
       "    <tr>\n",
       "      <th>...</th>\n",
       "      <td>...</td>\n",
       "      <td>...</td>\n",
       "      <td>...</td>\n",
       "      <td>...</td>\n",
       "    </tr>\n",
       "    <tr>\n",
       "      <th>709092</th>\n",
       "      <td>zzzmidmiss</td>\n",
       "      <td>RPG</td>\n",
       "      <td>2337</td>\n",
       "      <td>http://steamcommunity.com/id/zzzmidmiss</td>\n",
       "    </tr>\n",
       "    <tr>\n",
       "      <th>709093</th>\n",
       "      <td>zzzmidmiss</td>\n",
       "      <td>Racing</td>\n",
       "      <td>9</td>\n",
       "      <td>http://steamcommunity.com/id/zzzmidmiss</td>\n",
       "    </tr>\n",
       "    <tr>\n",
       "      <th>709094</th>\n",
       "      <td>zzzmidmiss</td>\n",
       "      <td>Simulation</td>\n",
       "      <td>16</td>\n",
       "      <td>http://steamcommunity.com/id/zzzmidmiss</td>\n",
       "    </tr>\n",
       "    <tr>\n",
       "      <th>709095</th>\n",
       "      <td>zzzmidmiss</td>\n",
       "      <td>Sports</td>\n",
       "      <td>210</td>\n",
       "      <td>http://steamcommunity.com/id/zzzmidmiss</td>\n",
       "    </tr>\n",
       "    <tr>\n",
       "      <th>709096</th>\n",
       "      <td>zzzmidmiss</td>\n",
       "      <td>Strategy</td>\n",
       "      <td>1002</td>\n",
       "      <td>http://steamcommunity.com/id/zzzmidmiss</td>\n",
       "    </tr>\n",
       "  </tbody>\n",
       "</table>\n",
       "<p>709097 rows × 4 columns</p>\n",
       "</div>"
      ],
      "text/plain": [
       "           user_id        genres   horas  \\\n",
       "0          --000--        Action  139469   \n",
       "1          --000--     Adventure   11722   \n",
       "2          --000--        Casual   16135   \n",
       "3          --000--  Early Access     531   \n",
       "4          --000--  Free to Play   20448   \n",
       "...            ...           ...     ...   \n",
       "709092  zzzmidmiss           RPG    2337   \n",
       "709093  zzzmidmiss        Racing       9   \n",
       "709094  zzzmidmiss    Simulation      16   \n",
       "709095  zzzmidmiss        Sports     210   \n",
       "709096  zzzmidmiss      Strategy    1002   \n",
       "\n",
       "                                            url  \n",
       "0          http://steamcommunity.com/id/--000--  \n",
       "1          http://steamcommunity.com/id/--000--  \n",
       "2          http://steamcommunity.com/id/--000--  \n",
       "3          http://steamcommunity.com/id/--000--  \n",
       "4          http://steamcommunity.com/id/--000--  \n",
       "...                                         ...  \n",
       "709092  http://steamcommunity.com/id/zzzmidmiss  \n",
       "709093  http://steamcommunity.com/id/zzzmidmiss  \n",
       "709094  http://steamcommunity.com/id/zzzmidmiss  \n",
       "709095  http://steamcommunity.com/id/zzzmidmiss  \n",
       "709096  http://steamcommunity.com/id/zzzmidmiss  \n",
       "\n",
       "[709097 rows x 4 columns]"
      ]
     },
     "execution_count": 127,
     "metadata": {},
     "output_type": "execute_result"
    }
   ],
   "source": [
    "df_agg"
   ]
  },
  {
   "cell_type": "markdown",
   "id": "ac749839",
   "metadata": {},
   "source": [
    "Guardo el dataset a un csv para luego alimentar a la función."
   ]
  },
  {
   "cell_type": "code",
   "execution_count": 128,
   "id": "6f8376a7",
   "metadata": {},
   "outputs": [],
   "source": [
    "df_agg.to_csv('userforgenre')\n",
    "df_agg.to_parquet('userforgenre_p')"
   ]
  },
  {
   "cell_type": "markdown",
   "id": "30f32a93",
   "metadata": {},
   "source": [
    "### Genero la Funcion 4:"
   ]
  },
  {
   "cell_type": "code",
   "execution_count": 159,
   "id": "b006d157",
   "metadata": {},
   "outputs": [],
   "source": [
    "def userforgenre (df,genero):\n",
    "   \n",
    "    gen=genero\n",
    "    df_filtrado = df[df['genres'] == gen].copy()  \n",
    "    df_filtrado.sort_values(by=['horas'],ascending=False,inplace=True)\n",
    "    df_top5 = df_filtrado[['user_id','url']].head(5)\n",
    "    js= df_top5.to_dict(orient = 'records') \n",
    "    return js"
   ]
  },
  {
   "cell_type": "code",
   "execution_count": 160,
   "id": "a5ef16b3",
   "metadata": {},
   "outputs": [
    {
     "data": {
      "text/plain": [
       "[{'user_id': 'Sp3ctre', 'url': 'http://steamcommunity.com/id/Sp3ctre'},\n",
       " {'user_id': 'shinomegami', 'url': 'http://steamcommunity.com/id/shinomegami'},\n",
       " {'user_id': 'REBAS_AS_F-T',\n",
       "  'url': 'http://steamcommunity.com/id/REBAS_AS_F-T'},\n",
       " {'user_id': 'Terminally-Chill',\n",
       "  'url': 'http://steamcommunity.com/id/Terminally-Chill'},\n",
       " {'user_id': 'DownSyndromeKid',\n",
       "  'url': 'http://steamcommunity.com/id/DownSyndromeKid'}]"
      ]
     },
     "execution_count": 160,
     "metadata": {},
     "output_type": "execute_result"
    }
   ],
   "source": [
    "userforgenre(df_agg,'Action')"
   ]
  },
  {
   "cell_type": "markdown",
   "id": "468eaf35",
   "metadata": {},
   "source": [
    "## 5.5 FUNCION 5 --> def developer( desarrollador : str ) <a name=\"id13\"></a>\n",
    "### *def developer( desarrollador : str ): Cantidad de items y porcentaje de contenido Free por año según empresa desarrolladora*\n",
    "***"
   ]
  },
  {
   "cell_type": "markdown",
   "id": "587658f4",
   "metadata": {},
   "source": [
    "#### Voy a generar un dataset para la funcion que contenga, empresa desarrolladora, porcentaje de contendido libre"
   ]
  },
  {
   "cell_type": "markdown",
   "id": "1f18bac6",
   "metadata": {},
   "source": [
    "Genero un dataset para realizar los calculos tomando las columnas que necesito del df_steams"
   ]
  },
  {
   "cell_type": "code",
   "execution_count": 131,
   "id": "7b8de009",
   "metadata": {},
   "outputs": [],
   "source": [
    "df_developer=df_steam[['id','developer','price','year']].copy()"
   ]
  },
  {
   "cell_type": "markdown",
   "id": "4947d093",
   "metadata": {},
   "source": [
    "Genero una columna que ponga un 1 si el precio es 0 para identificar el contenido Free"
   ]
  },
  {
   "cell_type": "code",
   "execution_count": 132,
   "id": "c529a9ce",
   "metadata": {},
   "outputs": [],
   "source": [
    "df_developer.loc[:, 'is_free'] = df_developer.apply(lambda x: 1 if x['price'] == 0 else 0, axis=1)"
   ]
  },
  {
   "cell_type": "code",
   "execution_count": 133,
   "id": "ee859f39",
   "metadata": {},
   "outputs": [
    {
     "data": {
      "text/html": [
       "<div>\n",
       "<style scoped>\n",
       "    .dataframe tbody tr th:only-of-type {\n",
       "        vertical-align: middle;\n",
       "    }\n",
       "\n",
       "    .dataframe tbody tr th {\n",
       "        vertical-align: top;\n",
       "    }\n",
       "\n",
       "    .dataframe thead th {\n",
       "        text-align: right;\n",
       "    }\n",
       "</style>\n",
       "<table border=\"1\" class=\"dataframe\">\n",
       "  <thead>\n",
       "    <tr style=\"text-align: right;\">\n",
       "      <th></th>\n",
       "      <th>id</th>\n",
       "      <th>developer</th>\n",
       "      <th>price</th>\n",
       "      <th>year</th>\n",
       "      <th>is_free</th>\n",
       "    </tr>\n",
       "  </thead>\n",
       "  <tbody>\n",
       "    <tr>\n",
       "      <th>88310</th>\n",
       "      <td>761140.0</td>\n",
       "      <td>KOTOSHIRO</td>\n",
       "      <td>4.99</td>\n",
       "      <td>2018.0</td>\n",
       "      <td>0</td>\n",
       "    </tr>\n",
       "    <tr>\n",
       "      <th>88311</th>\n",
       "      <td>643980.0</td>\n",
       "      <td>SECRET LEVEL SRL</td>\n",
       "      <td>0.00</td>\n",
       "      <td>2018.0</td>\n",
       "      <td>1</td>\n",
       "    </tr>\n",
       "    <tr>\n",
       "      <th>88312</th>\n",
       "      <td>670290.0</td>\n",
       "      <td>POOLIANS.COM</td>\n",
       "      <td>0.00</td>\n",
       "      <td>2017.0</td>\n",
       "      <td>1</td>\n",
       "    </tr>\n",
       "    <tr>\n",
       "      <th>88313</th>\n",
       "      <td>767400.0</td>\n",
       "      <td>彼岸领域</td>\n",
       "      <td>0.99</td>\n",
       "      <td>2017.0</td>\n",
       "      <td>0</td>\n",
       "    </tr>\n",
       "    <tr>\n",
       "      <th>88314</th>\n",
       "      <td>773570.0</td>\n",
       "      <td>None</td>\n",
       "      <td>2.99</td>\n",
       "      <td>NaN</td>\n",
       "      <td>0</td>\n",
       "    </tr>\n",
       "    <tr>\n",
       "      <th>...</th>\n",
       "      <td>...</td>\n",
       "      <td>...</td>\n",
       "      <td>...</td>\n",
       "      <td>...</td>\n",
       "      <td>...</td>\n",
       "    </tr>\n",
       "    <tr>\n",
       "      <th>120440</th>\n",
       "      <td>773640.0</td>\n",
       "      <td>NIKITA \"GHOST_RUS\"</td>\n",
       "      <td>1.99</td>\n",
       "      <td>2018.0</td>\n",
       "      <td>0</td>\n",
       "    </tr>\n",
       "    <tr>\n",
       "      <th>120441</th>\n",
       "      <td>733530.0</td>\n",
       "      <td>SACADA</td>\n",
       "      <td>4.99</td>\n",
       "      <td>2018.0</td>\n",
       "      <td>0</td>\n",
       "    </tr>\n",
       "    <tr>\n",
       "      <th>120442</th>\n",
       "      <td>610660.0</td>\n",
       "      <td>LAUSH DMITRIY SERGEEVICH</td>\n",
       "      <td>1.99</td>\n",
       "      <td>2018.0</td>\n",
       "      <td>0</td>\n",
       "    </tr>\n",
       "    <tr>\n",
       "      <th>120443</th>\n",
       "      <td>658870.0</td>\n",
       "      <td>XROPI,STEV3NS</td>\n",
       "      <td>4.99</td>\n",
       "      <td>2017.0</td>\n",
       "      <td>0</td>\n",
       "    </tr>\n",
       "    <tr>\n",
       "      <th>120444</th>\n",
       "      <td>681550.0</td>\n",
       "      <td>None</td>\n",
       "      <td>4.99</td>\n",
       "      <td>NaN</td>\n",
       "      <td>0</td>\n",
       "    </tr>\n",
       "  </tbody>\n",
       "</table>\n",
       "<p>32133 rows × 5 columns</p>\n",
       "</div>"
      ],
      "text/plain": [
       "              id                 developer  price    year  is_free\n",
       "88310   761140.0                 KOTOSHIRO   4.99  2018.0        0\n",
       "88311   643980.0          SECRET LEVEL SRL   0.00  2018.0        1\n",
       "88312   670290.0              POOLIANS.COM   0.00  2017.0        1\n",
       "88313   767400.0                      彼岸领域   0.99  2017.0        0\n",
       "88314   773570.0                      None   2.99     NaN        0\n",
       "...          ...                       ...    ...     ...      ...\n",
       "120440  773640.0        NIKITA \"GHOST_RUS\"   1.99  2018.0        0\n",
       "120441  733530.0                    SACADA   4.99  2018.0        0\n",
       "120442  610660.0  LAUSH DMITRIY SERGEEVICH   1.99  2018.0        0\n",
       "120443  658870.0             XROPI,STEV3NS   4.99  2017.0        0\n",
       "120444  681550.0                      None   4.99     NaN        0\n",
       "\n",
       "[32133 rows x 5 columns]"
      ]
     },
     "execution_count": 133,
     "metadata": {},
     "output_type": "execute_result"
    }
   ],
   "source": [
    "df_developer"
   ]
  },
  {
   "cell_type": "markdown",
   "id": "0b2d3721",
   "metadata": {},
   "source": [
    "Agrupo por desarrollador, por año y aplico suma a columna free_it, y la user_url me quedo con la primera ya que son todas iguales."
   ]
  },
  {
   "cell_type": "code",
   "execution_count": 134,
   "id": "ccf48604",
   "metadata": {},
   "outputs": [],
   "source": [
    "#df_agg= df_userforgenre_exp. groupby (['user_id', 'genres']).agg (horas=('playtime_forever','sum'),url=('user_url','first')). reset_index ()\n",
    "df_dv_agg=df_developer. groupby (['developer','year']).agg(todos_it = ('is_free','count'),free_it = ('is_free','sum')). reset_index ()"
   ]
  },
  {
   "cell_type": "markdown",
   "id": "25bdc639",
   "metadata": {},
   "source": [
    "Al dataframe agrupado le agrego una columna con el calculo del porcenjaje."
   ]
  },
  {
   "cell_type": "code",
   "execution_count": 135,
   "id": "882a90a5",
   "metadata": {},
   "outputs": [],
   "source": [
    "df_dv_agg['porcentaje_free'] = (df_dv_agg ['free_it']/df_dv_agg ['todos_it'])*100"
   ]
  },
  {
   "cell_type": "markdown",
   "id": "cd51cdf7",
   "metadata": {},
   "source": [
    "Genero un dataset de salida para la funcion que tenga las columnas necesarias, desarrollador, año y contenido libre"
   ]
  },
  {
   "cell_type": "code",
   "execution_count": 136,
   "id": "b53562c8",
   "metadata": {},
   "outputs": [],
   "source": [
    "df_salida =df_dv_agg[['developer','year','porcentaje_free']].copy()"
   ]
  },
  {
   "cell_type": "code",
   "execution_count": 137,
   "id": "c7786f92",
   "metadata": {},
   "outputs": [
    {
     "data": {
      "text/html": [
       "<div>\n",
       "<style scoped>\n",
       "    .dataframe tbody tr th:only-of-type {\n",
       "        vertical-align: middle;\n",
       "    }\n",
       "\n",
       "    .dataframe tbody tr th {\n",
       "        vertical-align: top;\n",
       "    }\n",
       "\n",
       "    .dataframe thead th {\n",
       "        text-align: right;\n",
       "    }\n",
       "</style>\n",
       "<table border=\"1\" class=\"dataframe\">\n",
       "  <thead>\n",
       "    <tr style=\"text-align: right;\">\n",
       "      <th></th>\n",
       "      <th>developer</th>\n",
       "      <th>year</th>\n",
       "      <th>porcentaje_free</th>\n",
       "    </tr>\n",
       "  </thead>\n",
       "  <tbody>\n",
       "    <tr>\n",
       "      <th>0</th>\n",
       "      <td>+7 SOFTWARE</td>\n",
       "      <td>2016.0</td>\n",
       "      <td>0.0</td>\n",
       "    </tr>\n",
       "    <tr>\n",
       "      <th>1</th>\n",
       "      <td>+MPACT GAMES, LLC.</td>\n",
       "      <td>2017.0</td>\n",
       "      <td>0.0</td>\n",
       "    </tr>\n",
       "    <tr>\n",
       "      <th>2</th>\n",
       "      <td>.EZ GAMES</td>\n",
       "      <td>2017.0</td>\n",
       "      <td>0.0</td>\n",
       "    </tr>\n",
       "    <tr>\n",
       "      <th>3</th>\n",
       "      <td>.M.Y.W.</td>\n",
       "      <td>2016.0</td>\n",
       "      <td>0.0</td>\n",
       "    </tr>\n",
       "    <tr>\n",
       "      <th>4</th>\n",
       "      <td>07TH EXPANSION</td>\n",
       "      <td>2015.0</td>\n",
       "      <td>0.0</td>\n",
       "    </tr>\n",
       "    <tr>\n",
       "      <th>...</th>\n",
       "      <td>...</td>\n",
       "      <td>...</td>\n",
       "      <td>...</td>\n",
       "    </tr>\n",
       "    <tr>\n",
       "      <th>14823</th>\n",
       "      <td>萌石游戏</td>\n",
       "      <td>2017.0</td>\n",
       "      <td>0.0</td>\n",
       "    </tr>\n",
       "    <tr>\n",
       "      <th>14824</th>\n",
       "      <td>高考恋爱委员会</td>\n",
       "      <td>2015.0</td>\n",
       "      <td>100.0</td>\n",
       "    </tr>\n",
       "    <tr>\n",
       "      <th>14825</th>\n",
       "      <td>高考恋爱委员会,DAYS</td>\n",
       "      <td>2015.0</td>\n",
       "      <td>0.0</td>\n",
       "    </tr>\n",
       "    <tr>\n",
       "      <th>14826</th>\n",
       "      <td>高考恋爱委员会,橘子班</td>\n",
       "      <td>2015.0</td>\n",
       "      <td>0.0</td>\n",
       "    </tr>\n",
       "    <tr>\n",
       "      <th>14827</th>\n",
       "      <td>高考恋爱委员会,橘子班</td>\n",
       "      <td>2017.0</td>\n",
       "      <td>0.0</td>\n",
       "    </tr>\n",
       "  </tbody>\n",
       "</table>\n",
       "<p>14828 rows × 3 columns</p>\n",
       "</div>"
      ],
      "text/plain": [
       "                developer    year  porcentaje_free\n",
       "0             +7 SOFTWARE  2016.0              0.0\n",
       "1      +MPACT GAMES, LLC.  2017.0              0.0\n",
       "2               .EZ GAMES  2017.0              0.0\n",
       "3                 .M.Y.W.  2016.0              0.0\n",
       "4          07TH EXPANSION  2015.0              0.0\n",
       "...                   ...     ...              ...\n",
       "14823                萌石游戏  2017.0              0.0\n",
       "14824             高考恋爱委员会  2015.0            100.0\n",
       "14825        高考恋爱委员会,DAYS  2015.0              0.0\n",
       "14826         高考恋爱委员会,橘子班  2015.0              0.0\n",
       "14827         高考恋爱委员会,橘子班  2017.0              0.0\n",
       "\n",
       "[14828 rows x 3 columns]"
      ]
     },
     "execution_count": 137,
     "metadata": {},
     "output_type": "execute_result"
    }
   ],
   "source": [
    "df_salida"
   ]
  },
  {
   "cell_type": "markdown",
   "id": "c898ccd5",
   "metadata": {},
   "source": [
    "Guardo el dataset a un csv para luego alimentar a la función."
   ]
  },
  {
   "cell_type": "code",
   "execution_count": 138,
   "id": "ea9e633c",
   "metadata": {},
   "outputs": [],
   "source": [
    "df_salida.to_csv('developer')\n",
    "df_salida.to_parquet('developer_p')"
   ]
  },
  {
   "cell_type": "markdown",
   "id": "5f3c11a7",
   "metadata": {},
   "source": [
    "### Genero la Funcion 5:"
   ]
  },
  {
   "cell_type": "code",
   "execution_count": 139,
   "id": "b65a83d1",
   "metadata": {},
   "outputs": [],
   "source": [
    "def developer (df,desarrollador):\n",
    "   \n",
    "    des=desarrollador\n",
    "    df_filtrado = df[df['developer'] == des]  \n",
    "    df_dev=df_filtrado[['year','porcentaje_free']]\n",
    "    js= df_dev.to_json(orient = 'records')\n",
    "    return js"
   ]
  },
  {
   "cell_type": "code",
   "execution_count": 140,
   "id": "80f85971",
   "metadata": {},
   "outputs": [
    {
     "data": {
      "text/plain": [
       "'[{\"year\":1998.0,\"porcentaje_free\":0.0},{\"year\":1999.0,\"porcentaje_free\":0.0},{\"year\":2000.0,\"porcentaje_free\":0.0},{\"year\":2001.0,\"porcentaje_free\":0.0},{\"year\":2003.0,\"porcentaje_free\":0.0},{\"year\":2004.0,\"porcentaje_free\":0.0},{\"year\":2005.0,\"porcentaje_free\":0.0},{\"year\":2006.0,\"porcentaje_free\":0.0},{\"year\":2007.0,\"porcentaje_free\":33.3333333333},{\"year\":2008.0,\"porcentaje_free\":0.0},{\"year\":2009.0,\"porcentaje_free\":0.0},{\"year\":2010.0,\"porcentaje_free\":50.0},{\"year\":2011.0,\"porcentaje_free\":0.0},{\"year\":2012.0,\"porcentaje_free\":0.0},{\"year\":2014.0,\"porcentaje_free\":0.0},{\"year\":2016.0,\"porcentaje_free\":100.0},{\"year\":2017.0,\"porcentaje_free\":0.0}]'"
      ]
     },
     "execution_count": 140,
     "metadata": {},
     "output_type": "execute_result"
    }
   ],
   "source": [
    "developer(df_salida,'VALVE')"
   ]
  },
  {
   "cell_type": "markdown",
   "id": "32f60168",
   "metadata": {},
   "source": [
    "## 5.6 FUNCION 6 --> def sentiment_analysis( año : int ) <a name=\"id14\"></a>\n",
    "### *Según el año de lanzamiento(posted), se devuelve una lista con la cantidad de registros de reseñas de usuarios que se encuentren categorizados con un análisis de sentimiento.*\n",
    "***\n"
   ]
  },
  {
   "cell_type": "markdown",
   "id": "4e8c2aed",
   "metadata": {},
   "source": [
    "#### Voy a generar un dataset para la funcion que contenga, año de posteo y una columa por cada categoria de sentiment_analysis"
   ]
  },
  {
   "cell_type": "code",
   "execution_count": 141,
   "id": "8d2de557",
   "metadata": {},
   "outputs": [
    {
     "data": {
      "text/plain": [
       "Index(['user_id', 'user_url', 'funny', 'posted', 'last_edited', 'item_id',\n",
       "       'helpful', 'recommend', 'review', 'posted2', 'mes_dia', 'año',\n",
       "       'año_posted', 'sentiment_analysis'],\n",
       "      dtype='object')"
      ]
     },
     "execution_count": 141,
     "metadata": {},
     "output_type": "execute_result"
    }
   ],
   "source": [
    "final_rev.columns"
   ]
  },
  {
   "cell_type": "markdown",
   "id": "ae368b64",
   "metadata": {},
   "source": [
    "Armo un dataframe con las columnas que necesito de final_rev"
   ]
  },
  {
   "cell_type": "code",
   "execution_count": 142,
   "id": "5d1ae536",
   "metadata": {},
   "outputs": [],
   "source": [
    "df_sentiment_analysis=final_rev[['posted','año_posted','sentiment_analysis']]"
   ]
  },
  {
   "cell_type": "markdown",
   "id": "a6946f2a",
   "metadata": {},
   "source": [
    "voy a generar dummies para la columna sentimient_analysis"
   ]
  },
  {
   "cell_type": "code",
   "execution_count": 143,
   "id": "e01c8f5c",
   "metadata": {},
   "outputs": [],
   "source": [
    "df_sentiment_analysis_dummies = pd.get_dummies( df_sentiment_analysis,columns=['sentiment_analysis'], \n",
    "                            drop_first = False, dtype=int)"
   ]
  },
  {
   "cell_type": "code",
   "execution_count": 144,
   "id": "5c1c23f1",
   "metadata": {},
   "outputs": [
    {
     "data": {
      "text/html": [
       "<div>\n",
       "<style scoped>\n",
       "    .dataframe tbody tr th:only-of-type {\n",
       "        vertical-align: middle;\n",
       "    }\n",
       "\n",
       "    .dataframe tbody tr th {\n",
       "        vertical-align: top;\n",
       "    }\n",
       "\n",
       "    .dataframe thead th {\n",
       "        text-align: right;\n",
       "    }\n",
       "</style>\n",
       "<table border=\"1\" class=\"dataframe\">\n",
       "  <thead>\n",
       "    <tr style=\"text-align: right;\">\n",
       "      <th></th>\n",
       "      <th>posted</th>\n",
       "      <th>año_posted</th>\n",
       "      <th>sentiment_analysis_negativo</th>\n",
       "      <th>sentiment_analysis_neutral</th>\n",
       "      <th>sentiment_analysis_positivo</th>\n",
       "    </tr>\n",
       "  </thead>\n",
       "  <tbody>\n",
       "    <tr>\n",
       "      <th>0</th>\n",
       "      <td>2011-11-05</td>\n",
       "      <td>2011.0</td>\n",
       "      <td>0</td>\n",
       "      <td>0</td>\n",
       "      <td>1</td>\n",
       "    </tr>\n",
       "    <tr>\n",
       "      <th>1</th>\n",
       "      <td>2011-07-15</td>\n",
       "      <td>2011.0</td>\n",
       "      <td>0</td>\n",
       "      <td>0</td>\n",
       "      <td>1</td>\n",
       "    </tr>\n",
       "  </tbody>\n",
       "</table>\n",
       "</div>"
      ],
      "text/plain": [
       "      posted  año_posted  sentiment_analysis_negativo  \\\n",
       "0 2011-11-05      2011.0                            0   \n",
       "1 2011-07-15      2011.0                            0   \n",
       "\n",
       "   sentiment_analysis_neutral  sentiment_analysis_positivo  \n",
       "0                           0                            1  \n",
       "1                           0                            1  "
      ]
     },
     "execution_count": 144,
     "metadata": {},
     "output_type": "execute_result"
    }
   ],
   "source": [
    "df_sentiment_analysis_dummies.head(2)"
   ]
  },
  {
   "cell_type": "markdown",
   "id": "60b59397",
   "metadata": {},
   "source": [
    "Agrupo por año para obtener el dataset final para alimentar la funcion. "
   ]
  },
  {
   "cell_type": "code",
   "execution_count": 145,
   "id": "f4fe3897",
   "metadata": {},
   "outputs": [],
   "source": [
    "df_sentiment_analysis_dummies_agg=df_sentiment_analysis_dummies. groupby (['año_posted']).agg(positivo = ('sentiment_analysis_positivo','sum'),negativo = ('sentiment_analysis_negativo','sum'), neutral=('sentiment_analysis_neutral','sum')). reset_index ()"
   ]
  },
  {
   "cell_type": "code",
   "execution_count": 146,
   "id": "01784299",
   "metadata": {},
   "outputs": [
    {
     "data": {
      "text/html": [
       "<div>\n",
       "<style scoped>\n",
       "    .dataframe tbody tr th:only-of-type {\n",
       "        vertical-align: middle;\n",
       "    }\n",
       "\n",
       "    .dataframe tbody tr th {\n",
       "        vertical-align: top;\n",
       "    }\n",
       "\n",
       "    .dataframe thead th {\n",
       "        text-align: right;\n",
       "    }\n",
       "</style>\n",
       "<table border=\"1\" class=\"dataframe\">\n",
       "  <thead>\n",
       "    <tr style=\"text-align: right;\">\n",
       "      <th></th>\n",
       "      <th>año_posted</th>\n",
       "      <th>positivo</th>\n",
       "      <th>negativo</th>\n",
       "      <th>neutral</th>\n",
       "    </tr>\n",
       "  </thead>\n",
       "  <tbody>\n",
       "    <tr>\n",
       "      <th>0</th>\n",
       "      <td>2010.0</td>\n",
       "      <td>48</td>\n",
       "      <td>10</td>\n",
       "      <td>8</td>\n",
       "    </tr>\n",
       "    <tr>\n",
       "      <th>1</th>\n",
       "      <td>2011.0</td>\n",
       "      <td>397</td>\n",
       "      <td>61</td>\n",
       "      <td>72</td>\n",
       "    </tr>\n",
       "    <tr>\n",
       "      <th>2</th>\n",
       "      <td>2012.0</td>\n",
       "      <td>830</td>\n",
       "      <td>140</td>\n",
       "      <td>231</td>\n",
       "    </tr>\n",
       "    <tr>\n",
       "      <th>3</th>\n",
       "      <td>2013.0</td>\n",
       "      <td>4627</td>\n",
       "      <td>749</td>\n",
       "      <td>1340</td>\n",
       "    </tr>\n",
       "    <tr>\n",
       "      <th>4</th>\n",
       "      <td>2014.0</td>\n",
       "      <td>14088</td>\n",
       "      <td>3276</td>\n",
       "      <td>4480</td>\n",
       "    </tr>\n",
       "    <tr>\n",
       "      <th>5</th>\n",
       "      <td>2015.0</td>\n",
       "      <td>10983</td>\n",
       "      <td>3324</td>\n",
       "      <td>3853</td>\n",
       "    </tr>\n",
       "  </tbody>\n",
       "</table>\n",
       "</div>"
      ],
      "text/plain": [
       "   año_posted  positivo  negativo  neutral\n",
       "0      2010.0        48        10        8\n",
       "1      2011.0       397        61       72\n",
       "2      2012.0       830       140      231\n",
       "3      2013.0      4627       749     1340\n",
       "4      2014.0     14088      3276     4480\n",
       "5      2015.0     10983      3324     3853"
      ]
     },
     "execution_count": 146,
     "metadata": {},
     "output_type": "execute_result"
    }
   ],
   "source": [
    "df_sentiment_analysis_dummies_agg.head(10)"
   ]
  },
  {
   "cell_type": "markdown",
   "id": "b99184e7",
   "metadata": {},
   "source": [
    "Guardo el dataset a un csv para luego alimentar a la función."
   ]
  },
  {
   "cell_type": "code",
   "execution_count": 147,
   "id": "e23e64b4",
   "metadata": {},
   "outputs": [],
   "source": [
    "df_sentiment_analysis_dummies_agg.to_csv('sentiment_analysis',index=False)\n",
    "df_sentiment_analysis_dummies_agg.to_parquet('sentiment_analysis_p',index=False)"
   ]
  },
  {
   "cell_type": "markdown",
   "id": "d8b9ae03",
   "metadata": {},
   "source": [
    "### Genero la Funcion 6:"
   ]
  },
  {
   "cell_type": "code",
   "execution_count": 148,
   "id": "6cf3b226",
   "metadata": {},
   "outputs": [],
   "source": [
    "def sentiment_analysis(df,año):\n",
    "    year=año\n",
    "    df_s = df[df['año_posted'] == year]\n",
    "    js= df_s.to_dict(orient = 'records')\n",
    "    return js"
   ]
  },
  {
   "cell_type": "code",
   "execution_count": 149,
   "id": "45de82d2",
   "metadata": {},
   "outputs": [
    {
     "data": {
      "text/plain": [
       "[{'año_posted': 2014.0, 'positivo': 14088, 'negativo': 3276, 'neutral': 4480}]"
      ]
     },
     "execution_count": 149,
     "metadata": {},
     "output_type": "execute_result"
    }
   ],
   "source": [
    "sentiment_analysis(df_sentiment_analysis_dummies_agg,2014)"
   ]
  }
 ],
 "metadata": {
  "kernelspec": {
   "display_name": "Python [conda env:dhdsblend2021] *",
   "language": "python",
   "name": "conda-env-dhdsblend2021-py"
  },
  "language_info": {
   "codemirror_mode": {
    "name": "ipython",
    "version": 3
   },
   "file_extension": ".py",
   "mimetype": "text/x-python",
   "name": "python",
   "nbconvert_exporter": "python",
   "pygments_lexer": "ipython3",
   "version": "3.8.10"
  }
 },
 "nbformat": 4,
 "nbformat_minor": 5
}
