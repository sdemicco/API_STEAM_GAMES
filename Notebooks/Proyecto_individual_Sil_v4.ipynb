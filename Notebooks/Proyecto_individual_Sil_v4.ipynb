{
 "cells": [
  {
   "cell_type": "markdown",
   "id": "176b922f",
   "metadata": {},
   "source": [
    "# **Extracción Transformacion y Carga de datos (ETL)**"
   ]
  },
  {
   "cell_type": "code",
   "execution_count": 395,
   "id": "fafacc72",
   "metadata": {},
   "outputs": [
    {
     "name": "stderr",
     "output_type": "stream",
     "text": [
      "[nltk_data] Downloading package vader_lexicon to\n",
      "[nltk_data]     C:\\Users\\silde\\AppData\\Roaming\\nltk_data...\n",
      "[nltk_data]   Package vader_lexicon is already up-to-date!\n",
      "[nltk_data] Downloading package punkt to\n",
      "[nltk_data]     C:\\Users\\silde\\AppData\\Roaming\\nltk_data...\n",
      "[nltk_data]   Package punkt is already up-to-date!\n"
     ]
    }
   ],
   "source": [
    "%config Completer.use_jedi = False\n",
    "import gzip\n",
    "import pandas as pd\n",
    "import numpy as np\n",
    "import json\n",
    "from pandas import json_normalize\n",
    "import ast\n",
    "import nltk\n",
    "nltk.download('vader_lexicon')\n",
    "nltk.download('punkt')\n",
    "from nltk.sentiment.vader import SentimentIntensityAnalyzer"
   ]
  },
  {
   "cell_type": "code",
   "execution_count": 499,
   "id": "1c800441",
   "metadata": {},
   "outputs": [],
   "source": [
    "pd.set_option('display.max_colwidth', 200)\n",
    "pd.set_option('max_columns', None)\n",
    "pd.set_option('max_rows', 30)\n",
    "pd.options.display.max_columns"
   ]
  },
  {
   "cell_type": "markdown",
   "id": "aef5c016",
   "metadata": {},
   "source": [
    "## Descripcion de Archivos:\n",
    "- **steam_games.json.gz**: Contiene informacion descriptiva de cada item, como por ejemplo: precio, desarrollador, etc.\n",
    "- **users_items.json.gz**: Contiene por usuario cantidad de items que compró, y tiempo de juego por item.\n",
    "- **user_reviews.json.gz**: Contiene reseñas que realizaron usuarios para determinados items que compraron."
   ]
  },
  {
   "cell_type": "markdown",
   "id": "61d489a2",
   "metadata": {},
   "source": [
    "## 1. Lectura de archivos:\n",
    "### Funciones para lectura y acondicionamiento de archivos.\n"
   ]
  },
  {
   "cell_type": "code",
   "execution_count": 396,
   "id": "489ed8ec",
   "metadata": {},
   "outputs": [],
   "source": [
    "# Generó una funcion para poder abrir los archivos que estan en formato comprimido gz\n",
    "\n",
    "def leer_archivo (path):\n",
    "    info = []\n",
    "    for i in gzip.open(path):\n",
    "        info.append(ast.literal_eval(i.decode('utf-8')))\n",
    "    df = pd.DataFrame(info)\n",
    "    return df\n"
   ]
  },
  {
   "cell_type": "code",
   "execution_count": 401,
   "id": "a36fbbd1",
   "metadata": {},
   "outputs": [],
   "source": [
    "def desanidar_archivo(df,columna_anidada):\n",
    "    \n",
    "    # explode sobre columna anidada\n",
    "    df_exp=df.explode(columna_anidada)\n",
    "    df_exp.dropna(how='all',inplace=True)\n",
    "    \n",
    "    # normalizaciond de columna anidada\n",
    "    normalizado = pd.json_normalize(df_exp[columna_anidada].dropna())\n",
    "    normalizado.reset_index(inplace=True)\n",
    "    \n",
    "    #concatenacion\n",
    "    df_exp.reset_index(inplace=True)\n",
    "    df_salida = pd.concat([df_exp,normalizado], axis=1)\n",
    "    \n",
    "    #elimino la columna anidad reviews\n",
    "    df_salida = df_salida.drop(columns = [columna_anidada,'index'])\n",
    "    return df_salida"
   ]
  },
  {
   "cell_type": "markdown",
   "id": "4b2451f9",
   "metadata": {},
   "source": [
    "##  1.1  **user_reviews.json.gz** "
   ]
  },
  {
   "cell_type": "markdown",
   "id": "27992aee",
   "metadata": {},
   "source": [
    "#### Leemos archivos y aplico funciones para desanidar y obtener formato tipo dataframe"
   ]
  },
  {
   "cell_type": "code",
   "execution_count": 477,
   "id": "17eed147",
   "metadata": {},
   "outputs": [],
   "source": [
    "df_r = leer_archivo ('user_reviews.json.gz')"
   ]
  },
  {
   "cell_type": "markdown",
   "id": "f7a4a357",
   "metadata": {},
   "source": [
    "La colummna reviews contiene un archivo Json anidado, aplicamos la funcion desanidar_archivo para obtener formato dataframe. "
   ]
  },
  {
   "cell_type": "code",
   "execution_count": 478,
   "id": "192b3c80",
   "metadata": {},
   "outputs": [
    {
     "data": {
      "text/html": [
       "<div>\n",
       "<style scoped>\n",
       "    .dataframe tbody tr th:only-of-type {\n",
       "        vertical-align: middle;\n",
       "    }\n",
       "\n",
       "    .dataframe tbody tr th {\n",
       "        vertical-align: top;\n",
       "    }\n",
       "\n",
       "    .dataframe thead th {\n",
       "        text-align: right;\n",
       "    }\n",
       "</style>\n",
       "<table border=\"1\" class=\"dataframe\">\n",
       "  <thead>\n",
       "    <tr style=\"text-align: right;\">\n",
       "      <th></th>\n",
       "      <th>user_id</th>\n",
       "      <th>user_url</th>\n",
       "      <th>funny</th>\n",
       "      <th>posted</th>\n",
       "      <th>last_edited</th>\n",
       "      <th>item_id</th>\n",
       "      <th>helpful</th>\n",
       "      <th>recommend</th>\n",
       "      <th>review</th>\n",
       "    </tr>\n",
       "  </thead>\n",
       "  <tbody>\n",
       "    <tr>\n",
       "      <th>0</th>\n",
       "      <td>76561197970982479</td>\n",
       "      <td>http://steamcommunity.com/profiles/76561197970982479</td>\n",
       "      <td></td>\n",
       "      <td>Posted November 5, 2011.</td>\n",
       "      <td></td>\n",
       "      <td>1250</td>\n",
       "      <td>No ratings yet</td>\n",
       "      <td>True</td>\n",
       "      <td>Simple yet with great replayability. In my opinion does \"zombie\" hordes and team work better than left 4 dead plus has a global leveling system. Alot of down to earth \"zombie\" splattering fun for ...</td>\n",
       "    </tr>\n",
       "    <tr>\n",
       "      <th>1</th>\n",
       "      <td>76561197970982479</td>\n",
       "      <td>http://steamcommunity.com/profiles/76561197970982479</td>\n",
       "      <td></td>\n",
       "      <td>Posted July 15, 2011.</td>\n",
       "      <td></td>\n",
       "      <td>22200</td>\n",
       "      <td>No ratings yet</td>\n",
       "      <td>True</td>\n",
       "      <td>It's unique and worth a playthrough.</td>\n",
       "    </tr>\n",
       "  </tbody>\n",
       "</table>\n",
       "</div>"
      ],
      "text/plain": [
       "             user_id                                              user_url  \\\n",
       "0  76561197970982479  http://steamcommunity.com/profiles/76561197970982479   \n",
       "1  76561197970982479  http://steamcommunity.com/profiles/76561197970982479   \n",
       "\n",
       "  funny                    posted last_edited item_id         helpful  \\\n",
       "0        Posted November 5, 2011.                1250  No ratings yet   \n",
       "1           Posted July 15, 2011.               22200  No ratings yet   \n",
       "\n",
       "  recommend  \\\n",
       "0      True   \n",
       "1      True   \n",
       "\n",
       "                                                                                                                                                                                                    review  \n",
       "0  Simple yet with great replayability. In my opinion does \"zombie\" hordes and team work better than left 4 dead plus has a global leveling system. Alot of down to earth \"zombie\" splattering fun for ...  \n",
       "1                                                                                                                                                                     It's unique and worth a playthrough.  "
      ]
     },
     "execution_count": 478,
     "metadata": {},
     "output_type": "execute_result"
    }
   ],
   "source": [
    "final_rev = desanidar_archivo(df_r,'reviews')\n",
    "final_rev.head(2)"
   ]
  },
  {
   "cell_type": "code",
   "execution_count": 479,
   "id": "024dc604",
   "metadata": {},
   "outputs": [
    {
     "data": {
      "text/plain": [
       "(59333, 9)"
      ]
     },
     "execution_count": 479,
     "metadata": {},
     "output_type": "execute_result"
    }
   ],
   "source": [
    "final_rev.shape"
   ]
  },
  {
   "cell_type": "markdown",
   "id": "fc27245d",
   "metadata": {},
   "source": [
    "### Exploramos valores nulos"
   ]
  },
  {
   "cell_type": "markdown",
   "id": "e47f7e06",
   "metadata": {},
   "source": [
    "- Analisis de registros nulos:<br>\n",
    ">Observamos que hay 28 nulos que corresponden a la columna que se encontraba anidada reviews.<br>\n",
    " **Transformación**: Decido eliminar los nulos porque son pocos valores."
   ]
  },
  {
   "cell_type": "code",
   "execution_count": 480,
   "id": "3bf52838",
   "metadata": {},
   "outputs": [
    {
     "data": {
      "text/plain": [
       "user_id         0\n",
       "user_url        0\n",
       "funny          28\n",
       "posted         28\n",
       "last_edited    28\n",
       "item_id        28\n",
       "helpful        28\n",
       "recommend      28\n",
       "review         28\n",
       "dtype: int64"
      ]
     },
     "execution_count": 480,
     "metadata": {},
     "output_type": "execute_result"
    }
   ],
   "source": [
    "final_rev.isnull().sum()"
   ]
  },
  {
   "cell_type": "code",
   "execution_count": 481,
   "id": "210a817c",
   "metadata": {},
   "outputs": [],
   "source": [
    "final_rev.dropna(thresh=3,inplace=True) \n",
    "#Keep only the rows with at least 3 non-NA values."
   ]
  },
  {
   "cell_type": "code",
   "execution_count": 482,
   "id": "f75000cc",
   "metadata": {},
   "outputs": [
    {
     "data": {
      "text/plain": [
       "(59305, 9)"
      ]
     },
     "execution_count": 482,
     "metadata": {},
     "output_type": "execute_result"
    }
   ],
   "source": [
    "final_rev.shape"
   ]
  },
  {
   "cell_type": "markdown",
   "id": "8da694c6",
   "metadata": {},
   "source": [
    "### Exploramos registros duplicados"
   ]
  },
  {
   "cell_type": "markdown",
   "id": "1df8363b",
   "metadata": {},
   "source": [
    "- Analisis de registros duplicados: \n",
    ">Aparecen 144 valores duplicados.<br>\n",
    "> **Transformación**: Elimino duplicados."
   ]
  },
  {
   "cell_type": "code",
   "execution_count": 483,
   "id": "b3e84cee",
   "metadata": {},
   "outputs": [
    {
     "data": {
      "text/plain": [
       "144"
      ]
     },
     "execution_count": 483,
     "metadata": {},
     "output_type": "execute_result"
    }
   ],
   "source": [
    "data_duplicates_final_rev=  final_rev.duplicated( keep=\"first\")\n",
    "data_duplicates_final_rev.sum()"
   ]
  },
  {
   "cell_type": "code",
   "execution_count": 484,
   "id": "e6faea9a",
   "metadata": {},
   "outputs": [],
   "source": [
    "final_rev = final_rev.drop_duplicates( keep = \"first\")"
   ]
  },
  {
   "cell_type": "code",
   "execution_count": 485,
   "id": "a1a206fd",
   "metadata": {},
   "outputs": [
    {
     "data": {
      "text/plain": [
       "(59161, 9)"
      ]
     },
     "execution_count": 485,
     "metadata": {},
     "output_type": "execute_result"
    }
   ],
   "source": [
    "final_rev.shape"
   ]
  },
  {
   "cell_type": "markdown",
   "id": "c5686065",
   "metadata": {},
   "source": [
    "### Exploración de tipo de datos de columnas."
   ]
  },
  {
   "cell_type": "markdown",
   "id": "fc029caf",
   "metadata": {},
   "source": [
    "- Analisis de tipo de datos de columnas:<br>\n",
    " **Transformación**: \n",
    "> 1. Convierto posted a formato datetime.<br> \n",
    "> 2. Agrego columna año_posted que corresponde al año de posteo"
   ]
  },
  {
   "cell_type": "code",
   "execution_count": 486,
   "id": "461ff625",
   "metadata": {},
   "outputs": [
    {
     "name": "stdout",
     "output_type": "stream",
     "text": [
      "<class 'pandas.core.frame.DataFrame'>\n",
      "Int64Index: 59161 entries, 0 to 59304\n",
      "Data columns (total 9 columns):\n",
      " #   Column       Non-Null Count  Dtype \n",
      "---  ------       --------------  ----- \n",
      " 0   user_id      59161 non-null  object\n",
      " 1   user_url     59161 non-null  object\n",
      " 2   funny        59161 non-null  object\n",
      " 3   posted       59161 non-null  object\n",
      " 4   last_edited  59161 non-null  object\n",
      " 5   item_id      59161 non-null  object\n",
      " 6   helpful      59161 non-null  object\n",
      " 7   recommend    59161 non-null  object\n",
      " 8   review       59161 non-null  object\n",
      "dtypes: object(9)\n",
      "memory usage: 4.5+ MB\n"
     ]
    }
   ],
   "source": [
    "final_rev.info()"
   ]
  },
  {
   "cell_type": "code",
   "execution_count": 487,
   "id": "2ae8c8f6",
   "metadata": {},
   "outputs": [
    {
     "data": {
      "text/plain": [
       "48273    Posted December 14, 2013.\n",
       "2054         Posted June 22, 2015.\n",
       "4807         Posted April 4, 2014.\n",
       "23088    Posted December 12, 2015.\n",
       "486                 Posted July 9.\n",
       "                   ...            \n",
       "26223            Posted January 1.\n",
       "46248      Posted August 24, 2011.\n",
       "23560    Posted February 27, 2014.\n",
       "11173    Posted February 15, 2015.\n",
       "44379         Posted May 23, 2013.\n",
       "Name: posted, Length: 15, dtype: object"
      ]
     },
     "execution_count": 487,
     "metadata": {},
     "output_type": "execute_result"
    }
   ],
   "source": [
    "final_rev.posted.sample(15)"
   ]
  },
  {
   "cell_type": "markdown",
   "id": "95821d43",
   "metadata": {},
   "source": [
    "Veo que existen algunos valores que no tienen el año de posteo. Voy a separar el año de la fecha para poder contar cuantos valores nulos de años hay.<br> Se tienen 10.091 valores de fecha sin año"
   ]
  },
  {
   "cell_type": "code",
   "execution_count": 488,
   "id": "4732d721",
   "metadata": {},
   "outputs": [],
   "source": [
    "final_rev['posted2']=final_rev['posted']"
   ]
  },
  {
   "cell_type": "code",
   "execution_count": 489,
   "id": "cebc8ff3",
   "metadata": {},
   "outputs": [
    {
     "data": {
      "text/plain": [
       "(10091, 12)"
      ]
     },
     "execution_count": 489,
     "metadata": {},
     "output_type": "execute_result"
    }
   ],
   "source": [
    "final_rev[['mes_dia','año']]=final_rev['posted2'].str.split(',',n=2,expand=True)\n",
    "filas_con_nan = final_rev[pd.isna(final_rev['año'])]\n",
    "filas_con_nan.shape"
   ]
  },
  {
   "cell_type": "markdown",
   "id": "0d817856",
   "metadata": {},
   "source": [
    "Convierto la columna posted a formato datetime y observo que obtengo nulos por los datos que no tenian año. No elimino estas filas, porque pueden tener otros campos con informacion valiosa para las funciones."
   ]
  },
  {
   "cell_type": "code",
   "execution_count": 490,
   "id": "dd779426",
   "metadata": {},
   "outputs": [],
   "source": [
    "final_rev['posted']=final_rev['posted'].replace({'Posted':''},regex=True)\n",
    "final_rev['posted']=pd.to_datetime(final_rev['posted'], errors='coerce')"
   ]
  },
  {
   "cell_type": "code",
   "execution_count": 491,
   "id": "9b9776e2",
   "metadata": {},
   "outputs": [
    {
     "data": {
      "text/plain": [
       "10091"
      ]
     },
     "execution_count": 491,
     "metadata": {},
     "output_type": "execute_result"
    }
   ],
   "source": [
    " final_rev['posted'].isnull().sum()"
   ]
  },
  {
   "cell_type": "code",
   "execution_count": 492,
   "id": "a17fc33c",
   "metadata": {},
   "outputs": [
    {
     "name": "stdout",
     "output_type": "stream",
     "text": [
      "2015-12-31 00:00:00\n",
      "2010-10-16 00:00:00\n"
     ]
    }
   ],
   "source": [
    "print(final_rev['posted'].max())\n",
    "print(final_rev['posted'].min())"
   ]
  },
  {
   "cell_type": "code",
   "execution_count": 573,
   "id": "4fe99b24",
   "metadata": {},
   "outputs": [],
   "source": [
    "final_rev['año_posted']=final_rev['posted'].dt.year"
   ]
  },
  {
   "cell_type": "markdown",
   "id": "92cfe431",
   "metadata": {},
   "source": [
    "### Feature Engineering: creo la columna 'sentiment_analysis' aplicando análisis de sentimiento con NLP"
   ]
  },
  {
   "cell_type": "code",
   "execution_count": 493,
   "id": "5626fbd7",
   "metadata": {},
   "outputs": [],
   "source": [
    "def analizar_sentimiento(texto):\n",
    "    sia = SentimentIntensityAnalyzer()\n",
    "    sentimiento = sia.polarity_scores(texto)\n",
    "    \n",
    "    # Determinar la etiqueta en función de la puntuación compuesta\n",
    "    if sentimiento['compound'] >= 0.05:\n",
    "        return 'positivo'\n",
    "    elif sentimiento['compound'] <= -0.05:\n",
    "        return 'negativo'\n",
    "    else:\n",
    "        return 'neutral'"
   ]
  },
  {
   "cell_type": "code",
   "execution_count": 494,
   "id": "35384e50",
   "metadata": {},
   "outputs": [],
   "source": [
    "final_rev['sentiment_analysis'] = final_rev['review'].apply(analizar_sentimiento)"
   ]
  },
  {
   "cell_type": "code",
   "execution_count": 495,
   "id": "641dd086",
   "metadata": {},
   "outputs": [
    {
     "data": {
      "text/html": [
       "<div>\n",
       "<style scoped>\n",
       "    .dataframe tbody tr th:only-of-type {\n",
       "        vertical-align: middle;\n",
       "    }\n",
       "\n",
       "    .dataframe tbody tr th {\n",
       "        vertical-align: top;\n",
       "    }\n",
       "\n",
       "    .dataframe thead th {\n",
       "        text-align: right;\n",
       "    }\n",
       "</style>\n",
       "<table border=\"1\" class=\"dataframe\">\n",
       "  <thead>\n",
       "    <tr style=\"text-align: right;\">\n",
       "      <th></th>\n",
       "      <th>user_id</th>\n",
       "      <th>user_url</th>\n",
       "      <th>funny</th>\n",
       "      <th>posted</th>\n",
       "      <th>last_edited</th>\n",
       "      <th>item_id</th>\n",
       "      <th>helpful</th>\n",
       "      <th>recommend</th>\n",
       "      <th>review</th>\n",
       "      <th>posted2</th>\n",
       "      <th>mes_dia</th>\n",
       "      <th>año</th>\n",
       "      <th>sentiment_analysis</th>\n",
       "    </tr>\n",
       "  </thead>\n",
       "  <tbody>\n",
       "    <tr>\n",
       "      <th>16</th>\n",
       "      <td>doctr</td>\n",
       "      <td>http://steamcommunity.com/id/doctr</td>\n",
       "      <td></td>\n",
       "      <td>2012-11-22</td>\n",
       "      <td></td>\n",
       "      <td>207610</td>\n",
       "      <td>No ratings yet</td>\n",
       "      <td>True</td>\n",
       "      <td>The ending to this game is.... ♥♥♥♥♥♥♥.... Just buy it, you'll be invested, im automatically preordering season two of the walking dead game.</td>\n",
       "      <td>Posted November 22, 2012.</td>\n",
       "      <td>Posted November 22</td>\n",
       "      <td>2012.</td>\n",
       "      <td>negativo</td>\n",
       "    </tr>\n",
       "  </tbody>\n",
       "</table>\n",
       "</div>"
      ],
      "text/plain": [
       "   user_id                            user_url funny     posted last_edited  \\\n",
       "16   doctr  http://steamcommunity.com/id/doctr       2012-11-22               \n",
       "\n",
       "   item_id         helpful recommend  \\\n",
       "16  207610  No ratings yet      True   \n",
       "\n",
       "                                                                                                                                           review  \\\n",
       "16  The ending to this game is.... ♥♥♥♥♥♥♥.... Just buy it, you'll be invested, im automatically preordering season two of the walking dead game.   \n",
       "\n",
       "                      posted2             mes_dia     año sentiment_analysis  \n",
       "16  Posted November 22, 2012.  Posted November 22   2012.           negativo  "
      ]
     },
     "execution_count": 495,
     "metadata": {},
     "output_type": "execute_result"
    }
   ],
   "source": [
    "final_rev[final_rev['sentiment_analysis']=='negativo'].head(1)"
   ]
  },
  {
   "cell_type": "code",
   "execution_count": 496,
   "id": "6ac9ba4a",
   "metadata": {},
   "outputs": [],
   "source": [
    "final_rev.to_csv('final_rev', index = False)\n",
    "final_rev.to_parquet('final_rev', index = False)"
   ]
  },
  {
   "cell_type": "markdown",
   "id": "63b075ec",
   "metadata": {},
   "source": [
    "## 1.2 **users_items.json.gz**"
   ]
  },
  {
   "cell_type": "markdown",
   "id": "23d5d4e8",
   "metadata": {},
   "source": [
    "#### Leemos archivos y aplico funciones para desanidar y obtener formato tipo dataframe"
   ]
  },
  {
   "cell_type": "code",
   "execution_count": null,
   "id": "6801bffc",
   "metadata": {},
   "outputs": [],
   "source": [
    "df_i = leer_archivo ('users_items.json.gz')"
   ]
  },
  {
   "cell_type": "markdown",
   "id": "07530467",
   "metadata": {},
   "source": [
    "La colummna items contiene un archivo Json anidado, aplicamos la funcion desanidar_archivo para obtener formato dataframe. "
   ]
  },
  {
   "cell_type": "code",
   "execution_count": 497,
   "id": "cca6ccdc",
   "metadata": {},
   "outputs": [],
   "source": [
    "final_items = desanidar_archivo(df_i,'items')"
   ]
  },
  {
   "cell_type": "code",
   "execution_count": 404,
   "id": "b01bcde0",
   "metadata": {},
   "outputs": [
    {
     "data": {
      "text/plain": [
       "(5170015, 8)"
      ]
     },
     "execution_count": 404,
     "metadata": {},
     "output_type": "execute_result"
    }
   ],
   "source": [
    "final_items.shape"
   ]
  },
  {
   "cell_type": "markdown",
   "id": "620c230c",
   "metadata": {},
   "source": [
    "### Exploramos valores nulos"
   ]
  },
  {
   "cell_type": "markdown",
   "id": "f0e00e67",
   "metadata": {},
   "source": [
    "- Analisis de registros nulos:<br>\n",
    ">Observamos que hay 16806 nulos que corresponden a la columna que se encontraba anidada items.<br>\n",
    " **Transformación**: Elimino los nulos porque corresponde a filas que tienen muchos nulos cada una y no puedo imputar."
   ]
  },
  {
   "cell_type": "code",
   "execution_count": 420,
   "id": "5dbd19a9",
   "metadata": {},
   "outputs": [
    {
     "data": {
      "text/plain": [
       "user_id             0\n",
       "items_count         0\n",
       "steam_id            0\n",
       "user_url            0\n",
       "item_id             0\n",
       "item_name           0\n",
       "playtime_forever    0\n",
       "playtime_2weeks     0\n",
       "dtype: int64"
      ]
     },
     "execution_count": 420,
     "metadata": {},
     "output_type": "execute_result"
    }
   ],
   "source": [
    "final_items.isnull().sum()"
   ]
  },
  {
   "cell_type": "code",
   "execution_count": 418,
   "id": "7344d0ab",
   "metadata": {},
   "outputs": [],
   "source": [
    "final_items.dropna(thresh=5,inplace=True)"
   ]
  },
  {
   "cell_type": "code",
   "execution_count": 419,
   "id": "40bf06a3",
   "metadata": {},
   "outputs": [
    {
     "data": {
      "text/plain": [
       "(5153209, 8)"
      ]
     },
     "execution_count": 419,
     "metadata": {},
     "output_type": "execute_result"
    }
   ],
   "source": [
    "final_items.shape"
   ]
  },
  {
   "cell_type": "markdown",
   "id": "64524450",
   "metadata": {},
   "source": [
    "### Exploramos registros duplicados"
   ]
  },
  {
   "cell_type": "markdown",
   "id": "28961151",
   "metadata": {},
   "source": [
    "- Analisis de registros duplicados: \n",
    ">Aparecen 90386 valores duplicados.<br>\n",
    "> **Transformación**: Elimino duplicados."
   ]
  },
  {
   "cell_type": "code",
   "execution_count": 450,
   "id": "7256eb80",
   "metadata": {},
   "outputs": [
    {
     "data": {
      "text/plain": [
       "90386"
      ]
     },
     "execution_count": 450,
     "metadata": {},
     "output_type": "execute_result"
    }
   ],
   "source": [
    "data_duplicates_final_items=  final_items.duplicated( keep=\"first\")\n",
    "data_duplicates_final_items.sum()"
   ]
  },
  {
   "cell_type": "code",
   "execution_count": 451,
   "id": "9f5414e6",
   "metadata": {},
   "outputs": [],
   "source": [
    "final_items = final_items.drop_duplicates( keep = \"first\")"
   ]
  },
  {
   "cell_type": "code",
   "execution_count": 452,
   "id": "ba6d6cbf",
   "metadata": {},
   "outputs": [
    {
     "data": {
      "text/plain": [
       "(5062823, 8)"
      ]
     },
     "execution_count": 452,
     "metadata": {},
     "output_type": "execute_result"
    }
   ],
   "source": [
    "final_items.shape"
   ]
  },
  {
   "cell_type": "code",
   "execution_count": null,
   "id": "fafe22e7",
   "metadata": {},
   "outputs": [],
   "source": [
    "final_items.to_csv('final_items.csv', index = False)\n",
    "final_items.to_parquet('final_items.parquet', index = False)"
   ]
  },
  {
   "cell_type": "markdown",
   "id": "76e2aa2a",
   "metadata": {},
   "source": [
    "## **steam_games.json.gz**"
   ]
  },
  {
   "cell_type": "code",
   "execution_count": null,
   "id": "480dce99",
   "metadata": {},
   "outputs": [],
   "source": [
    "df_s=pd.read_json('steam_games.json.gz',compression='gzip', lines=True)"
   ]
  },
  {
   "cell_type": "code",
   "execution_count": 453,
   "id": "a229cc71",
   "metadata": {},
   "outputs": [
    {
     "data": {
      "text/html": [
       "<div>\n",
       "<style scoped>\n",
       "    .dataframe tbody tr th:only-of-type {\n",
       "        vertical-align: middle;\n",
       "    }\n",
       "\n",
       "    .dataframe tbody tr th {\n",
       "        vertical-align: top;\n",
       "    }\n",
       "\n",
       "    .dataframe thead th {\n",
       "        text-align: right;\n",
       "    }\n",
       "</style>\n",
       "<table border=\"1\" class=\"dataframe\">\n",
       "  <thead>\n",
       "    <tr style=\"text-align: right;\">\n",
       "      <th></th>\n",
       "      <th>publisher</th>\n",
       "      <th>genres</th>\n",
       "      <th>app_name</th>\n",
       "      <th>title</th>\n",
       "      <th>url</th>\n",
       "      <th>release_date</th>\n",
       "      <th>tags</th>\n",
       "      <th>reviews_url</th>\n",
       "      <th>discount_price</th>\n",
       "      <th>specs</th>\n",
       "      <th>price</th>\n",
       "      <th>early_access</th>\n",
       "      <th>id</th>\n",
       "      <th>metascore</th>\n",
       "      <th>developer</th>\n",
       "      <th>user_id</th>\n",
       "      <th>steam_id</th>\n",
       "      <th>items</th>\n",
       "      <th>items_count</th>\n",
       "    </tr>\n",
       "  </thead>\n",
       "  <tbody>\n",
       "    <tr>\n",
       "      <th>0</th>\n",
       "      <td>None</td>\n",
       "      <td>None</td>\n",
       "      <td>None</td>\n",
       "      <td>None</td>\n",
       "      <td>None</td>\n",
       "      <td>None</td>\n",
       "      <td>None</td>\n",
       "      <td>None</td>\n",
       "      <td>NaN</td>\n",
       "      <td>None</td>\n",
       "      <td>None</td>\n",
       "      <td>NaN</td>\n",
       "      <td>NaN</td>\n",
       "      <td>None</td>\n",
       "      <td>None</td>\n",
       "      <td>76561197970982479</td>\n",
       "      <td>7.656120e+16</td>\n",
       "      <td>[{'item_id': '10', 'item_name': 'Counter-Strike', 'playtime_forever': 6, 'playtime_2weeks': 0}, {'item_id': '20', 'item_name': 'Team Fortress Classic', 'playtime_forever': 0, 'playtime_2weeks': 0}...</td>\n",
       "      <td>277.0</td>\n",
       "    </tr>\n",
       "  </tbody>\n",
       "</table>\n",
       "</div>"
      ],
      "text/plain": [
       "  publisher genres app_name title   url release_date  tags reviews_url  \\\n",
       "0      None   None     None  None  None         None  None        None   \n",
       "\n",
       "   discount_price specs price  early_access  id metascore developer  \\\n",
       "0             NaN  None  None           NaN NaN      None      None   \n",
       "\n",
       "             user_id      steam_id  \\\n",
       "0  76561197970982479  7.656120e+16   \n",
       "\n",
       "                                                                                                                                                                                                     items  \\\n",
       "0  [{'item_id': '10', 'item_name': 'Counter-Strike', 'playtime_forever': 6, 'playtime_2weeks': 0}, {'item_id': '20', 'item_name': 'Team Fortress Classic', 'playtime_forever': 0, 'playtime_2weeks': 0}...   \n",
       "\n",
       "   items_count  \n",
       "0        277.0  "
      ]
     },
     "execution_count": 453,
     "metadata": {},
     "output_type": "execute_result"
    }
   ],
   "source": [
    "df_s.head(1)"
   ]
  },
  {
   "cell_type": "markdown",
   "id": "44884c8d",
   "metadata": {},
   "source": [
    "Al leer archivo steam, veo que tiene columnas al final correspondientes a los items que consumio cada usario. Esas columas las elimino porque las tengo en el dataframe items y no tiene sentido que esten en este dataframe. Este contiene la descripcion de cada item, y no tendria sentido tener en cada item un usuario con los items que compro"
   ]
  },
  {
   "cell_type": "code",
   "execution_count": 455,
   "id": "04de7d85",
   "metadata": {},
   "outputs": [],
   "source": [
    "df_steam = df_s.drop(columns = ['items','user_id','steam_id','items_count'])"
   ]
  },
  {
   "cell_type": "code",
   "execution_count": 456,
   "id": "41c0cf7d",
   "metadata": {},
   "outputs": [
    {
     "data": {
      "text/plain": [
       "(120445, 15)"
      ]
     },
     "execution_count": 456,
     "metadata": {},
     "output_type": "execute_result"
    }
   ],
   "source": [
    "df_steam.shape"
   ]
  },
  {
   "cell_type": "markdown",
   "id": "36c03cc4",
   "metadata": {},
   "source": [
    "### Exploramos valores nulos"
   ]
  },
  {
   "cell_type": "markdown",
   "id": "db4efa3a",
   "metadata": {},
   "source": [
    "- Analisis de registros nulos:<br>\n",
    ">Observamos que hay muchos nulos. Voy a eliminar solo las filas que tengan todas las columnas con valor nulo.<br>\n",
    " **Transformación**: Elimino los nulos."
   ]
  },
  {
   "cell_type": "code",
   "execution_count": 462,
   "id": "09f639a9",
   "metadata": {},
   "outputs": [
    {
     "data": {
      "text/plain": [
       "publisher        8052\n",
       "genres           3283\n",
       "app_name            2\n",
       "title            2050\n",
       "url                 0\n",
       "                ...  \n",
       "price            1377\n",
       "early_access        0\n",
       "id                  2\n",
       "metascore       29458\n",
       "developer        3299\n",
       "Length: 15, dtype: int64"
      ]
     },
     "execution_count": 462,
     "metadata": {},
     "output_type": "execute_result"
    }
   ],
   "source": [
    "df_steam.isnull().sum()"
   ]
  },
  {
   "cell_type": "code",
   "execution_count": 463,
   "id": "fabde83a",
   "metadata": {},
   "outputs": [],
   "source": [
    "df_steam.dropna(inplace=True,how ='all')"
   ]
  },
  {
   "cell_type": "code",
   "execution_count": 464,
   "id": "e40b950a",
   "metadata": {},
   "outputs": [
    {
     "data": {
      "text/plain": [
       "(32135, 15)"
      ]
     },
     "execution_count": 464,
     "metadata": {},
     "output_type": "execute_result"
    }
   ],
   "source": [
    "df_steam.shape"
   ]
  },
  {
   "cell_type": "markdown",
   "id": "edb245da",
   "metadata": {},
   "source": [
    "### Exploramos registros duplicados"
   ]
  },
  {
   "cell_type": "markdown",
   "id": "e91ad2e3",
   "metadata": {},
   "source": [
    "- Analisis de registros duplicados: \n",
    ">Aparecen 0 valores duplicados.<br>\n",
    "> **Transformación**:-"
   ]
  },
  {
   "cell_type": "code",
   "execution_count": 465,
   "id": "c69fc285",
   "metadata": {},
   "outputs": [
    {
     "data": {
      "text/plain": [
       "0"
      ]
     },
     "execution_count": 465,
     "metadata": {},
     "output_type": "execute_result"
    }
   ],
   "source": [
    "data_duplicates_df_steam=  final_items.duplicated( keep=\"first\")\n",
    "data_duplicates_df_steam.sum()"
   ]
  },
  {
   "cell_type": "markdown",
   "id": "8cc9c2a4",
   "metadata": {},
   "source": [
    "### Exploración de tipo de datos de columnas."
   ]
  },
  {
   "cell_type": "markdown",
   "id": "23099147",
   "metadata": {},
   "source": [
    "- Analisis de tipo de datos de columnas:<br>\n",
    " **Transformación**: \n",
    "> 1. Convierto precio a formato float.<br>\n",
    "> 2. Convierto release_date a formato datetime\n",
    "> 3. Agrero columna año de release_date"
   ]
  },
  {
   "cell_type": "markdown",
   "id": "cae2a4f3",
   "metadata": {},
   "source": [
    "#### Precio"
   ]
  },
  {
   "cell_type": "code",
   "execution_count": 466,
   "id": "d12f9fc4",
   "metadata": {},
   "outputs": [
    {
     "data": {
      "text/plain": [
       "array([4.99, 'Free To Play', 'Free to Play', 0.99, 2.99, 3.99, 9.99,\n",
       "       18.99, 29.99, None, 'Free', 10.99, 1.5899999999999999, 14.99, 1.99,\n",
       "       59.99, 8.99, 6.99, 7.99, 39.99, 19.99, 7.49, 12.99, 5.99, 2.49,\n",
       "       15.99, 1.25, 24.99, 17.99, 61.99, 3.49, 11.99, 13.99, 'Free Demo',\n",
       "       'Play for Free!', 34.99, 74.76, 1.49, 32.99, 99.99, 14.95, 69.99,\n",
       "       16.99, 79.99, 49.99, 5.0, 44.99, 13.98, 29.96, 119.99, 109.99,\n",
       "       149.99, 771.71, 'Install Now', 21.99, 89.99,\n",
       "       'Play WARMACHINE: Tactics Demo', 0.98, 139.92, 4.29, 64.99,\n",
       "       'Free Mod', 54.99, 74.99, 'Install Theme', 0.89, 'Third-party',\n",
       "       0.5, 'Play Now', 299.99, 1.29, 3.0, 15.0, 5.49, 23.99, 49.0, 20.99,\n",
       "       10.93, 1.3900000000000001, 'Free HITMAN™ Holiday Pack', 36.99,\n",
       "       4.49, 2.0, 4.0, 9.0, 234.99, 1.9500000000000002, 1.5, 199.0, 189.0,\n",
       "       6.66, 27.99, 10.49, 129.99, 179.0, 26.99, 399.99, 31.99, 399.0,\n",
       "       20.0, 40.0, 3.33, 199.99, 22.99, 320.0, 38.85, 71.7, 59.95, 995.0,\n",
       "       27.49, 3.39, 6.0, 19.95, 499.99, 16.06, 4.68, 131.4, 44.98, 202.76,\n",
       "       1.0, 2.3, 0.9500000000000001, 172.24, 249.99, 2.9699999999999998,\n",
       "       10.96, 10.0, 30.0, 2.66, 6.48, 19.29, 11.15, 18.9, 2.89,\n",
       "       'Play the Demo', 99.0, 87.94, 599.0, 8.98, 9.69, 0.49, 9.98, 9.95,\n",
       "       7.0, 'Starting at $499.00', 'Starting at $449.00', 12.89, 6.49,\n",
       "       1.87, 42.99, 41.99, 289.99, 'Free to Try', 23.96, 5.65, 12.0,\n",
       "       13.37, 189.96, 124.99, 'Free Movie', 19.98, 160.91, 'Free to Use'],\n",
       "      dtype=object)"
      ]
     },
     "execution_count": 466,
     "metadata": {},
     "output_type": "execute_result"
    }
   ],
   "source": [
    "df_steam.price.unique()"
   ]
  },
  {
   "cell_type": "code",
   "execution_count": 467,
   "id": "f064db4c",
   "metadata": {},
   "outputs": [],
   "source": [
    "precio_cero=['Free To Play', 'Free to Play','Free','Free Mod','Free HITMAN™ Holiday Pack','Play the Demo','Free to Use','Free Demo','Play WARMACHINE: Tactics Demo','Play for Free!','Free to Try','Free Movie']\n",
    "precio_error=['Install Now','Install Theme','Third-party','Play Now'] \n",
    "precio_cor = ['Starting at $499.00','Starting at $449.00']"
   ]
  },
  {
   "cell_type": "code",
   "execution_count": 468,
   "id": "7120f864",
   "metadata": {},
   "outputs": [],
   "source": [
    "df_steam['price'] = df_steam['price'].replace(precio_cero, 0)\n",
    "df_steam['price'] = df_steam['price'].replace(precio_error, np.nan)\n",
    "df_steam['price'] = df_steam['price'].replace(precio_cor, 499.00)"
   ]
  },
  {
   "cell_type": "code",
   "execution_count": 469,
   "id": "4c0fe381",
   "metadata": {},
   "outputs": [
    {
     "data": {
      "text/plain": [
       "array([4.9900e+00, 0.0000e+00, 9.9000e-01, 2.9900e+00, 3.9900e+00,\n",
       "       9.9900e+00, 1.8990e+01, 2.9990e+01,        nan, 1.0990e+01,\n",
       "       1.5900e+00, 1.4990e+01, 1.9900e+00, 5.9990e+01, 8.9900e+00,\n",
       "       6.9900e+00, 7.9900e+00, 3.9990e+01, 1.9990e+01, 7.4900e+00,\n",
       "       1.2990e+01, 5.9900e+00, 2.4900e+00, 1.5990e+01, 1.2500e+00,\n",
       "       2.4990e+01, 1.7990e+01, 6.1990e+01, 3.4900e+00, 1.1990e+01,\n",
       "       1.3990e+01, 3.4990e+01, 7.4760e+01, 1.4900e+00, 3.2990e+01,\n",
       "       9.9990e+01, 1.4950e+01, 6.9990e+01, 1.6990e+01, 7.9990e+01,\n",
       "       4.9990e+01, 5.0000e+00, 4.4990e+01, 1.3980e+01, 2.9960e+01,\n",
       "       1.1999e+02, 1.0999e+02, 1.4999e+02, 7.7171e+02, 2.1990e+01,\n",
       "       8.9990e+01, 9.8000e-01, 1.3992e+02, 4.2900e+00, 6.4990e+01,\n",
       "       5.4990e+01, 7.4990e+01, 8.9000e-01, 5.0000e-01, 2.9999e+02,\n",
       "       1.2900e+00, 3.0000e+00, 1.5000e+01, 5.4900e+00, 2.3990e+01,\n",
       "       4.9000e+01, 2.0990e+01, 1.0930e+01, 1.3900e+00, 3.6990e+01,\n",
       "       4.4900e+00, 2.0000e+00, 4.0000e+00, 9.0000e+00, 2.3499e+02,\n",
       "       1.9500e+00, 1.5000e+00, 1.9900e+02, 1.8900e+02, 6.6600e+00,\n",
       "       2.7990e+01, 1.0490e+01, 1.2999e+02, 1.7900e+02, 2.6990e+01,\n",
       "       3.9999e+02, 3.1990e+01, 3.9900e+02, 2.0000e+01, 4.0000e+01,\n",
       "       3.3300e+00, 1.9999e+02, 2.2990e+01, 3.2000e+02, 3.8850e+01,\n",
       "       7.1700e+01, 5.9950e+01, 9.9500e+02, 2.7490e+01, 3.3900e+00,\n",
       "       6.0000e+00, 1.9950e+01, 4.9999e+02, 1.6060e+01, 4.6800e+00,\n",
       "       1.3140e+02, 4.4980e+01, 2.0276e+02, 1.0000e+00, 2.3000e+00,\n",
       "       9.5000e-01, 1.7224e+02, 2.4999e+02, 2.9700e+00, 1.0960e+01,\n",
       "       1.0000e+01, 3.0000e+01, 2.6600e+00, 6.4800e+00, 1.9290e+01,\n",
       "       1.1150e+01, 1.8900e+01, 2.8900e+00, 9.9000e+01, 8.7940e+01,\n",
       "       5.9900e+02, 8.9800e+00, 9.6900e+00, 4.9000e-01, 9.9800e+00,\n",
       "       9.9500e+00, 7.0000e+00, 4.9900e+02, 1.2890e+01, 6.4900e+00,\n",
       "       1.8700e+00, 4.2990e+01, 4.1990e+01, 2.8999e+02, 2.3960e+01,\n",
       "       5.6500e+00, 1.2000e+01, 1.3370e+01, 1.8996e+02, 1.2499e+02,\n",
       "       1.9980e+01, 1.6091e+02])"
      ]
     },
     "execution_count": 469,
     "metadata": {},
     "output_type": "execute_result"
    }
   ],
   "source": [
    "df_steam.price.unique()"
   ]
  },
  {
   "cell_type": "code",
   "execution_count": 470,
   "id": "44851ba8",
   "metadata": {},
   "outputs": [],
   "source": [
    "df_steam['price']=df_steam['price'].astype(float)"
   ]
  },
  {
   "cell_type": "code",
   "execution_count": 471,
   "id": "1eaa38bb",
   "metadata": {},
   "outputs": [
    {
     "data": {
      "text/plain": [
       "1383"
      ]
     },
     "execution_count": 471,
     "metadata": {},
     "output_type": "execute_result"
    }
   ],
   "source": [
    "df_steam['price'].isnull().sum()"
   ]
  },
  {
   "cell_type": "markdown",
   "id": "3e07bc9e",
   "metadata": {},
   "source": [
    "### release_date"
   ]
  },
  {
   "cell_type": "code",
   "execution_count": 472,
   "id": "9342d536",
   "metadata": {},
   "outputs": [],
   "source": [
    "df_steam['release_date']=pd.to_datetime(df_steam['release_date'],errors='coerce')"
   ]
  },
  {
   "cell_type": "code",
   "execution_count": 473,
   "id": "6239d0c6",
   "metadata": {},
   "outputs": [
    {
     "data": {
      "text/plain": [
       "2241"
      ]
     },
     "execution_count": 473,
     "metadata": {},
     "output_type": "execute_result"
    }
   ],
   "source": [
    "df_steam['release_date'].isnull().sum()"
   ]
  },
  {
   "cell_type": "code",
   "execution_count": 474,
   "id": "1385b849",
   "metadata": {},
   "outputs": [
    {
     "data": {
      "text/plain": [
       "Timestamp('2021-12-31 00:00:00')"
      ]
     },
     "execution_count": 474,
     "metadata": {},
     "output_type": "execute_result"
    }
   ],
   "source": [
    "df_steam['release_date'].max()"
   ]
  },
  {
   "cell_type": "code",
   "execution_count": 475,
   "id": "b9872b10",
   "metadata": {},
   "outputs": [
    {
     "data": {
      "text/plain": [
       "Timestamp('1970-07-15 00:00:00')"
      ]
     },
     "execution_count": 475,
     "metadata": {},
     "output_type": "execute_result"
    }
   ],
   "source": [
    "df_steam['release_date'].min()"
   ]
  },
  {
   "cell_type": "code",
   "execution_count": 476,
   "id": "418284f5",
   "metadata": {},
   "outputs": [],
   "source": [
    "df_steam['year']=df_steam['release_date'].dt.year"
   ]
  },
  {
   "cell_type": "markdown",
   "id": "505490e2",
   "metadata": {},
   "source": [
    "df_steam.to_csv('df_steam.csv', index = False)\n",
    "df_steam.to_parquet('df_steam.parquet', index = False)"
   ]
  },
  {
   "cell_type": "markdown",
   "id": "dea04e6a",
   "metadata": {},
   "source": [
    "# **Desarrollo de datasets para funciones**"
   ]
  },
  {
   "cell_type": "markdown",
   "id": "cae11a9b",
   "metadata": {},
   "source": [
    "#### Voy a realizar uniones en los dataset para luego poder realizar las transformaciones que me permiten obtener los dataframe para alimentar las funciones"
   ]
  },
  {
   "cell_type": "markdown",
   "id": "eba3f3e8",
   "metadata": {},
   "source": [
    "### 1) df_items_steam : es la union de final_items con df_steam"
   ]
  },
  {
   "cell_type": "markdown",
   "id": "e229fbb3",
   "metadata": {},
   "source": [
    "Voy a unir el dataset final_items (cantidad de items por usuario) con el de la descripcion de los items (df_steam), por el campo item_id.  \n",
    "Es decir me voy a traer al dataset final_items la descripcion de cada item que esta en df_steam"
   ]
  },
  {
   "cell_type": "code",
   "execution_count": null,
   "id": "1f44658c",
   "metadata": {},
   "outputs": [],
   "source": [
    "final_items ['item_id'] = final_items ['item_id'].astype(float) "
   ]
  },
  {
   "cell_type": "code",
   "execution_count": null,
   "id": "04e89b0e",
   "metadata": {},
   "outputs": [],
   "source": [
    "df_items_steam = final_items.merge(df_steam, left_on='item_id',right_on='id',how='left')"
   ]
  },
  {
   "cell_type": "markdown",
   "id": "9b8b99b5",
   "metadata": {},
   "source": [
    "df_items_steam.drop(columns=['index'], inplace=True)"
   ]
  },
  {
   "cell_type": "code",
   "execution_count": 580,
   "id": "95f02717",
   "metadata": {},
   "outputs": [],
   "source": [
    "df_items_steam.shape"
   ]
  },
  {
   "cell_type": "code",
   "execution_count": 502,
   "id": "30c5723b",
   "metadata": {},
   "outputs": [
    {
     "data": {
      "text/plain": [
       "level_0                   0\n",
       "user_id                   0\n",
       "items_count               0\n",
       "steam_id                  0\n",
       "user_url                  0\n",
       "level_0               33612\n",
       "item_id               33612\n",
       "item_name             33612\n",
       "playtime_forever      33612\n",
       "playtime_2weeks       33612\n",
       "publisher           1012477\n",
       "genres               965202\n",
       "app_name             875758\n",
       "title                947543\n",
       "url                  858952\n",
       "release_date         954196\n",
       "tags                 875875\n",
       "reviews_url          892564\n",
       "discount_price      5165453\n",
       "specs                891572\n",
       "price                944228\n",
       "early_access         858952\n",
       "id                   892564\n",
       "metascore           2464940\n",
       "developer            981917\n",
       "year                 954196\n",
       "dtype: int64"
      ]
     },
     "execution_count": 502,
     "metadata": {},
     "output_type": "execute_result"
    }
   ],
   "source": [
    "df_items_steam.isnull().sum()"
   ]
  },
  {
   "cell_type": "markdown",
   "id": "bb6d71f0",
   "metadata": {},
   "source": [
    "### 2) df_items_rev: es la union de final_items con final_rev"
   ]
  },
  {
   "cell_type": "markdown",
   "id": "30364d44",
   "metadata": {},
   "source": [
    "Voy a unir el dataset final_items  (dataset con items por usuario) con el dataset final_rev que tiene las reseñas.\n",
    "La union debe hacerse usando don claves: user_id y item_id"
   ]
  },
  {
   "cell_type": "code",
   "execution_count": 622,
   "id": "6247e2c1",
   "metadata": {},
   "outputs": [],
   "source": [
    "final_rev['user_id'] = final_rev['user_id'].str.strip()\n",
    "final_items['user_id']= final_items['user_id'].str.strip()\n",
    "final_rev['item_id'] = final_rev['item_id'].astype(float)\n",
    "final_items ['item_id'] = final_items ['item_id'].astype(float) "
   ]
  },
  {
   "cell_type": "code",
   "execution_count": 623,
   "id": "293ffe07",
   "metadata": {},
   "outputs": [],
   "source": [
    "df_items_rev=pd.merge(final_items,final_rev, left_on=['user_id','item_id'], right_on=['user_id','item_id'], how='left')"
   ]
  },
  {
   "cell_type": "code",
   "execution_count": 624,
   "id": "3036b6ee",
   "metadata": {},
   "outputs": [
    {
     "data": {
      "text/plain": [
       "(5170687, 20)"
      ]
     },
     "execution_count": 624,
     "metadata": {},
     "output_type": "execute_result"
    }
   ],
   "source": [
    "df_items_rev.shape"
   ]
  },
  {
   "cell_type": "code",
   "execution_count": 626,
   "id": "0cddd2a6",
   "metadata": {},
   "outputs": [
    {
     "data": {
      "text/plain": [
       "user_id                     0\n",
       "items_count                 0\n",
       "steam_id                    0\n",
       "user_url_x                  0\n",
       "item_id                 16806\n",
       "item_name               16806\n",
       "playtime_forever        16806\n",
       "playtime_2weeks         16806\n",
       "user_url_y            5153207\n",
       "funny                 5153207\n",
       "posted                5155900\n",
       "last_edited           5153207\n",
       "helpful               5153207\n",
       "recommend             5153207\n",
       "review                5153207\n",
       "posted2               5153207\n",
       "mes_dia               5153207\n",
       "año                   5155900\n",
       "sentiment_analysis    5153207\n",
       "año_posted            5155900\n",
       "dtype: int64"
      ]
     },
     "execution_count": 626,
     "metadata": {},
     "output_type": "execute_result"
    }
   ],
   "source": [
    "df_items_rev.isnull().sum()"
   ]
  },
  {
   "cell_type": "code",
   "execution_count": 627,
   "id": "d94a3a2f",
   "metadata": {},
   "outputs": [],
   "source": [
    "df_items_rev.dropna(subset=['recommend'],inplace=True)"
   ]
  },
  {
   "cell_type": "code",
   "execution_count": 628,
   "id": "3e84eda6",
   "metadata": {},
   "outputs": [
    {
     "data": {
      "text/plain": [
       "(17480, 20)"
      ]
     },
     "execution_count": 628,
     "metadata": {},
     "output_type": "execute_result"
    }
   ],
   "source": [
    "df_items_rev.shape"
   ]
  },
  {
   "cell_type": "markdown",
   "id": "85b4d829",
   "metadata": {},
   "source": [
    "### 3) df_items_steam_rv : es la union de df_items_steam con final_rev"
   ]
  },
  {
   "cell_type": "markdown",
   "id": "f5be42bb",
   "metadata": {},
   "source": [
    "Voy a unir el dataset df_items_steam (dataset con items por usuario e informacion de cada item) generado en el paso anterior con el dataset final_rev\n",
    "que tiene las reseñas. La union debe hacerse usando don claves: user_id y item_id"
   ]
  },
  {
   "cell_type": "code",
   "execution_count": 504,
   "id": "a063a827",
   "metadata": {},
   "outputs": [],
   "source": [
    "# Acomodo el formato de las columnas para poder hacer el merge\n",
    "final_rev['user_id'] = final_rev['user_id'].str.strip()\n",
    "df_items_steam ['user_id'] = df_items_steam ['user_id'].str.strip()\n",
    "final_rev['item_id'] = final_rev['item_id'].astype(float)\n"
   ]
  },
  {
   "cell_type": "code",
   "execution_count": 240,
   "id": "3d8a5e66",
   "metadata": {},
   "outputs": [],
   "source": [
    "df_items_steam_rv=pd.merge(df_items_steam,final_rev, left_on= ['user_id','item_id'], right_on=['user_id','item_id'], how='left')"
   ]
  },
  {
   "cell_type": "code",
   "execution_count": 241,
   "id": "f604cd49",
   "metadata": {},
   "outputs": [
    {
     "data": {
      "text/plain": [
       "(5187569, 39)"
      ]
     },
     "execution_count": 241,
     "metadata": {},
     "output_type": "execute_result"
    }
   ],
   "source": [
    "df_items_steam_rv.shape"
   ]
  },
  {
   "cell_type": "code",
   "execution_count": 242,
   "id": "d28f9ff5",
   "metadata": {},
   "outputs": [
    {
     "data": {
      "text/plain": [
       "level_0              0\n",
       "user_id              0\n",
       "items_count          0\n",
       "steam_id             0\n",
       "user_url_x           0\n",
       "                ...   \n",
       "review         5170013\n",
       "posted2        5170013\n",
       "mes_dia        5170013\n",
       "año            5172724\n",
       "sentimiento    5170013\n",
       "Length: 39, dtype: int64"
      ]
     },
     "execution_count": 242,
     "metadata": {},
     "output_type": "execute_result"
    }
   ],
   "source": [
    "df_items_steam_rv.isnull().sum()"
   ]
  },
  {
   "cell_type": "code",
   "execution_count": null,
   "id": "45e5c4e9",
   "metadata": {},
   "outputs": [],
   "source": [
    "# Elimino los nulos y me quedo solo con los items que tienen review en este dataset"
   ]
  },
  {
   "cell_type": "code",
   "execution_count": 629,
   "id": "96820a45",
   "metadata": {},
   "outputs": [],
   "source": [
    "df_items_steam_rv.dropna(subset=['posted'],inplace=True)"
   ]
  },
  {
   "cell_type": "code",
   "execution_count": 630,
   "id": "1353a0c4",
   "metadata": {},
   "outputs": [
    {
     "data": {
      "text/plain": [
       "(14845, 39)"
      ]
     },
     "execution_count": 630,
     "metadata": {},
     "output_type": "execute_result"
    }
   ],
   "source": [
    "df_items_steam_rv.shape"
   ]
  },
  {
   "cell_type": "markdown",
   "id": "fdb9fac3",
   "metadata": {},
   "source": [
    "## FUNCION 1:\n",
    "### def userdata( User_id : str ): Debe devolver cantidad de dinero gastado por el usuario, el porcentaje de recomendación en base a reviews.recommend y cantidad de items."
   ]
  },
  {
   "cell_type": "markdown",
   "id": "4a54be9c",
   "metadata": {},
   "source": [
    "#### Voy a generar un dataset con los gastos por usuario que luego será llamado por la función. "
   ]
  },
  {
   "cell_type": "markdown",
   "id": "ec251c82",
   "metadata": {},
   "source": [
    "Genero un dataset para realizar los calculos tomando las columnas que necesito del df_items_steam"
   ]
  },
  {
   "cell_type": "code",
   "execution_count": 506,
   "id": "8990c11e",
   "metadata": {},
   "outputs": [],
   "source": [
    "df_userdata1 = df_items_steam[['user_id','item_id','price']]"
   ]
  },
  {
   "cell_type": "markdown",
   "id": "5a75347f",
   "metadata": {},
   "source": [
    "Realizo agrupacion por usuario y aplico la funcion de agregación suma a precio para calcular el gasto"
   ]
  },
  {
   "cell_type": "code",
   "execution_count": 507,
   "id": "e75c5d5d",
   "metadata": {},
   "outputs": [],
   "source": [
    "df_userdata1_agg=df_userdata1.groupby('user_id').agg(  gasto = ('price','sum')).reset_index()"
   ]
  },
  {
   "cell_type": "code",
   "execution_count": 508,
   "id": "938997a0",
   "metadata": {},
   "outputs": [
    {
     "data": {
      "text/html": [
       "<div>\n",
       "<style scoped>\n",
       "    .dataframe tbody tr th:only-of-type {\n",
       "        vertical-align: middle;\n",
       "    }\n",
       "\n",
       "    .dataframe tbody tr th {\n",
       "        vertical-align: top;\n",
       "    }\n",
       "\n",
       "    .dataframe thead th {\n",
       "        text-align: right;\n",
       "    }\n",
       "</style>\n",
       "<table border=\"1\" class=\"dataframe\">\n",
       "  <thead>\n",
       "    <tr style=\"text-align: right;\">\n",
       "      <th></th>\n",
       "      <th>user_id</th>\n",
       "      <th>gasto</th>\n",
       "    </tr>\n",
       "  </thead>\n",
       "  <tbody>\n",
       "    <tr>\n",
       "      <th>0</th>\n",
       "      <td>--000--</td>\n",
       "      <td>874.52</td>\n",
       "    </tr>\n",
       "    <tr>\n",
       "      <th>1</th>\n",
       "      <td>--ace--</td>\n",
       "      <td>310.87</td>\n",
       "    </tr>\n",
       "    <tr>\n",
       "      <th>2</th>\n",
       "      <td>--ionex--</td>\n",
       "      <td>309.82</td>\n",
       "    </tr>\n",
       "  </tbody>\n",
       "</table>\n",
       "</div>"
      ],
      "text/plain": [
       "     user_id   gasto\n",
       "0    --000--  874.52\n",
       "1    --ace--  310.87\n",
       "2  --ionex--  309.82"
      ]
     },
     "execution_count": 508,
     "metadata": {},
     "output_type": "execute_result"
    }
   ],
   "source": [
    "df_userdata1_agg.head(3)"
   ]
  },
  {
   "cell_type": "markdown",
   "id": "9305da3a",
   "metadata": {},
   "source": [
    "Guardo el dataset a un csv para luego alimentar a la función."
   ]
  },
  {
   "cell_type": "code",
   "execution_count": 509,
   "id": "895510e2",
   "metadata": {},
   "outputs": [],
   "source": [
    "df_userdata1_agg.to_csv('userdata_1')"
   ]
  },
  {
   "cell_type": "markdown",
   "id": "9348d67a",
   "metadata": {},
   "source": [
    "#### Voy a generar un dataset que tenga por usuario el porcentaje de recomendación."
   ]
  },
  {
   "cell_type": "markdown",
   "id": "4d432645",
   "metadata": {},
   "source": [
    "Genero un dataset para realizar los calculos tomando las columnas que necesito del df_items_steam_rv"
   ]
  },
  {
   "cell_type": "code",
   "execution_count": 632,
   "id": "53e499d2",
   "metadata": {},
   "outputs": [],
   "source": [
    "df_userdata2 = df_items_rev[['user_id','recommend','items_count']]"
   ]
  },
  {
   "cell_type": "markdown",
   "id": "cb1df6a9",
   "metadata": {},
   "source": [
    "Realizo agrupacion por usuario y aplico la funcion de agregación suma a recommend para obtener el total de recomendaciones por usuario, la funcion maximo para items_count, que igualmente es constante para todos los valores de mismo usuario. Con esos dos valores puedo calcular el porcentaje de recomendacion. "
   ]
  },
  {
   "cell_type": "code",
   "execution_count": 633,
   "id": "6d7cbd52",
   "metadata": {},
   "outputs": [],
   "source": [
    "df_userdata2_agg =df_userdata2 .groupby('user_id').agg(recomendado = ('recommend','sum'),totalit=('items_count','max') ).reset_index()"
   ]
  },
  {
   "cell_type": "code",
   "execution_count": 634,
   "id": "f08ee06b",
   "metadata": {},
   "outputs": [],
   "source": [
    "df_userdata2_agg['recomendado'] = df_userdata2_agg['recomendado'].astype(int)"
   ]
  },
  {
   "cell_type": "code",
   "execution_count": 635,
   "id": "d871fb54",
   "metadata": {},
   "outputs": [],
   "source": [
    "df_userdata2_agg['porcentaje']=(df_userdata2_agg['recomendado']/df_userdata2_agg['totalit'])*100"
   ]
  },
  {
   "cell_type": "code",
   "execution_count": 636,
   "id": "325bdc5d",
   "metadata": {},
   "outputs": [
    {
     "data": {
      "text/html": [
       "<div>\n",
       "<style scoped>\n",
       "    .dataframe tbody tr th:only-of-type {\n",
       "        vertical-align: middle;\n",
       "    }\n",
       "\n",
       "    .dataframe tbody tr th {\n",
       "        vertical-align: top;\n",
       "    }\n",
       "\n",
       "    .dataframe thead th {\n",
       "        text-align: right;\n",
       "    }\n",
       "</style>\n",
       "<table border=\"1\" class=\"dataframe\">\n",
       "  <thead>\n",
       "    <tr style=\"text-align: right;\">\n",
       "      <th></th>\n",
       "      <th>user_id</th>\n",
       "      <th>recomendado</th>\n",
       "      <th>totalit</th>\n",
       "      <th>porcentaje</th>\n",
       "    </tr>\n",
       "  </thead>\n",
       "  <tbody>\n",
       "    <tr>\n",
       "      <th>0</th>\n",
       "      <td>--000--</td>\n",
       "      <td>1</td>\n",
       "      <td>58</td>\n",
       "      <td>1.724138</td>\n",
       "    </tr>\n",
       "    <tr>\n",
       "      <th>1</th>\n",
       "      <td>-2SV-vuLB-Kg</td>\n",
       "      <td>1</td>\n",
       "      <td>68</td>\n",
       "      <td>1.470588</td>\n",
       "    </tr>\n",
       "    <tr>\n",
       "      <th>2</th>\n",
       "      <td>-Azsael-</td>\n",
       "      <td>1</td>\n",
       "      <td>167</td>\n",
       "      <td>0.598802</td>\n",
       "    </tr>\n",
       "    <tr>\n",
       "      <th>3</th>\n",
       "      <td>-Kenny</td>\n",
       "      <td>1</td>\n",
       "      <td>118</td>\n",
       "      <td>0.847458</td>\n",
       "    </tr>\n",
       "  </tbody>\n",
       "</table>\n",
       "</div>"
      ],
      "text/plain": [
       "        user_id  recomendado  totalit  porcentaje\n",
       "0       --000--            1       58    1.724138\n",
       "1  -2SV-vuLB-Kg            1       68    1.470588\n",
       "2      -Azsael-            1      167    0.598802\n",
       "3        -Kenny            1      118    0.847458"
      ]
     },
     "execution_count": 636,
     "metadata": {},
     "output_type": "execute_result"
    }
   ],
   "source": [
    "df_userdata2_agg.head(4)"
   ]
  },
  {
   "cell_type": "markdown",
   "id": "6d6610de",
   "metadata": {},
   "source": [
    "Guardo el dataset a un csv para luego alimentar a la función."
   ]
  },
  {
   "cell_type": "code",
   "execution_count": 637,
   "id": "d50e86ad",
   "metadata": {},
   "outputs": [],
   "source": [
    "df_userdata2_agg.to_csv('userdata_2')"
   ]
  },
  {
   "cell_type": "markdown",
   "id": "49fa0b2e",
   "metadata": {},
   "source": [
    "### Genero la función 1:"
   ]
  },
  {
   "cell_type": "code",
   "execution_count": 659,
   "id": "889e27e1",
   "metadata": {},
   "outputs": [],
   "source": [
    "def userdata (df1,df2,usuario):\n",
    "    user = usuario\n",
    "    df1_filtrado = df1[df1['user_id'] == user]\n",
    "    df2_filtrado = df2[df2['user_id'] == user]\n",
    "    valor1=df1_filtrado.gasto.iloc[0]\n",
    "    valor2=df2_filtrado.porcentaje.iloc[0]\n",
    "    return  ({'dinero gastado' : valor1,'porcecntaje_recom':valor2})"
   ]
  },
  {
   "cell_type": "code",
   "execution_count": 660,
   "id": "7b3a6d04",
   "metadata": {},
   "outputs": [
    {
     "data": {
      "text/plain": [
       "{'dinero gastado': 3424.3099999999854, 'porcecntaje_recom': 1.083032490974729}"
      ]
     },
     "execution_count": 660,
     "metadata": {},
     "output_type": "execute_result"
    }
   ],
   "source": [
    "\n",
    "userdata(df_userdata1_agg,df_userdata2_agg,'76561197970982479')"
   ]
  },
  {
   "cell_type": "markdown",
   "id": "6ecc5bdf",
   "metadata": {},
   "source": [
    "## FUNCION 2\n",
    "## def countreviews( YYYY-MM-DD y YYYY-MM-DD : str ): Cantidad de usuarios que realizaron reviews entre las fechas dadas y, el porcentaje de recomendación de los mismos en base a reviews.recommend."
   ]
  },
  {
   "cell_type": "markdown",
   "id": "b2292d31",
   "metadata": {},
   "source": [
    "#### Voy a generar un dataset que tenga por fecha de posteo, el usuario, recommend y la cantidad de items por usuario."
   ]
  },
  {
   "cell_type": "markdown",
   "id": "9c3567ac",
   "metadata": {},
   "source": [
    "Genero un dataset para realizar los calculos tomando las columnas que necesito del final_rev."
   ]
  },
  {
   "cell_type": "code",
   "execution_count": 642,
   "id": "6b67c4a8",
   "metadata": {},
   "outputs": [],
   "source": [
    "df_countreviews= final_rev[['posted','user_id','recommend']].copy()"
   ]
  },
  {
   "cell_type": "code",
   "execution_count": 643,
   "id": "bec8d819",
   "metadata": {},
   "outputs": [],
   "source": [
    "df_countreviews['recommend']=df_countreviews['recommend'].astype(int)"
   ]
  },
  {
   "cell_type": "code",
   "execution_count": 644,
   "id": "847a7882",
   "metadata": {},
   "outputs": [],
   "source": [
    "df_countreviews.dropna(subset=['user_id'],inplace=True)"
   ]
  },
  {
   "cell_type": "markdown",
   "id": "4729559b",
   "metadata": {},
   "source": [
    "Guardo el dataset a un csv para luego alimentar a la función."
   ]
  },
  {
   "cell_type": "code",
   "execution_count": 646,
   "id": "821540c6",
   "metadata": {},
   "outputs": [],
   "source": [
    "df_countreviews.to_csv('counterviwes')"
   ]
  },
  {
   "cell_type": "markdown",
   "id": "45131331",
   "metadata": {},
   "source": [
    "### genero la Función 2:"
   ]
  },
  {
   "cell_type": "code",
   "execution_count": 661,
   "id": "9fd0c54d",
   "metadata": {},
   "outputs": [],
   "source": [
    "def countreviews(df,fecha_inicio, fecha_fin):\n",
    "    # Convierte las fechas a objetos DateTime si no lo están\n",
    "    fecha_inicio = pd.to_datetime(fecha_inicio)\n",
    "    fecha_fin = pd.to_datetime(fecha_fin)\n",
    "    # Filtra el DataFrame para incluir solo filas dentro del rango de fechas\n",
    "    df_filtrado = df[(df['posted'] >= fecha_inicio) & (df['posted'] <= fecha_fin)]\n",
    "    \n",
    "    # Calcula cantidad de usuarios y porcentaje de recomendacion\n",
    "    cantidad_usuarios = df_filtrado['user_id'].nunique()\n",
    "    recomendacion = df_filtrado['recommend'].sum()/df_filtrado['recommend'].count()\n",
    "    # Puedes agregar más columnas según tus necesidades\n",
    "    \n",
    "    # Retorna los valores promedio calculados\n",
    "    return {'cantidad_usuarios': cantidad_usuarios,'recomendacion': recomendacion}\n",
    "   "
   ]
  },
  {
   "cell_type": "code",
   "execution_count": 663,
   "id": "50b4c65d",
   "metadata": {},
   "outputs": [
    {
     "data": {
      "text/plain": [
       "{'cantidad_usuarios': 617, 'recomendacion': 0.981081081081081}"
      ]
     },
     "execution_count": 663,
     "metadata": {},
     "output_type": "execute_result"
    }
   ],
   "source": [
    "fecha_inicio = '2011-07-15'\n",
    "fecha_fin = '2012-07-15'\n",
    "resultado = countreviews(df_countreviews, fecha_inicio, fecha_fin)\n",
    "resultado\n",
    "# Imprime más resultados si es necesario"
   ]
  },
  {
   "cell_type": "code",
   "execution_count": null,
   "id": "3bd067b3",
   "metadata": {},
   "outputs": [],
   "source": []
  },
  {
   "cell_type": "code",
   "execution_count": null,
   "id": "c93f0f4a",
   "metadata": {},
   "outputs": [],
   "source": []
  },
  {
   "cell_type": "markdown",
   "id": "a87065ea",
   "metadata": {},
   "source": [
    "## FUNCION 3\n",
    "## def genre( género : str ): Devuelve el puesto en el que se encuentra un género sobre el ranking de los mismos analizado bajo la columna PlayTimeForever."
   ]
  },
  {
   "cell_type": "markdown",
   "id": "d8777b81",
   "metadata": {},
   "source": [
    "### Voy a generar un dataset que tenga en una columna todos los generos y en otra columna la cantidad de horas de cada uno (playtimeForever)"
   ]
  },
  {
   "cell_type": "markdown",
   "id": "89bb79cc",
   "metadata": {},
   "source": [
    "Genero un dataset para realizar los calculos tomando las columnas que necesito del df_items_steam"
   ]
  },
  {
   "cell_type": "code",
   "execution_count": 523,
   "id": "dd064677",
   "metadata": {},
   "outputs": [],
   "source": [
    "df_genre = df_items_steam [['genres','playtime_forever']]"
   ]
  },
  {
   "cell_type": "markdown",
   "id": "f7fba8f7",
   "metadata": {},
   "source": [
    "Como cada item contiene una lista de generos, aplano la columna genero utilizando la función explode."
   ]
  },
  {
   "cell_type": "code",
   "execution_count": 524,
   "id": "f3059c9e",
   "metadata": {},
   "outputs": [],
   "source": [
    "df_genre_exp=df_genre.explode('genres')"
   ]
  },
  {
   "cell_type": "code",
   "execution_count": 525,
   "id": "bb12da89",
   "metadata": {},
   "outputs": [
    {
     "data": {
      "text/plain": [
       "(10992761, 2)"
      ]
     },
     "execution_count": 525,
     "metadata": {},
     "output_type": "execute_result"
    }
   ],
   "source": [
    "df_genre_exp.shape"
   ]
  },
  {
   "cell_type": "code",
   "execution_count": 526,
   "id": "0402f966",
   "metadata": {},
   "outputs": [
    {
     "data": {
      "text/plain": [
       "genres              965202\n",
       "playtime_forever     50418\n",
       "dtype: int64"
      ]
     },
     "execution_count": 526,
     "metadata": {},
     "output_type": "execute_result"
    }
   ],
   "source": [
    "df_genre_exp.isnull().sum()"
   ]
  },
  {
   "cell_type": "markdown",
   "id": "cb45e92c",
   "metadata": {},
   "source": [
    "Elimino los valores nulos de genero"
   ]
  },
  {
   "cell_type": "code",
   "execution_count": 133,
   "id": "1156f531",
   "metadata": {},
   "outputs": [],
   "source": [
    "df_genre_exp.dropna(inplace=True)"
   ]
  },
  {
   "cell_type": "markdown",
   "id": "2944bf05",
   "metadata": {},
   "source": [
    "Exploro la cantidad de valores unicos de genero y cuantos registros tengo de cada uno."
   ]
  },
  {
   "cell_type": "code",
   "execution_count": 500,
   "id": "1351cbe8",
   "metadata": {},
   "outputs": [
    {
     "data": {
      "text/plain": [
       "Action                       2808730\n",
       "Indie                        1764035\n",
       "Adventure                    1166043\n",
       "RPG                           911629\n",
       "Strategy                      803709\n",
       "Free to Play                  754561\n",
       "Simulation                    536340\n",
       "Casual                        500418\n",
       "Massively Multiplayer         372342\n",
       "Early Access                  123862\n",
       "Sports                        108578\n",
       "Racing                        102615\n",
       "Utilities                       9816\n",
       "Design &amp; Illustration       8692\n",
       "Animation &amp; Modeling        7160\n",
       "Video Production                4607\n",
       "Web Publishing                  3857\n",
       "Education                       3096\n",
       "Software Training               2381\n",
       "Audio Production                 880\n",
       "Photo Editing                    596\n",
       "Name: genres, dtype: int64"
      ]
     },
     "execution_count": 500,
     "metadata": {},
     "output_type": "execute_result"
    }
   ],
   "source": [
    "df_genre_exp.genres.value_counts()"
   ]
  },
  {
   "cell_type": "markdown",
   "id": "6292eb89",
   "metadata": {},
   "source": [
    "Agrupo por genero aplicando la funcion de agregación suma sobre la columna playTime_forever, obteniendo la cantidad de horas totales por genero."
   ]
  },
  {
   "cell_type": "code",
   "execution_count": 527,
   "id": "2b883af4",
   "metadata": {},
   "outputs": [],
   "source": [
    "df_genre_exp_agg =df_genre_exp.groupby('genres').agg(  horas = ('playtime_forever','sum'))"
   ]
  },
  {
   "cell_type": "markdown",
   "id": "b1d7aa63",
   "metadata": {},
   "source": [
    "Ordeno el dataset de mayor a menor para obtener del indice la posicion del ranking y reseteo indice"
   ]
  },
  {
   "cell_type": "code",
   "execution_count": 528,
   "id": "3249c612",
   "metadata": {},
   "outputs": [],
   "source": [
    "df_genre_exp_agg.sort_values(by=['horas'],ascending = False,inplace=True)"
   ]
  },
  {
   "cell_type": "code",
   "execution_count": 530,
   "id": "b072b6a4",
   "metadata": {},
   "outputs": [],
   "source": [
    "df_genre_exp_agg.reset_index(inplace=True)"
   ]
  },
  {
   "cell_type": "code",
   "execution_count": 531,
   "id": "6e2f9410",
   "metadata": {},
   "outputs": [
    {
     "data": {
      "text/html": [
       "<div>\n",
       "<style scoped>\n",
       "    .dataframe tbody tr th:only-of-type {\n",
       "        vertical-align: middle;\n",
       "    }\n",
       "\n",
       "    .dataframe tbody tr th {\n",
       "        vertical-align: top;\n",
       "    }\n",
       "\n",
       "    .dataframe thead th {\n",
       "        text-align: right;\n",
       "    }\n",
       "</style>\n",
       "<table border=\"1\" class=\"dataframe\">\n",
       "  <thead>\n",
       "    <tr style=\"text-align: right;\">\n",
       "      <th></th>\n",
       "      <th>genres</th>\n",
       "      <th>horas</th>\n",
       "    </tr>\n",
       "  </thead>\n",
       "  <tbody>\n",
       "    <tr>\n",
       "      <th>0</th>\n",
       "      <td>Action</td>\n",
       "      <td>3.113563e+09</td>\n",
       "    </tr>\n",
       "    <tr>\n",
       "      <th>1</th>\n",
       "      <td>Indie</td>\n",
       "      <td>1.494622e+09</td>\n",
       "    </tr>\n",
       "    <tr>\n",
       "      <th>2</th>\n",
       "      <td>RPG</td>\n",
       "      <td>1.041023e+09</td>\n",
       "    </tr>\n",
       "    <tr>\n",
       "      <th>3</th>\n",
       "      <td>Adventure</td>\n",
       "      <td>9.099951e+08</td>\n",
       "    </tr>\n",
       "    <tr>\n",
       "      <th>4</th>\n",
       "      <td>Simulation</td>\n",
       "      <td>8.676463e+08</td>\n",
       "    </tr>\n",
       "    <tr>\n",
       "      <th>5</th>\n",
       "      <td>Strategy</td>\n",
       "      <td>6.593638e+08</td>\n",
       "    </tr>\n",
       "    <tr>\n",
       "      <th>6</th>\n",
       "      <td>Free to Play</td>\n",
       "      <td>6.107529e+08</td>\n",
       "    </tr>\n",
       "    <tr>\n",
       "      <th>7</th>\n",
       "      <td>Massively Multiplayer</td>\n",
       "      <td>4.465941e+08</td>\n",
       "    </tr>\n",
       "    <tr>\n",
       "      <th>8</th>\n",
       "      <td>Casual</td>\n",
       "      <td>2.522329e+08</td>\n",
       "    </tr>\n",
       "    <tr>\n",
       "      <th>9</th>\n",
       "      <td>Early Access</td>\n",
       "      <td>1.587013e+08</td>\n",
       "    </tr>\n",
       "    <tr>\n",
       "      <th>10</th>\n",
       "      <td>Sports</td>\n",
       "      <td>6.584918e+07</td>\n",
       "    </tr>\n",
       "    <tr>\n",
       "      <th>11</th>\n",
       "      <td>Racing</td>\n",
       "      <td>6.369846e+07</td>\n",
       "    </tr>\n",
       "    <tr>\n",
       "      <th>12</th>\n",
       "      <td>Utilities</td>\n",
       "      <td>4.702399e+06</td>\n",
       "    </tr>\n",
       "    <tr>\n",
       "      <th>13</th>\n",
       "      <td>Design &amp;amp; Illustration</td>\n",
       "      <td>4.102258e+06</td>\n",
       "    </tr>\n",
       "    <tr>\n",
       "      <th>14</th>\n",
       "      <td>Web Publishing</td>\n",
       "      <td>2.780605e+06</td>\n",
       "    </tr>\n",
       "    <tr>\n",
       "      <th>15</th>\n",
       "      <td>Video Production</td>\n",
       "      <td>2.408892e+06</td>\n",
       "    </tr>\n",
       "    <tr>\n",
       "      <th>16</th>\n",
       "      <td>Animation &amp;amp; Modeling</td>\n",
       "      <td>2.007347e+06</td>\n",
       "    </tr>\n",
       "    <tr>\n",
       "      <th>17</th>\n",
       "      <td>Software Training</td>\n",
       "      <td>5.710320e+05</td>\n",
       "    </tr>\n",
       "    <tr>\n",
       "      <th>18</th>\n",
       "      <td>Audio Production</td>\n",
       "      <td>5.560020e+05</td>\n",
       "    </tr>\n",
       "    <tr>\n",
       "      <th>19</th>\n",
       "      <td>Education</td>\n",
       "      <td>4.155560e+05</td>\n",
       "    </tr>\n",
       "    <tr>\n",
       "      <th>20</th>\n",
       "      <td>Photo Editing</td>\n",
       "      <td>1.154250e+05</td>\n",
       "    </tr>\n",
       "  </tbody>\n",
       "</table>\n",
       "</div>"
      ],
      "text/plain": [
       "                       genres         horas\n",
       "0                      Action  3.113563e+09\n",
       "1                       Indie  1.494622e+09\n",
       "2                         RPG  1.041023e+09\n",
       "3                   Adventure  9.099951e+08\n",
       "4                  Simulation  8.676463e+08\n",
       "5                    Strategy  6.593638e+08\n",
       "6                Free to Play  6.107529e+08\n",
       "7       Massively Multiplayer  4.465941e+08\n",
       "8                      Casual  2.522329e+08\n",
       "9                Early Access  1.587013e+08\n",
       "10                     Sports  6.584918e+07\n",
       "11                     Racing  6.369846e+07\n",
       "12                  Utilities  4.702399e+06\n",
       "13  Design &amp; Illustration  4.102258e+06\n",
       "14             Web Publishing  2.780605e+06\n",
       "15           Video Production  2.408892e+06\n",
       "16   Animation &amp; Modeling  2.007347e+06\n",
       "17          Software Training  5.710320e+05\n",
       "18           Audio Production  5.560020e+05\n",
       "19                  Education  4.155560e+05\n",
       "20              Photo Editing  1.154250e+05"
      ]
     },
     "execution_count": 531,
     "metadata": {},
     "output_type": "execute_result"
    }
   ],
   "source": [
    "df_genre_exp_agg"
   ]
  },
  {
   "cell_type": "markdown",
   "id": "26661126",
   "metadata": {},
   "source": [
    "Guardo el dataset a un csv para luego alimentar a la función."
   ]
  },
  {
   "cell_type": "code",
   "execution_count": 533,
   "id": "5165b76b",
   "metadata": {},
   "outputs": [],
   "source": [
    "df_genre_exp_agg.to_csv('genre')"
   ]
  },
  {
   "cell_type": "markdown",
   "id": "2e49be4e",
   "metadata": {},
   "source": [
    "### Genero la Funcion 3:"
   ]
  },
  {
   "cell_type": "code",
   "execution_count": 534,
   "id": "f58b45c3",
   "metadata": {},
   "outputs": [],
   "source": [
    "def genre(df,genero):\n",
    "    gen=genero\n",
    "    posicion = df_genre_exp_agg[df_genre_exp_agg['genres'] == gen].index[0]\n",
    "    return {\n",
    "        'posicion en ranking': posicion + 1\n",
    "    }"
   ]
  },
  {
   "cell_type": "code",
   "execution_count": 664,
   "id": "de1578d7",
   "metadata": {},
   "outputs": [
    {
     "data": {
      "text/plain": [
       "{'posicion en ranking': 18}"
      ]
     },
     "execution_count": 664,
     "metadata": {},
     "output_type": "execute_result"
    }
   ],
   "source": [
    "resultado = genre(df_genre_exp_agg,'Software Training')\n",
    "resultado\n"
   ]
  },
  {
   "cell_type": "markdown",
   "id": "ba47f088",
   "metadata": {},
   "source": [
    "## FUNCION 4\n",
    "## def userforgenre( género : str ): Top 5 de usuarios con más horas de juego en el género dado, con su URL (del user) y user_id."
   ]
  },
  {
   "cell_type": "markdown",
   "id": "d7d68997",
   "metadata": {},
   "source": [
    "### Voy a generar un dataframe que tenga user_id, user_url, genre y playtime_forever"
   ]
  },
  {
   "cell_type": "markdown",
   "id": "94f988de",
   "metadata": {},
   "source": [
    "Genero un dataset para realizar los calculos tomando las columnas que necesito del df_items_steam"
   ]
  },
  {
   "cell_type": "code",
   "execution_count": 535,
   "id": "744881a6",
   "metadata": {},
   "outputs": [],
   "source": [
    "df_userforgenre = df_items_steam[['user_id','user_url','genres','playtime_forever']]"
   ]
  },
  {
   "cell_type": "code",
   "execution_count": 536,
   "id": "640d747b",
   "metadata": {},
   "outputs": [],
   "source": [
    "df_userforgenre_exp=df_userforgenre.explode('genres')"
   ]
  },
  {
   "cell_type": "code",
   "execution_count": 537,
   "id": "80c7ed52",
   "metadata": {},
   "outputs": [],
   "source": [
    "df_userforgenre_exp.dropna(subset=['genres'],inplace=True)"
   ]
  },
  {
   "cell_type": "markdown",
   "id": "f5d13271",
   "metadata": {},
   "source": [
    "Agrupo por usuario y  por genero y aplico sobre playtime_forever la funcion suma para calcular las horas totales y para user_url dejo el primer valor ya que es constante por usuario. "
   ]
  },
  {
   "cell_type": "code",
   "execution_count": 538,
   "id": "b2dddd23",
   "metadata": {},
   "outputs": [],
   "source": [
    "df_agg= df_userforgenre_exp. groupby (['user_id', 'genres']).agg (horas=('playtime_forever','sum'),url=('user_url','first')). reset_index ()"
   ]
  },
  {
   "cell_type": "code",
   "execution_count": 539,
   "id": "9ed462df",
   "metadata": {},
   "outputs": [
    {
     "data": {
      "text/html": [
       "<div>\n",
       "<style scoped>\n",
       "    .dataframe tbody tr th:only-of-type {\n",
       "        vertical-align: middle;\n",
       "    }\n",
       "\n",
       "    .dataframe tbody tr th {\n",
       "        vertical-align: top;\n",
       "    }\n",
       "\n",
       "    .dataframe thead th {\n",
       "        text-align: right;\n",
       "    }\n",
       "</style>\n",
       "<table border=\"1\" class=\"dataframe\">\n",
       "  <thead>\n",
       "    <tr style=\"text-align: right;\">\n",
       "      <th></th>\n",
       "      <th>user_id</th>\n",
       "      <th>genres</th>\n",
       "      <th>horas</th>\n",
       "      <th>url</th>\n",
       "    </tr>\n",
       "  </thead>\n",
       "  <tbody>\n",
       "    <tr>\n",
       "      <th>0</th>\n",
       "      <td>--000--</td>\n",
       "      <td>Action</td>\n",
       "      <td>51389.0</td>\n",
       "      <td>http://steamcommunity.com/id/--000--</td>\n",
       "    </tr>\n",
       "    <tr>\n",
       "      <th>1</th>\n",
       "      <td>--000--</td>\n",
       "      <td>Adventure</td>\n",
       "      <td>5270.0</td>\n",
       "      <td>http://steamcommunity.com/id/--000--</td>\n",
       "    </tr>\n",
       "    <tr>\n",
       "      <th>2</th>\n",
       "      <td>--000--</td>\n",
       "      <td>Casual</td>\n",
       "      <td>3026.0</td>\n",
       "      <td>http://steamcommunity.com/id/--000--</td>\n",
       "    </tr>\n",
       "    <tr>\n",
       "      <th>3</th>\n",
       "      <td>--000--</td>\n",
       "      <td>Early Access</td>\n",
       "      <td>2533.0</td>\n",
       "      <td>http://steamcommunity.com/id/--000--</td>\n",
       "    </tr>\n",
       "    <tr>\n",
       "      <th>4</th>\n",
       "      <td>--000--</td>\n",
       "      <td>Free to Play</td>\n",
       "      <td>3816.0</td>\n",
       "      <td>http://steamcommunity.com/id/--000--</td>\n",
       "    </tr>\n",
       "    <tr>\n",
       "      <th>5</th>\n",
       "      <td>--000--</td>\n",
       "      <td>Indie</td>\n",
       "      <td>37254.0</td>\n",
       "      <td>http://steamcommunity.com/id/--000--</td>\n",
       "    </tr>\n",
       "    <tr>\n",
       "      <th>6</th>\n",
       "      <td>--000--</td>\n",
       "      <td>Massively Multiplayer</td>\n",
       "      <td>3327.0</td>\n",
       "      <td>http://steamcommunity.com/id/--000--</td>\n",
       "    </tr>\n",
       "    <tr>\n",
       "      <th>7</th>\n",
       "      <td>--000--</td>\n",
       "      <td>RPG</td>\n",
       "      <td>13297.0</td>\n",
       "      <td>http://steamcommunity.com/id/--000--</td>\n",
       "    </tr>\n",
       "    <tr>\n",
       "      <th>8</th>\n",
       "      <td>--000--</td>\n",
       "      <td>Racing</td>\n",
       "      <td>26768.0</td>\n",
       "      <td>http://steamcommunity.com/id/--000--</td>\n",
       "    </tr>\n",
       "    <tr>\n",
       "      <th>9</th>\n",
       "      <td>--000--</td>\n",
       "      <td>Simulation</td>\n",
       "      <td>1855.0</td>\n",
       "      <td>http://steamcommunity.com/id/--000--</td>\n",
       "    </tr>\n",
       "    <tr>\n",
       "      <th>10</th>\n",
       "      <td>--000--</td>\n",
       "      <td>Sports</td>\n",
       "      <td>26760.0</td>\n",
       "      <td>http://steamcommunity.com/id/--000--</td>\n",
       "    </tr>\n",
       "    <tr>\n",
       "      <th>11</th>\n",
       "      <td>--000--</td>\n",
       "      <td>Strategy</td>\n",
       "      <td>3000.0</td>\n",
       "      <td>http://steamcommunity.com/id/--000--</td>\n",
       "    </tr>\n",
       "    <tr>\n",
       "      <th>12</th>\n",
       "      <td>--ace--</td>\n",
       "      <td>Action</td>\n",
       "      <td>31581.0</td>\n",
       "      <td>http://steamcommunity.com/id/--ace--</td>\n",
       "    </tr>\n",
       "    <tr>\n",
       "      <th>13</th>\n",
       "      <td>--ace--</td>\n",
       "      <td>Adventure</td>\n",
       "      <td>13242.0</td>\n",
       "      <td>http://steamcommunity.com/id/--ace--</td>\n",
       "    </tr>\n",
       "    <tr>\n",
       "      <th>14</th>\n",
       "      <td>--ace--</td>\n",
       "      <td>Animation &amp;amp; Modeling</td>\n",
       "      <td>0.0</td>\n",
       "      <td>http://steamcommunity.com/id/--ace--</td>\n",
       "    </tr>\n",
       "  </tbody>\n",
       "</table>\n",
       "</div>"
      ],
      "text/plain": [
       "    user_id                    genres    horas  \\\n",
       "0   --000--                    Action  51389.0   \n",
       "1   --000--                 Adventure   5270.0   \n",
       "2   --000--                    Casual   3026.0   \n",
       "3   --000--              Early Access   2533.0   \n",
       "4   --000--              Free to Play   3816.0   \n",
       "5   --000--                     Indie  37254.0   \n",
       "6   --000--     Massively Multiplayer   3327.0   \n",
       "7   --000--                       RPG  13297.0   \n",
       "8   --000--                    Racing  26768.0   \n",
       "9   --000--                Simulation   1855.0   \n",
       "10  --000--                    Sports  26760.0   \n",
       "11  --000--                  Strategy   3000.0   \n",
       "12  --ace--                    Action  31581.0   \n",
       "13  --ace--                 Adventure  13242.0   \n",
       "14  --ace--  Animation &amp; Modeling      0.0   \n",
       "\n",
       "                                     url  \n",
       "0   http://steamcommunity.com/id/--000--  \n",
       "1   http://steamcommunity.com/id/--000--  \n",
       "2   http://steamcommunity.com/id/--000--  \n",
       "3   http://steamcommunity.com/id/--000--  \n",
       "4   http://steamcommunity.com/id/--000--  \n",
       "5   http://steamcommunity.com/id/--000--  \n",
       "6   http://steamcommunity.com/id/--000--  \n",
       "7   http://steamcommunity.com/id/--000--  \n",
       "8   http://steamcommunity.com/id/--000--  \n",
       "9   http://steamcommunity.com/id/--000--  \n",
       "10  http://steamcommunity.com/id/--000--  \n",
       "11  http://steamcommunity.com/id/--000--  \n",
       "12  http://steamcommunity.com/id/--ace--  \n",
       "13  http://steamcommunity.com/id/--ace--  \n",
       "14  http://steamcommunity.com/id/--ace--  "
      ]
     },
     "execution_count": 539,
     "metadata": {},
     "output_type": "execute_result"
    }
   ],
   "source": [
    "df_agg.head(15)"
   ]
  },
  {
   "cell_type": "markdown",
   "id": "68c46d26",
   "metadata": {},
   "source": [
    "Guardo el dataset a un csv para luego alimentar a la función."
   ]
  },
  {
   "cell_type": "code",
   "execution_count": 540,
   "id": "f17ce7f9",
   "metadata": {},
   "outputs": [],
   "source": [
    "df_agg.to_csv('userforgenre')"
   ]
  },
  {
   "cell_type": "markdown",
   "id": "c981e22e",
   "metadata": {},
   "source": [
    "### Genero la Funcion 4:"
   ]
  },
  {
   "cell_type": "code",
   "execution_count": 665,
   "id": "2ec39155",
   "metadata": {},
   "outputs": [],
   "source": [
    "def userforgenre (df,genero):\n",
    "   \n",
    "    gen=genero\n",
    "    df_filtrado = df[df['genres'] == gen]  \n",
    "    df_filtrado.sort_values(by=['horas'],ascending=False,inplace=True)\n",
    "    df_top5 = df_filtrado[['user_id','url']].head(5)\n",
    "    js= df_top5.to_json(orient = 'records') \n",
    "    return js\n"
   ]
  },
  {
   "cell_type": "code",
   "execution_count": 666,
   "id": "c4be4fb7",
   "metadata": {},
   "outputs": [
    {
     "name": "stderr",
     "output_type": "stream",
     "text": [
      "<ipython-input-665-550439e61db6>:5: SettingWithCopyWarning: \n",
      "A value is trying to be set on a copy of a slice from a DataFrame\n",
      "\n",
      "See the caveats in the documentation: https://pandas.pydata.org/pandas-docs/stable/user_guide/indexing.html#returning-a-view-versus-a-copy\n",
      "  df_filtrado.sort_values(by=['horas'],ascending=False,inplace=True)\n"
     ]
    },
    {
     "data": {
      "text/plain": [
       "'[{\"user_id\":\"DeEggMeister\",\"url\":\"http:\\\\/\\\\/steamcommunity.com\\\\/id\\\\/DeEggMeister\"},{\"user_id\":\"inven\",\"url\":\"http:\\\\/\\\\/steamcommunity.com\\\\/id\\\\/inven\"},{\"user_id\":\"Outbackalien\",\"url\":\"http:\\\\/\\\\/steamcommunity.com\\\\/id\\\\/Outbackalien\"},{\"user_id\":\"kitty_47\",\"url\":\"http:\\\\/\\\\/steamcommunity.com\\\\/id\\\\/kitty_47\"},{\"user_id\":\"Brizbrenz\",\"url\":\"http:\\\\/\\\\/steamcommunity.com\\\\/id\\\\/Brizbrenz\"}]'"
      ]
     },
     "execution_count": 666,
     "metadata": {},
     "output_type": "execute_result"
    }
   ],
   "source": [
    "userforgenre(df_agg,'Action')"
   ]
  },
  {
   "cell_type": "markdown",
   "id": "fc71526b",
   "metadata": {},
   "source": [
    "## FUNCION 5:\n",
    "## def developer( desarrollador : str ): Cantidad de items y porcentaje de contenido Free por año según empresa desarrolladora. Ejemplo de salida:"
   ]
  },
  {
   "cell_type": "markdown",
   "id": "2307ba82",
   "metadata": {},
   "source": [
    "### Voy a generar un dataset para la funcion que contenga, empresa desarrolladora, porcentaje de contendido libre"
   ]
  },
  {
   "cell_type": "markdown",
   "id": "8a83db7c",
   "metadata": {},
   "source": [
    "Genero un dataset para realizar los calculos tomando las columnas que necesito del df_steams"
   ]
  },
  {
   "cell_type": "code",
   "execution_count": 560,
   "id": "276eff14",
   "metadata": {},
   "outputs": [],
   "source": [
    "df_developer=df_steam[['id','developer','price','year']]"
   ]
  },
  {
   "cell_type": "markdown",
   "id": "74a8c74d",
   "metadata": {},
   "source": [
    "Genero una columna que ponga un 1 si el precio es 0 para identificar el contenido Free"
   ]
  },
  {
   "cell_type": "code",
   "execution_count": 561,
   "id": "ca425452",
   "metadata": {},
   "outputs": [
    {
     "name": "stderr",
     "output_type": "stream",
     "text": [
      "C:\\Users\\silde\\anaconda3\\envs\\dhdsblend2021\\lib\\site-packages\\pandas\\core\\indexing.py:1596: SettingWithCopyWarning: \n",
      "A value is trying to be set on a copy of a slice from a DataFrame.\n",
      "Try using .loc[row_indexer,col_indexer] = value instead\n",
      "\n",
      "See the caveats in the documentation: https://pandas.pydata.org/pandas-docs/stable/user_guide/indexing.html#returning-a-view-versus-a-copy\n",
      "  self.obj[key] = _infer_fill_value(value)\n"
     ]
    }
   ],
   "source": [
    "#df_developer['is_free']=df_developer.apply(lambda x: 1 if x['price']==0 else 0,axis=1)\n",
    "df_developer.loc[:, 'is_free'] = df_developer.apply(lambda x: 1 if x['price'] == 0 else 0, axis=1)"
   ]
  },
  {
   "cell_type": "code",
   "execution_count": 547,
   "id": "2bddde3d",
   "metadata": {},
   "outputs": [
    {
     "data": {
      "text/html": [
       "<div>\n",
       "<style scoped>\n",
       "    .dataframe tbody tr th:only-of-type {\n",
       "        vertical-align: middle;\n",
       "    }\n",
       "\n",
       "    .dataframe tbody tr th {\n",
       "        vertical-align: top;\n",
       "    }\n",
       "\n",
       "    .dataframe thead th {\n",
       "        text-align: right;\n",
       "    }\n",
       "</style>\n",
       "<table border=\"1\" class=\"dataframe\">\n",
       "  <thead>\n",
       "    <tr style=\"text-align: right;\">\n",
       "      <th></th>\n",
       "      <th>id</th>\n",
       "      <th>developer</th>\n",
       "      <th>price</th>\n",
       "      <th>year</th>\n",
       "      <th>is_free</th>\n",
       "    </tr>\n",
       "  </thead>\n",
       "  <tbody>\n",
       "    <tr>\n",
       "      <th>88310</th>\n",
       "      <td>761140.0</td>\n",
       "      <td>Kotoshiro</td>\n",
       "      <td>4.99</td>\n",
       "      <td>2018.0</td>\n",
       "      <td>0</td>\n",
       "    </tr>\n",
       "    <tr>\n",
       "      <th>88311</th>\n",
       "      <td>643980.0</td>\n",
       "      <td>Secret Level SRL</td>\n",
       "      <td>0.00</td>\n",
       "      <td>2018.0</td>\n",
       "      <td>1</td>\n",
       "    </tr>\n",
       "    <tr>\n",
       "      <th>88312</th>\n",
       "      <td>670290.0</td>\n",
       "      <td>Poolians.com</td>\n",
       "      <td>0.00</td>\n",
       "      <td>2017.0</td>\n",
       "      <td>1</td>\n",
       "    </tr>\n",
       "    <tr>\n",
       "      <th>88313</th>\n",
       "      <td>767400.0</td>\n",
       "      <td>彼岸领域</td>\n",
       "      <td>0.99</td>\n",
       "      <td>2017.0</td>\n",
       "      <td>0</td>\n",
       "    </tr>\n",
       "    <tr>\n",
       "      <th>88314</th>\n",
       "      <td>773570.0</td>\n",
       "      <td>None</td>\n",
       "      <td>2.99</td>\n",
       "      <td>NaN</td>\n",
       "      <td>0</td>\n",
       "    </tr>\n",
       "    <tr>\n",
       "      <th>...</th>\n",
       "      <td>...</td>\n",
       "      <td>...</td>\n",
       "      <td>...</td>\n",
       "      <td>...</td>\n",
       "      <td>...</td>\n",
       "    </tr>\n",
       "    <tr>\n",
       "      <th>120440</th>\n",
       "      <td>773640.0</td>\n",
       "      <td>Nikita \"Ghost_RUS\"</td>\n",
       "      <td>1.99</td>\n",
       "      <td>2018.0</td>\n",
       "      <td>0</td>\n",
       "    </tr>\n",
       "    <tr>\n",
       "      <th>120441</th>\n",
       "      <td>733530.0</td>\n",
       "      <td>Sacada</td>\n",
       "      <td>4.99</td>\n",
       "      <td>2018.0</td>\n",
       "      <td>0</td>\n",
       "    </tr>\n",
       "    <tr>\n",
       "      <th>120442</th>\n",
       "      <td>610660.0</td>\n",
       "      <td>Laush Dmitriy Sergeevich</td>\n",
       "      <td>1.99</td>\n",
       "      <td>2018.0</td>\n",
       "      <td>0</td>\n",
       "    </tr>\n",
       "    <tr>\n",
       "      <th>120443</th>\n",
       "      <td>658870.0</td>\n",
       "      <td>xropi,stev3ns</td>\n",
       "      <td>4.99</td>\n",
       "      <td>2017.0</td>\n",
       "      <td>0</td>\n",
       "    </tr>\n",
       "    <tr>\n",
       "      <th>120444</th>\n",
       "      <td>681550.0</td>\n",
       "      <td>None</td>\n",
       "      <td>4.99</td>\n",
       "      <td>NaN</td>\n",
       "      <td>0</td>\n",
       "    </tr>\n",
       "  </tbody>\n",
       "</table>\n",
       "<p>32135 rows × 5 columns</p>\n",
       "</div>"
      ],
      "text/plain": [
       "              id                 developer  price    year  is_free\n",
       "88310   761140.0                 Kotoshiro   4.99  2018.0        0\n",
       "88311   643980.0          Secret Level SRL   0.00  2018.0        1\n",
       "88312   670290.0              Poolians.com   0.00  2017.0        1\n",
       "88313   767400.0                      彼岸领域   0.99  2017.0        0\n",
       "88314   773570.0                      None   2.99     NaN        0\n",
       "...          ...                       ...    ...     ...      ...\n",
       "120440  773640.0        Nikita \"Ghost_RUS\"   1.99  2018.0        0\n",
       "120441  733530.0                    Sacada   4.99  2018.0        0\n",
       "120442  610660.0  Laush Dmitriy Sergeevich   1.99  2018.0        0\n",
       "120443  658870.0             xropi,stev3ns   4.99  2017.0        0\n",
       "120444  681550.0                      None   4.99     NaN        0\n",
       "\n",
       "[32135 rows x 5 columns]"
      ]
     },
     "execution_count": 547,
     "metadata": {},
     "output_type": "execute_result"
    }
   ],
   "source": [
    "df_developer"
   ]
  },
  {
   "cell_type": "markdown",
   "id": "1681f8f9",
   "metadata": {},
   "source": [
    "Agrupo por desarrollador, por año y aplico suma a columna free_it, y la user_url me quedo con la primera ya que son todas iguales."
   ]
  },
  {
   "cell_type": "code",
   "execution_count": 548,
   "id": "c872e8ee",
   "metadata": {},
   "outputs": [],
   "source": [
    "#df_agg= df_userforgenre_exp. groupby (['user_id', 'genres']).agg (horas=('playtime_forever','sum'),url=('user_url','first')). reset_index ()\n",
    "df_dv_agg=df_developer. groupby (['developer','year']).agg(todos_it = ('is_free','count'),free_it = ('is_free','sum')). reset_index ()"
   ]
  },
  {
   "cell_type": "markdown",
   "id": "e9c8efb6",
   "metadata": {},
   "source": [
    "Al dataframe agrupado le agrego una columna con el calculo del porcenjaje."
   ]
  },
  {
   "cell_type": "code",
   "execution_count": 549,
   "id": "e2d61551",
   "metadata": {},
   "outputs": [],
   "source": [
    "df_dv_agg['porcentaje_free'] = (df_dv_agg ['free_it']/df_dv_agg ['todos_it'])*100"
   ]
  },
  {
   "cell_type": "markdown",
   "id": "b1da7d7f",
   "metadata": {},
   "source": [
    "Genero un dataset de salida para la funcion que tenga las columnas necesarias, desarrollador, año y contenido libre"
   ]
  },
  {
   "cell_type": "code",
   "execution_count": 551,
   "id": "1afca3a2",
   "metadata": {},
   "outputs": [],
   "source": [
    "df_salida =df_dv_agg[['developer','year','porcentaje_free']].copy()"
   ]
  },
  {
   "cell_type": "code",
   "execution_count": 562,
   "id": "4cd31006",
   "metadata": {},
   "outputs": [
    {
     "data": {
      "text/html": [
       "<div>\n",
       "<style scoped>\n",
       "    .dataframe tbody tr th:only-of-type {\n",
       "        vertical-align: middle;\n",
       "    }\n",
       "\n",
       "    .dataframe tbody tr th {\n",
       "        vertical-align: top;\n",
       "    }\n",
       "\n",
       "    .dataframe thead th {\n",
       "        text-align: right;\n",
       "    }\n",
       "</style>\n",
       "<table border=\"1\" class=\"dataframe\">\n",
       "  <thead>\n",
       "    <tr style=\"text-align: right;\">\n",
       "      <th></th>\n",
       "      <th>developer</th>\n",
       "      <th>year</th>\n",
       "      <th>porcentaje_free</th>\n",
       "    </tr>\n",
       "  </thead>\n",
       "  <tbody>\n",
       "    <tr>\n",
       "      <th>12300</th>\n",
       "      <td>Team B.R.O.S.</td>\n",
       "      <td>2017.0</td>\n",
       "      <td>100.0</td>\n",
       "    </tr>\n",
       "    <tr>\n",
       "      <th>9544</th>\n",
       "      <td>PixelSoft</td>\n",
       "      <td>2017.0</td>\n",
       "      <td>100.0</td>\n",
       "    </tr>\n",
       "    <tr>\n",
       "      <th>12706</th>\n",
       "      <td>Tigerish Games</td>\n",
       "      <td>2015.0</td>\n",
       "      <td>100.0</td>\n",
       "    </tr>\n",
       "    <tr>\n",
       "      <th>2334</th>\n",
       "      <td>Chad Meffert</td>\n",
       "      <td>2017.0</td>\n",
       "      <td>100.0</td>\n",
       "    </tr>\n",
       "    <tr>\n",
       "      <th>5827</th>\n",
       "      <td>Holy Priest</td>\n",
       "      <td>2015.0</td>\n",
       "      <td>100.0</td>\n",
       "    </tr>\n",
       "    <tr>\n",
       "      <th>...</th>\n",
       "      <td>...</td>\n",
       "      <td>...</td>\n",
       "      <td>...</td>\n",
       "    </tr>\n",
       "    <tr>\n",
       "      <th>5206</th>\n",
       "      <td>Gato Salvaje S.L.</td>\n",
       "      <td>2015.0</td>\n",
       "      <td>0.0</td>\n",
       "    </tr>\n",
       "    <tr>\n",
       "      <th>5207</th>\n",
       "      <td>Gato Salvaje S.L.</td>\n",
       "      <td>2016.0</td>\n",
       "      <td>0.0</td>\n",
       "    </tr>\n",
       "    <tr>\n",
       "      <th>5208</th>\n",
       "      <td>Gaute Heggen</td>\n",
       "      <td>2017.0</td>\n",
       "      <td>0.0</td>\n",
       "    </tr>\n",
       "    <tr>\n",
       "      <th>5209</th>\n",
       "      <td>Gaweb Studio</td>\n",
       "      <td>2016.0</td>\n",
       "      <td>0.0</td>\n",
       "    </tr>\n",
       "    <tr>\n",
       "      <th>14862</th>\n",
       "      <td>高考恋爱委员会,橘子班</td>\n",
       "      <td>2017.0</td>\n",
       "      <td>0.0</td>\n",
       "    </tr>\n",
       "  </tbody>\n",
       "</table>\n",
       "<p>14863 rows × 3 columns</p>\n",
       "</div>"
      ],
      "text/plain": [
       "               developer    year  porcentaje_free\n",
       "12300      Team B.R.O.S.  2017.0            100.0\n",
       "9544           PixelSoft  2017.0            100.0\n",
       "12706     Tigerish Games  2015.0            100.0\n",
       "2334        Chad Meffert  2017.0            100.0\n",
       "5827         Holy Priest  2015.0            100.0\n",
       "...                  ...     ...              ...\n",
       "5206   Gato Salvaje S.L.  2015.0              0.0\n",
       "5207   Gato Salvaje S.L.  2016.0              0.0\n",
       "5208        Gaute Heggen  2017.0              0.0\n",
       "5209        Gaweb Studio  2016.0              0.0\n",
       "14862        高考恋爱委员会,橘子班  2017.0              0.0\n",
       "\n",
       "[14863 rows x 3 columns]"
      ]
     },
     "execution_count": 562,
     "metadata": {},
     "output_type": "execute_result"
    }
   ],
   "source": [
    "df_salida"
   ]
  },
  {
   "cell_type": "markdown",
   "id": "04cec7c9",
   "metadata": {},
   "source": [
    "Guardo el dataset a un csv para luego alimentar a la función."
   ]
  },
  {
   "cell_type": "code",
   "execution_count": 566,
   "id": "57b6a8a7",
   "metadata": {},
   "outputs": [],
   "source": [
    "df_salida.to_csv('developer.csv')"
   ]
  },
  {
   "cell_type": "markdown",
   "id": "12433cc3",
   "metadata": {},
   "source": [
    "### Genero la Funcion 5:"
   ]
  },
  {
   "cell_type": "code",
   "execution_count": 671,
   "id": "f2f4282f",
   "metadata": {},
   "outputs": [],
   "source": [
    "def developer (df,desarrollador):\n",
    "   \n",
    "    des=desarrollador\n",
    "    df_filtrado = df[df['developer'] == des]  \n",
    "    df_dev=df_filtrado[['year','porcentaje_free']]\n",
    "    js= df_dev.to_json(orient = 'records')\n",
    "    return js"
   ]
  },
  {
   "cell_type": "code",
   "execution_count": 672,
   "id": "1783d8f3",
   "metadata": {},
   "outputs": [
    {
     "data": {
      "text/plain": [
       "'[{\"year\":1993.0,\"porcentaje_free\":0.0},{\"year\":1996.0,\"porcentaje_free\":0.0},{\"year\":1997.0,\"porcentaje_free\":0.0},{\"year\":2000.0,\"porcentaje_free\":0.0}]'"
      ]
     },
     "execution_count": 672,
     "metadata": {},
     "output_type": "execute_result"
    }
   ],
   "source": [
    "developer(df_salida,'Activision')"
   ]
  },
  {
   "cell_type": "code",
   "execution_count": 190,
   "id": "b329da20",
   "metadata": {},
   "outputs": [],
   "source": []
  },
  {
   "cell_type": "code",
   "execution_count": null,
   "id": "5f720b65",
   "metadata": {},
   "outputs": [],
   "source": []
  },
  {
   "cell_type": "code",
   "execution_count": null,
   "id": "f38bb1a6",
   "metadata": {},
   "outputs": [],
   "source": []
  },
  {
   "cell_type": "markdown",
   "id": "19a6b140",
   "metadata": {},
   "source": [
    "## FUNCION 6\n",
    "## def sentiment_analysis( año : int ): Según el año de lanzamiento(posted), se devuelve una lista con la cantidad de registros de reseñas de usuarios que se encuentren categorizados con un análisis de sentimiento.\n"
   ]
  },
  {
   "cell_type": "markdown",
   "id": "cf988a6f",
   "metadata": {},
   "source": [
    "### Voy a generar un dataset para la funcion que contenga, año de posteo y una columa por cada categoria de sentiment_analysis"
   ]
  },
  {
   "cell_type": "code",
   "execution_count": 575,
   "id": "3ca843b8",
   "metadata": {},
   "outputs": [
    {
     "data": {
      "text/plain": [
       "Index(['user_id', 'user_url', 'funny', 'posted', 'last_edited', 'item_id',\n",
       "       'helpful', 'recommend', 'review', 'posted2', 'mes_dia', 'año',\n",
       "       'sentiment_analysis', 'año_posted'],\n",
       "      dtype='object')"
      ]
     },
     "execution_count": 575,
     "metadata": {},
     "output_type": "execute_result"
    }
   ],
   "source": [
    "final_rev.columns"
   ]
  },
  {
   "cell_type": "code",
   "execution_count": 577,
   "id": "35b00848",
   "metadata": {},
   "outputs": [],
   "source": [
    "df_sentiment_analysis=final_rev[['posted','año_posted','sentiment_analysis']]"
   ]
  },
  {
   "cell_type": "markdown",
   "id": "ef216e68",
   "metadata": {},
   "source": [
    "voy a generar dummies para la columna sentimient_analysis"
   ]
  },
  {
   "cell_type": "code",
   "execution_count": 578,
   "id": "595adbdd",
   "metadata": {},
   "outputs": [],
   "source": [
    "df_sentiment_analysis_dummies = pd.get_dummies( df_sentiment_analysis,columns=['sentiment_analysis'], \n",
    "                            drop_first = False, dtype=int)"
   ]
  },
  {
   "cell_type": "code",
   "execution_count": 580,
   "id": "e64ca6f7",
   "metadata": {},
   "outputs": [
    {
     "data": {
      "text/html": [
       "<div>\n",
       "<style scoped>\n",
       "    .dataframe tbody tr th:only-of-type {\n",
       "        vertical-align: middle;\n",
       "    }\n",
       "\n",
       "    .dataframe tbody tr th {\n",
       "        vertical-align: top;\n",
       "    }\n",
       "\n",
       "    .dataframe thead th {\n",
       "        text-align: right;\n",
       "    }\n",
       "</style>\n",
       "<table border=\"1\" class=\"dataframe\">\n",
       "  <thead>\n",
       "    <tr style=\"text-align: right;\">\n",
       "      <th></th>\n",
       "      <th>posted</th>\n",
       "      <th>año_posted</th>\n",
       "      <th>sentiment_analysis_negativo</th>\n",
       "      <th>sentiment_analysis_neutral</th>\n",
       "      <th>sentiment_analysis_positivo</th>\n",
       "    </tr>\n",
       "  </thead>\n",
       "  <tbody>\n",
       "    <tr>\n",
       "      <th>0</th>\n",
       "      <td>2011-11-05</td>\n",
       "      <td>2011.0</td>\n",
       "      <td>0</td>\n",
       "      <td>0</td>\n",
       "      <td>1</td>\n",
       "    </tr>\n",
       "    <tr>\n",
       "      <th>1</th>\n",
       "      <td>2011-07-15</td>\n",
       "      <td>2011.0</td>\n",
       "      <td>0</td>\n",
       "      <td>0</td>\n",
       "      <td>1</td>\n",
       "    </tr>\n",
       "  </tbody>\n",
       "</table>\n",
       "</div>"
      ],
      "text/plain": [
       "      posted  año_posted  sentiment_analysis_negativo  \\\n",
       "0 2011-11-05      2011.0                            0   \n",
       "1 2011-07-15      2011.0                            0   \n",
       "\n",
       "   sentiment_analysis_neutral  sentiment_analysis_positivo  \n",
       "0                           0                            1  \n",
       "1                           0                            1  "
      ]
     },
     "execution_count": 580,
     "metadata": {},
     "output_type": "execute_result"
    }
   ],
   "source": [
    "df_sentiment_analysis_dummies.head(2)"
   ]
  },
  {
   "cell_type": "markdown",
   "id": "4de65c6e",
   "metadata": {},
   "source": [
    "Agrupo por año para obtener el dataset final para alimentar la funcion. "
   ]
  },
  {
   "cell_type": "code",
   "execution_count": 585,
   "id": "28c7eea9",
   "metadata": {},
   "outputs": [],
   "source": [
    "df_sentiment_analysis_dummies_agg=df_sentiment_analysis_dummies. groupby (['año_posted']).agg(positivo = ('sentiment_analysis_positivo','sum'),negativo = ('sentiment_analysis_negativo','sum'), neutral=('sentiment_analysis_neutral','sum')). reset_index ()"
   ]
  },
  {
   "cell_type": "code",
   "execution_count": 587,
   "id": "7a4f4175",
   "metadata": {},
   "outputs": [
    {
     "data": {
      "text/html": [
       "<div>\n",
       "<style scoped>\n",
       "    .dataframe tbody tr th:only-of-type {\n",
       "        vertical-align: middle;\n",
       "    }\n",
       "\n",
       "    .dataframe tbody tr th {\n",
       "        vertical-align: top;\n",
       "    }\n",
       "\n",
       "    .dataframe thead th {\n",
       "        text-align: right;\n",
       "    }\n",
       "</style>\n",
       "<table border=\"1\" class=\"dataframe\">\n",
       "  <thead>\n",
       "    <tr style=\"text-align: right;\">\n",
       "      <th></th>\n",
       "      <th>año_posted</th>\n",
       "      <th>positivo</th>\n",
       "      <th>negativo</th>\n",
       "      <th>neutral</th>\n",
       "    </tr>\n",
       "  </thead>\n",
       "  <tbody>\n",
       "    <tr>\n",
       "      <th>0</th>\n",
       "      <td>2010.0</td>\n",
       "      <td>48</td>\n",
       "      <td>10</td>\n",
       "      <td>8</td>\n",
       "    </tr>\n",
       "    <tr>\n",
       "      <th>1</th>\n",
       "      <td>2011.0</td>\n",
       "      <td>397</td>\n",
       "      <td>61</td>\n",
       "      <td>72</td>\n",
       "    </tr>\n",
       "    <tr>\n",
       "      <th>2</th>\n",
       "      <td>2012.0</td>\n",
       "      <td>832</td>\n",
       "      <td>144</td>\n",
       "      <td>233</td>\n",
       "    </tr>\n",
       "    <tr>\n",
       "      <th>3</th>\n",
       "      <td>2013.0</td>\n",
       "      <td>4671</td>\n",
       "      <td>756</td>\n",
       "      <td>1350</td>\n",
       "    </tr>\n",
       "    <tr>\n",
       "      <th>4</th>\n",
       "      <td>2014.0</td>\n",
       "      <td>14218</td>\n",
       "      <td>3308</td>\n",
       "      <td>4534</td>\n",
       "    </tr>\n",
       "    <tr>\n",
       "      <th>5</th>\n",
       "      <td>2015.0</td>\n",
       "      <td>11153</td>\n",
       "      <td>3372</td>\n",
       "      <td>3903</td>\n",
       "    </tr>\n",
       "  </tbody>\n",
       "</table>\n",
       "</div>"
      ],
      "text/plain": [
       "   año_posted  positivo  negativo  neutral\n",
       "0      2010.0        48        10        8\n",
       "1      2011.0       397        61       72\n",
       "2      2012.0       832       144      233\n",
       "3      2013.0      4671       756     1350\n",
       "4      2014.0     14218      3308     4534\n",
       "5      2015.0     11153      3372     3903"
      ]
     },
     "execution_count": 587,
     "metadata": {},
     "output_type": "execute_result"
    }
   ],
   "source": [
    "df_sentiment_analysis_dummies_agg.head(10)"
   ]
  },
  {
   "cell_type": "markdown",
   "id": "77688a7e",
   "metadata": {},
   "source": [
    "Guardo el dataset a un csv para luego alimentar a la función."
   ]
  },
  {
   "cell_type": "code",
   "execution_count": 588,
   "id": "2c164deb",
   "metadata": {},
   "outputs": [],
   "source": [
    "df_sentiment_analysis_dummies_agg.to_csv('sentiment_analysis')"
   ]
  },
  {
   "cell_type": "markdown",
   "id": "0ae6a9cb",
   "metadata": {},
   "source": [
    "### Genero la Funcion 6:"
   ]
  },
  {
   "cell_type": "code",
   "execution_count": 674,
   "id": "dc794c7a",
   "metadata": {},
   "outputs": [],
   "source": [
    "def sentiment_analysis(df,año):\n",
    "    year=año\n",
    "    df_s = df[df['año_posted'] == year]\n",
    "    js= df_s.to_json(orient = 'records')\n",
    "    return js"
   ]
  },
  {
   "cell_type": "code",
   "execution_count": 675,
   "id": "e670ab3a",
   "metadata": {},
   "outputs": [
    {
     "data": {
      "text/plain": [
       "'[{\"a\\\\u00f1o_posted\":2014.0,\"positivo\":14218,\"negativo\":3308,\"neutral\":4534}]'"
      ]
     },
     "execution_count": 675,
     "metadata": {},
     "output_type": "execute_result"
    }
   ],
   "source": [
    "sentiment_analysis(df_sentiment_analysis_dummies_agg,2014)"
   ]
  },
  {
   "cell_type": "code",
   "execution_count": null,
   "id": "9ed42e01",
   "metadata": {},
   "outputs": [],
   "source": []
  },
  {
   "cell_type": "code",
   "execution_count": null,
   "id": "b416ffb4",
   "metadata": {},
   "outputs": [],
   "source": []
  },
  {
   "cell_type": "code",
   "execution_count": null,
   "id": "b42faa20",
   "metadata": {},
   "outputs": [],
   "source": []
  },
  {
   "cell_type": "code",
   "execution_count": null,
   "id": "7b1eaa27",
   "metadata": {},
   "outputs": [],
   "source": []
  }
 ],
 "metadata": {
  "kernelspec": {
   "display_name": "Python 3",
   "language": "python",
   "name": "python3"
  },
  "language_info": {
   "codemirror_mode": {
    "name": "ipython",
    "version": 3
   },
   "file_extension": ".py",
   "mimetype": "text/x-python",
   "name": "python",
   "nbconvert_exporter": "python",
   "pygments_lexer": "ipython3",
   "version": "3.8.10"
  }
 },
 "nbformat": 4,
 "nbformat_minor": 5
}
